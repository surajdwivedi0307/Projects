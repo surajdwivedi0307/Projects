{
  "cells": [
    {
      "cell_type": "markdown",
      "id": "f5428bde-3773-40a7-8e08-cd4e808a0d6a",
      "metadata": {
        "scrolled": true,
        "id": "f5428bde-3773-40a7-8e08-cd4e808a0d6a"
      },
      "source": [
        "# <span style=\"font-size: 40px; color: blue;\"> Assignment DCPP-12410082 by Suraj Dwivedi </span>\n"
      ]
    },
    {
      "cell_type": "code",
      "execution_count": 1,
      "id": "06fa2be6-5884-48f9-a34e-f0d17ad16d75",
      "metadata": {
        "id": "06fa2be6-5884-48f9-a34e-f0d17ad16d75"
      },
      "outputs": [],
      "source": [
        "#importing libraries\n",
        "import numpy as np\n",
        "import pandas as pd\n",
        "import requests\n",
        "from IPython.display import HTML\n",
        "from time import sleep\n",
        "import seaborn as sns\n",
        "import matplotlib.pyplot as plt"
      ]
    },
    {
      "cell_type": "markdown",
      "id": "048d3623-4d78-4756-be6a-08b83e52d187",
      "metadata": {
        "id": "048d3623-4d78-4756-be6a-08b83e52d187"
      },
      "source": [
        "# <span style=\"font-size: 30px; color: brown;\"> Question 1 (90 pts)</span>\n"
      ]
    },
    {
      "cell_type": "markdown",
      "id": "92140dba-2f42-4596-ba76-54c079e2bf8b",
      "metadata": {
        "id": "92140dba-2f42-4596-ba76-54c079e2bf8b"
      },
      "source": [
        "## <span style=\"font-size: 20px; color: black;\"> 1. Use the API documentation at https://random-data-api.com/documentation hosted by random-data- api.com to create a dataset with the endpoint “users”. The data should capture 5000 users. (The APIgives a maximum of 100 random user profiles in one shot. You will have to write a loop to generate 5000 profiles). Format the data into a data frame. (10 pts)"
      ]
    },
    {
      "cell_type": "markdown",
      "id": "85b6f599-a02b-48da-984f-d851f36bc710",
      "metadata": {
        "id": "85b6f599-a02b-48da-984f-d851f36bc710"
      },
      "source": [
        "a prelim study of the API documentaion gives the following information\n",
        "Parameters\n",
        "* Base URI: https://random-data-api.com/api/v2/\n",
        "* Use size=number to fetch an array of any resource."
      ]
    },
    {
      "cell_type": "code",
      "execution_count": 2,
      "id": "71ef46ee-e1e1-4966-86c6-0135d2eba591",
      "metadata": {
        "id": "71ef46ee-e1e1-4966-86c6-0135d2eba591"
      },
      "outputs": [],
      "source": [
        "#testing the link to get the response\n",
        "random_data_api__users_response= requests.get(\"https://random-data-api.com/api/v2/users\")"
      ]
    },
    {
      "cell_type": "code",
      "execution_count": 3,
      "id": "9560bfda-4fe8-4434-bf3a-0dd3f9a099db",
      "metadata": {
        "id": "9560bfda-4fe8-4434-bf3a-0dd3f9a099db",
        "outputId": "3657d6fa-0e08-474d-f5bb-b89b60feb12f",
        "colab": {
          "base_uri": "https://localhost:8080/"
        }
      },
      "outputs": [
        {
          "output_type": "execute_result",
          "data": {
            "text/plain": [
              "200"
            ]
          },
          "metadata": {},
          "execution_count": 3
        }
      ],
      "source": [
        "# We will start by checking if the communication was successful and we received the response\n",
        "random_data_api__users_response.status_code"
      ]
    },
    {
      "cell_type": "code",
      "execution_count": 4,
      "id": "847fec84-7c28-4495-bb41-4b38ecde9e09",
      "metadata": {
        "id": "847fec84-7c28-4495-bb41-4b38ecde9e09",
        "outputId": "f4de14d8-764f-43fc-9eab-13d620903db0",
        "colab": {
          "base_uri": "https://localhost:8080/"
        }
      },
      "outputs": [
        {
          "output_type": "execute_result",
          "data": {
            "text/plain": [
              "{'Alt-Svc': 'h3=\":443\"; ma=2592000', 'Cache-Control': 'max-age=0, private, must-revalidate', 'Content-Encoding': 'gzip', 'Content-Type': 'application/json; charset=utf-8', 'Etag': 'W/\"03f54f0ea23c62ca95722c3bb4a2decf\"', 'Referrer-Policy': 'strict-origin-when-cross-origin', 'Server': 'Caddy', 'Strict-Transport-Security': 'max-age=63072000; includeSubDomains', 'Vary': 'Origin, Accept-Encoding', 'X-Content-Type-Options': 'nosniff', 'X-Frame-Options': 'SAMEORIGIN', 'X-Permitted-Cross-Domain-Policies': 'none', 'X-Request-Id': 'c322a8c5-63c1-4254-a4f6-cb7d0d201153', 'X-Runtime': '0.008147', 'X-Xss-Protection': '0', 'Date': 'Wed, 27 Nov 2024 09:18:34 GMT', 'Content-Length': '590'}"
            ]
          },
          "metadata": {},
          "execution_count": 4
        }
      ],
      "source": [
        "# We will now access the response headers\n",
        "random_data_api__users_response.headers"
      ]
    },
    {
      "cell_type": "code",
      "execution_count": 5,
      "id": "deb9b9a4-79a8-4b67-b501-23c58fe73c18",
      "metadata": {
        "id": "deb9b9a4-79a8-4b67-b501-23c58fe73c18",
        "outputId": "a63e1186-992a-4a08-e588-29550fa2f20e",
        "colab": {
          "base_uri": "https://localhost:8080/",
          "height": 35
        }
      },
      "outputs": [
        {
          "output_type": "execute_result",
          "data": {
            "text/plain": [
              "'application/json; charset=utf-8'"
            ],
            "application/vnd.google.colaboratory.intrinsic+json": {
              "type": "string"
            }
          },
          "metadata": {},
          "execution_count": 5
        }
      ],
      "source": [
        "random_data_api__users_response.headers['Content-Type']"
      ]
    },
    {
      "cell_type": "code",
      "execution_count": 6,
      "id": "c2e9756a-8d0b-4fbe-831e-1d7fe8beac34",
      "metadata": {
        "id": "c2e9756a-8d0b-4fbe-831e-1d7fe8beac34"
      },
      "outputs": [],
      "source": [
        "# The .content attribute will show the content as a byte literal\n",
        "#random_data_api__users_response.content"
      ]
    },
    {
      "cell_type": "code",
      "execution_count": 7,
      "id": "47c9f249-2913-4a3f-95ca-b70f4591b290",
      "metadata": {
        "id": "47c9f249-2913-4a3f-95ca-b70f4591b290"
      },
      "outputs": [],
      "source": [
        "# Returns the data in Unicode format i.e., readable format\n",
        "#random_data_api__users_response.text"
      ]
    },
    {
      "cell_type": "code",
      "execution_count": 8,
      "id": "16b40547-4e76-442e-b984-ab39b62b4dae",
      "metadata": {
        "id": "16b40547-4e76-442e-b984-ab39b62b4dae",
        "outputId": "24558528-b0f0-4cb8-d8ee-a1e37a545c22",
        "colab": {
          "base_uri": "https://localhost:8080/"
        }
      },
      "outputs": [
        {
          "output_type": "execute_result",
          "data": {
            "text/plain": [
              "{'id': 4547,\n",
              " 'uid': '4a311f2a-5745-4c3e-8dfc-ea3aeeca25cb',\n",
              " 'password': 'j12S5Nm9Gq',\n",
              " 'first_name': 'Sylvester',\n",
              " 'last_name': 'Fisher',\n",
              " 'username': 'sylvester.fisher',\n",
              " 'email': 'sylvester.fisher@email.com',\n",
              " 'avatar': 'https://robohash.org/veniamlaboriosamquibusdam.png?size=300x300&set=set1',\n",
              " 'gender': 'Genderfluid',\n",
              " 'phone_number': '+596 (784) 715-2206 x9957',\n",
              " 'social_insurance_number': '121716039',\n",
              " 'date_of_birth': '1965-11-30',\n",
              " 'employment': {'title': 'Sales Manager', 'key_skill': 'Self-motivated'},\n",
              " 'address': {'city': 'Claudietown',\n",
              "  'street_name': 'Marcellus Terrace',\n",
              "  'street_address': '51044 Kub Parkways',\n",
              "  'zip_code': '40735-0821',\n",
              "  'state': 'California',\n",
              "  'country': 'United States',\n",
              "  'coordinates': {'lat': 50.94430013760149, 'lng': 37.12668995722018}},\n",
              " 'credit_card': {'cc_number': '5214-5694-2563-8843'},\n",
              " 'subscription': {'plan': 'Gold',\n",
              "  'status': 'Active',\n",
              "  'payment_method': 'Visa checkout',\n",
              "  'term': 'Annual'}}"
            ]
          },
          "metadata": {},
          "execution_count": 8
        }
      ],
      "source": [
        "# For convenience and later storage as a dataframe, we will parse it into a json object\n",
        "# We can use the json() method available with a response object\n",
        "random_data_api__users_json = random_data_api__users_response.json()\n",
        "random_data_api__users_json"
      ]
    },
    {
      "cell_type": "code",
      "execution_count": 9,
      "id": "622871e5-851f-42ac-86e3-fd0462e9af51",
      "metadata": {
        "id": "622871e5-851f-42ac-86e3-fd0462e9af51"
      },
      "outputs": [],
      "source": [
        "#storing it as a dataframe by converting it into one\n",
        "random_data_api__users_df = pd.DataFrame(random_data_api__users_json)"
      ]
    },
    {
      "cell_type": "code",
      "execution_count": 10,
      "id": "24164985-c129-426c-82ee-46971e4a6a93",
      "metadata": {
        "id": "24164985-c129-426c-82ee-46971e4a6a93",
        "outputId": "7550ca1d-93d4-4cf5-e8ff-4aabb71abf90",
        "colab": {
          "base_uri": "https://localhost:8080/",
          "height": 320
        }
      },
      "outputs": [
        {
          "output_type": "execute_result",
          "data": {
            "text/plain": [
              "             id                                   uid    password first_name  \\\n",
              "title      4547  4a311f2a-5745-4c3e-8dfc-ea3aeeca25cb  j12S5Nm9Gq  Sylvester   \n",
              "key_skill  4547  4a311f2a-5745-4c3e-8dfc-ea3aeeca25cb  j12S5Nm9Gq  Sylvester   \n",
              "city       4547  4a311f2a-5745-4c3e-8dfc-ea3aeeca25cb  j12S5Nm9Gq  Sylvester   \n",
              "\n",
              "          last_name          username                       email  \\\n",
              "title        Fisher  sylvester.fisher  sylvester.fisher@email.com   \n",
              "key_skill    Fisher  sylvester.fisher  sylvester.fisher@email.com   \n",
              "city         Fisher  sylvester.fisher  sylvester.fisher@email.com   \n",
              "\n",
              "                                                      avatar       gender  \\\n",
              "title      https://robohash.org/veniamlaboriosamquibusdam...  Genderfluid   \n",
              "key_skill  https://robohash.org/veniamlaboriosamquibusdam...  Genderfluid   \n",
              "city       https://robohash.org/veniamlaboriosamquibusdam...  Genderfluid   \n",
              "\n",
              "                        phone_number social_insurance_number date_of_birth  \\\n",
              "title      +596 (784) 715-2206 x9957               121716039    1965-11-30   \n",
              "key_skill  +596 (784) 715-2206 x9957               121716039    1965-11-30   \n",
              "city       +596 (784) 715-2206 x9957               121716039    1965-11-30   \n",
              "\n",
              "               employment      address credit_card subscription  \n",
              "title       Sales Manager          NaN         NaN          NaN  \n",
              "key_skill  Self-motivated          NaN         NaN          NaN  \n",
              "city                  NaN  Claudietown         NaN          NaN  "
            ],
            "text/html": [
              "\n",
              "  <div id=\"df-a1c8f1fd-b840-4edf-8967-26c788e8e2a7\" class=\"colab-df-container\">\n",
              "    <div>\n",
              "<style scoped>\n",
              "    .dataframe tbody tr th:only-of-type {\n",
              "        vertical-align: middle;\n",
              "    }\n",
              "\n",
              "    .dataframe tbody tr th {\n",
              "        vertical-align: top;\n",
              "    }\n",
              "\n",
              "    .dataframe thead th {\n",
              "        text-align: right;\n",
              "    }\n",
              "</style>\n",
              "<table border=\"1\" class=\"dataframe\">\n",
              "  <thead>\n",
              "    <tr style=\"text-align: right;\">\n",
              "      <th></th>\n",
              "      <th>id</th>\n",
              "      <th>uid</th>\n",
              "      <th>password</th>\n",
              "      <th>first_name</th>\n",
              "      <th>last_name</th>\n",
              "      <th>username</th>\n",
              "      <th>email</th>\n",
              "      <th>avatar</th>\n",
              "      <th>gender</th>\n",
              "      <th>phone_number</th>\n",
              "      <th>social_insurance_number</th>\n",
              "      <th>date_of_birth</th>\n",
              "      <th>employment</th>\n",
              "      <th>address</th>\n",
              "      <th>credit_card</th>\n",
              "      <th>subscription</th>\n",
              "    </tr>\n",
              "  </thead>\n",
              "  <tbody>\n",
              "    <tr>\n",
              "      <th>title</th>\n",
              "      <td>4547</td>\n",
              "      <td>4a311f2a-5745-4c3e-8dfc-ea3aeeca25cb</td>\n",
              "      <td>j12S5Nm9Gq</td>\n",
              "      <td>Sylvester</td>\n",
              "      <td>Fisher</td>\n",
              "      <td>sylvester.fisher</td>\n",
              "      <td>sylvester.fisher@email.com</td>\n",
              "      <td>https://robohash.org/veniamlaboriosamquibusdam...</td>\n",
              "      <td>Genderfluid</td>\n",
              "      <td>+596 (784) 715-2206 x9957</td>\n",
              "      <td>121716039</td>\n",
              "      <td>1965-11-30</td>\n",
              "      <td>Sales Manager</td>\n",
              "      <td>NaN</td>\n",
              "      <td>NaN</td>\n",
              "      <td>NaN</td>\n",
              "    </tr>\n",
              "    <tr>\n",
              "      <th>key_skill</th>\n",
              "      <td>4547</td>\n",
              "      <td>4a311f2a-5745-4c3e-8dfc-ea3aeeca25cb</td>\n",
              "      <td>j12S5Nm9Gq</td>\n",
              "      <td>Sylvester</td>\n",
              "      <td>Fisher</td>\n",
              "      <td>sylvester.fisher</td>\n",
              "      <td>sylvester.fisher@email.com</td>\n",
              "      <td>https://robohash.org/veniamlaboriosamquibusdam...</td>\n",
              "      <td>Genderfluid</td>\n",
              "      <td>+596 (784) 715-2206 x9957</td>\n",
              "      <td>121716039</td>\n",
              "      <td>1965-11-30</td>\n",
              "      <td>Self-motivated</td>\n",
              "      <td>NaN</td>\n",
              "      <td>NaN</td>\n",
              "      <td>NaN</td>\n",
              "    </tr>\n",
              "    <tr>\n",
              "      <th>city</th>\n",
              "      <td>4547</td>\n",
              "      <td>4a311f2a-5745-4c3e-8dfc-ea3aeeca25cb</td>\n",
              "      <td>j12S5Nm9Gq</td>\n",
              "      <td>Sylvester</td>\n",
              "      <td>Fisher</td>\n",
              "      <td>sylvester.fisher</td>\n",
              "      <td>sylvester.fisher@email.com</td>\n",
              "      <td>https://robohash.org/veniamlaboriosamquibusdam...</td>\n",
              "      <td>Genderfluid</td>\n",
              "      <td>+596 (784) 715-2206 x9957</td>\n",
              "      <td>121716039</td>\n",
              "      <td>1965-11-30</td>\n",
              "      <td>NaN</td>\n",
              "      <td>Claudietown</td>\n",
              "      <td>NaN</td>\n",
              "      <td>NaN</td>\n",
              "    </tr>\n",
              "  </tbody>\n",
              "</table>\n",
              "</div>\n",
              "    <div class=\"colab-df-buttons\">\n",
              "\n",
              "  <div class=\"colab-df-container\">\n",
              "    <button class=\"colab-df-convert\" onclick=\"convertToInteractive('df-a1c8f1fd-b840-4edf-8967-26c788e8e2a7')\"\n",
              "            title=\"Convert this dataframe to an interactive table.\"\n",
              "            style=\"display:none;\">\n",
              "\n",
              "  <svg xmlns=\"http://www.w3.org/2000/svg\" height=\"24px\" viewBox=\"0 -960 960 960\">\n",
              "    <path d=\"M120-120v-720h720v720H120Zm60-500h600v-160H180v160Zm220 220h160v-160H400v160Zm0 220h160v-160H400v160ZM180-400h160v-160H180v160Zm440 0h160v-160H620v160ZM180-180h160v-160H180v160Zm440 0h160v-160H620v160Z\"/>\n",
              "  </svg>\n",
              "    </button>\n",
              "\n",
              "  <style>\n",
              "    .colab-df-container {\n",
              "      display:flex;\n",
              "      gap: 12px;\n",
              "    }\n",
              "\n",
              "    .colab-df-convert {\n",
              "      background-color: #E8F0FE;\n",
              "      border: none;\n",
              "      border-radius: 50%;\n",
              "      cursor: pointer;\n",
              "      display: none;\n",
              "      fill: #1967D2;\n",
              "      height: 32px;\n",
              "      padding: 0 0 0 0;\n",
              "      width: 32px;\n",
              "    }\n",
              "\n",
              "    .colab-df-convert:hover {\n",
              "      background-color: #E2EBFA;\n",
              "      box-shadow: 0px 1px 2px rgba(60, 64, 67, 0.3), 0px 1px 3px 1px rgba(60, 64, 67, 0.15);\n",
              "      fill: #174EA6;\n",
              "    }\n",
              "\n",
              "    .colab-df-buttons div {\n",
              "      margin-bottom: 4px;\n",
              "    }\n",
              "\n",
              "    [theme=dark] .colab-df-convert {\n",
              "      background-color: #3B4455;\n",
              "      fill: #D2E3FC;\n",
              "    }\n",
              "\n",
              "    [theme=dark] .colab-df-convert:hover {\n",
              "      background-color: #434B5C;\n",
              "      box-shadow: 0px 1px 3px 1px rgba(0, 0, 0, 0.15);\n",
              "      filter: drop-shadow(0px 1px 2px rgba(0, 0, 0, 0.3));\n",
              "      fill: #FFFFFF;\n",
              "    }\n",
              "  </style>\n",
              "\n",
              "    <script>\n",
              "      const buttonEl =\n",
              "        document.querySelector('#df-a1c8f1fd-b840-4edf-8967-26c788e8e2a7 button.colab-df-convert');\n",
              "      buttonEl.style.display =\n",
              "        google.colab.kernel.accessAllowed ? 'block' : 'none';\n",
              "\n",
              "      async function convertToInteractive(key) {\n",
              "        const element = document.querySelector('#df-a1c8f1fd-b840-4edf-8967-26c788e8e2a7');\n",
              "        const dataTable =\n",
              "          await google.colab.kernel.invokeFunction('convertToInteractive',\n",
              "                                                    [key], {});\n",
              "        if (!dataTable) return;\n",
              "\n",
              "        const docLinkHtml = 'Like what you see? Visit the ' +\n",
              "          '<a target=\"_blank\" href=https://colab.research.google.com/notebooks/data_table.ipynb>data table notebook</a>'\n",
              "          + ' to learn more about interactive tables.';\n",
              "        element.innerHTML = '';\n",
              "        dataTable['output_type'] = 'display_data';\n",
              "        await google.colab.output.renderOutput(dataTable, element);\n",
              "        const docLink = document.createElement('div');\n",
              "        docLink.innerHTML = docLinkHtml;\n",
              "        element.appendChild(docLink);\n",
              "      }\n",
              "    </script>\n",
              "  </div>\n",
              "\n",
              "\n",
              "<div id=\"df-837ac937-fd3d-4494-8189-c4ec8e45f6b3\">\n",
              "  <button class=\"colab-df-quickchart\" onclick=\"quickchart('df-837ac937-fd3d-4494-8189-c4ec8e45f6b3')\"\n",
              "            title=\"Suggest charts\"\n",
              "            style=\"display:none;\">\n",
              "\n",
              "<svg xmlns=\"http://www.w3.org/2000/svg\" height=\"24px\"viewBox=\"0 0 24 24\"\n",
              "     width=\"24px\">\n",
              "    <g>\n",
              "        <path d=\"M19 3H5c-1.1 0-2 .9-2 2v14c0 1.1.9 2 2 2h14c1.1 0 2-.9 2-2V5c0-1.1-.9-2-2-2zM9 17H7v-7h2v7zm4 0h-2V7h2v10zm4 0h-2v-4h2v4z\"/>\n",
              "    </g>\n",
              "</svg>\n",
              "  </button>\n",
              "\n",
              "<style>\n",
              "  .colab-df-quickchart {\n",
              "      --bg-color: #E8F0FE;\n",
              "      --fill-color: #1967D2;\n",
              "      --hover-bg-color: #E2EBFA;\n",
              "      --hover-fill-color: #174EA6;\n",
              "      --disabled-fill-color: #AAA;\n",
              "      --disabled-bg-color: #DDD;\n",
              "  }\n",
              "\n",
              "  [theme=dark] .colab-df-quickchart {\n",
              "      --bg-color: #3B4455;\n",
              "      --fill-color: #D2E3FC;\n",
              "      --hover-bg-color: #434B5C;\n",
              "      --hover-fill-color: #FFFFFF;\n",
              "      --disabled-bg-color: #3B4455;\n",
              "      --disabled-fill-color: #666;\n",
              "  }\n",
              "\n",
              "  .colab-df-quickchart {\n",
              "    background-color: var(--bg-color);\n",
              "    border: none;\n",
              "    border-radius: 50%;\n",
              "    cursor: pointer;\n",
              "    display: none;\n",
              "    fill: var(--fill-color);\n",
              "    height: 32px;\n",
              "    padding: 0;\n",
              "    width: 32px;\n",
              "  }\n",
              "\n",
              "  .colab-df-quickchart:hover {\n",
              "    background-color: var(--hover-bg-color);\n",
              "    box-shadow: 0 1px 2px rgba(60, 64, 67, 0.3), 0 1px 3px 1px rgba(60, 64, 67, 0.15);\n",
              "    fill: var(--button-hover-fill-color);\n",
              "  }\n",
              "\n",
              "  .colab-df-quickchart-complete:disabled,\n",
              "  .colab-df-quickchart-complete:disabled:hover {\n",
              "    background-color: var(--disabled-bg-color);\n",
              "    fill: var(--disabled-fill-color);\n",
              "    box-shadow: none;\n",
              "  }\n",
              "\n",
              "  .colab-df-spinner {\n",
              "    border: 2px solid var(--fill-color);\n",
              "    border-color: transparent;\n",
              "    border-bottom-color: var(--fill-color);\n",
              "    animation:\n",
              "      spin 1s steps(1) infinite;\n",
              "  }\n",
              "\n",
              "  @keyframes spin {\n",
              "    0% {\n",
              "      border-color: transparent;\n",
              "      border-bottom-color: var(--fill-color);\n",
              "      border-left-color: var(--fill-color);\n",
              "    }\n",
              "    20% {\n",
              "      border-color: transparent;\n",
              "      border-left-color: var(--fill-color);\n",
              "      border-top-color: var(--fill-color);\n",
              "    }\n",
              "    30% {\n",
              "      border-color: transparent;\n",
              "      border-left-color: var(--fill-color);\n",
              "      border-top-color: var(--fill-color);\n",
              "      border-right-color: var(--fill-color);\n",
              "    }\n",
              "    40% {\n",
              "      border-color: transparent;\n",
              "      border-right-color: var(--fill-color);\n",
              "      border-top-color: var(--fill-color);\n",
              "    }\n",
              "    60% {\n",
              "      border-color: transparent;\n",
              "      border-right-color: var(--fill-color);\n",
              "    }\n",
              "    80% {\n",
              "      border-color: transparent;\n",
              "      border-right-color: var(--fill-color);\n",
              "      border-bottom-color: var(--fill-color);\n",
              "    }\n",
              "    90% {\n",
              "      border-color: transparent;\n",
              "      border-bottom-color: var(--fill-color);\n",
              "    }\n",
              "  }\n",
              "</style>\n",
              "\n",
              "  <script>\n",
              "    async function quickchart(key) {\n",
              "      const quickchartButtonEl =\n",
              "        document.querySelector('#' + key + ' button');\n",
              "      quickchartButtonEl.disabled = true;  // To prevent multiple clicks.\n",
              "      quickchartButtonEl.classList.add('colab-df-spinner');\n",
              "      try {\n",
              "        const charts = await google.colab.kernel.invokeFunction(\n",
              "            'suggestCharts', [key], {});\n",
              "      } catch (error) {\n",
              "        console.error('Error during call to suggestCharts:', error);\n",
              "      }\n",
              "      quickchartButtonEl.classList.remove('colab-df-spinner');\n",
              "      quickchartButtonEl.classList.add('colab-df-quickchart-complete');\n",
              "    }\n",
              "    (() => {\n",
              "      let quickchartButtonEl =\n",
              "        document.querySelector('#df-837ac937-fd3d-4494-8189-c4ec8e45f6b3 button');\n",
              "      quickchartButtonEl.style.display =\n",
              "        google.colab.kernel.accessAllowed ? 'block' : 'none';\n",
              "    })();\n",
              "  </script>\n",
              "</div>\n",
              "\n",
              "    </div>\n",
              "  </div>\n"
            ],
            "application/vnd.google.colaboratory.intrinsic+json": {
              "type": "dataframe",
              "variable_name": "random_data_api__users_df",
              "summary": "{\n  \"name\": \"random_data_api__users_df\",\n  \"rows\": 14,\n  \"fields\": [\n    {\n      \"column\": \"id\",\n      \"properties\": {\n        \"dtype\": \"number\",\n        \"std\": 0,\n        \"min\": 4547,\n        \"max\": 4547,\n        \"num_unique_values\": 1,\n        \"samples\": [\n          4547\n        ],\n        \"semantic_type\": \"\",\n        \"description\": \"\"\n      }\n    },\n    {\n      \"column\": \"uid\",\n      \"properties\": {\n        \"dtype\": \"category\",\n        \"num_unique_values\": 1,\n        \"samples\": [\n          \"4a311f2a-5745-4c3e-8dfc-ea3aeeca25cb\"\n        ],\n        \"semantic_type\": \"\",\n        \"description\": \"\"\n      }\n    },\n    {\n      \"column\": \"password\",\n      \"properties\": {\n        \"dtype\": \"category\",\n        \"num_unique_values\": 1,\n        \"samples\": [\n          \"j12S5Nm9Gq\"\n        ],\n        \"semantic_type\": \"\",\n        \"description\": \"\"\n      }\n    },\n    {\n      \"column\": \"first_name\",\n      \"properties\": {\n        \"dtype\": \"category\",\n        \"num_unique_values\": 1,\n        \"samples\": [\n          \"Sylvester\"\n        ],\n        \"semantic_type\": \"\",\n        \"description\": \"\"\n      }\n    },\n    {\n      \"column\": \"last_name\",\n      \"properties\": {\n        \"dtype\": \"category\",\n        \"num_unique_values\": 1,\n        \"samples\": [\n          \"Fisher\"\n        ],\n        \"semantic_type\": \"\",\n        \"description\": \"\"\n      }\n    },\n    {\n      \"column\": \"username\",\n      \"properties\": {\n        \"dtype\": \"category\",\n        \"num_unique_values\": 1,\n        \"samples\": [\n          \"sylvester.fisher\"\n        ],\n        \"semantic_type\": \"\",\n        \"description\": \"\"\n      }\n    },\n    {\n      \"column\": \"email\",\n      \"properties\": {\n        \"dtype\": \"category\",\n        \"num_unique_values\": 1,\n        \"samples\": [\n          \"sylvester.fisher@email.com\"\n        ],\n        \"semantic_type\": \"\",\n        \"description\": \"\"\n      }\n    },\n    {\n      \"column\": \"avatar\",\n      \"properties\": {\n        \"dtype\": \"category\",\n        \"num_unique_values\": 1,\n        \"samples\": [\n          \"https://robohash.org/veniamlaboriosamquibusdam.png?size=300x300&set=set1\"\n        ],\n        \"semantic_type\": \"\",\n        \"description\": \"\"\n      }\n    },\n    {\n      \"column\": \"gender\",\n      \"properties\": {\n        \"dtype\": \"category\",\n        \"num_unique_values\": 1,\n        \"samples\": [\n          \"Genderfluid\"\n        ],\n        \"semantic_type\": \"\",\n        \"description\": \"\"\n      }\n    },\n    {\n      \"column\": \"phone_number\",\n      \"properties\": {\n        \"dtype\": \"category\",\n        \"num_unique_values\": 1,\n        \"samples\": [\n          \"+596 (784) 715-2206 x9957\"\n        ],\n        \"semantic_type\": \"\",\n        \"description\": \"\"\n      }\n    },\n    {\n      \"column\": \"social_insurance_number\",\n      \"properties\": {\n        \"dtype\": \"category\",\n        \"num_unique_values\": 1,\n        \"samples\": [\n          \"121716039\"\n        ],\n        \"semantic_type\": \"\",\n        \"description\": \"\"\n      }\n    },\n    {\n      \"column\": \"date_of_birth\",\n      \"properties\": {\n        \"dtype\": \"object\",\n        \"num_unique_values\": 1,\n        \"samples\": [\n          \"1965-11-30\"\n        ],\n        \"semantic_type\": \"\",\n        \"description\": \"\"\n      }\n    },\n    {\n      \"column\": \"employment\",\n      \"properties\": {\n        \"dtype\": \"category\",\n        \"num_unique_values\": 2,\n        \"samples\": [\n          \"Self-motivated\"\n        ],\n        \"semantic_type\": \"\",\n        \"description\": \"\"\n      }\n    },\n    {\n      \"column\": \"address\",\n      \"properties\": {\n        \"dtype\": \"object\",\n        \"semantic_type\": \"\",\n        \"description\": \"\"\n      }\n    },\n    {\n      \"column\": \"credit_card\",\n      \"properties\": {\n        \"dtype\": \"category\",\n        \"num_unique_values\": 1,\n        \"samples\": [\n          \"5214-5694-2563-8843\"\n        ],\n        \"semantic_type\": \"\",\n        \"description\": \"\"\n      }\n    },\n    {\n      \"column\": \"subscription\",\n      \"properties\": {\n        \"dtype\": \"category\",\n        \"num_unique_values\": 4,\n        \"samples\": [\n          \"Active\"\n        ],\n        \"semantic_type\": \"\",\n        \"description\": \"\"\n      }\n    }\n  ]\n}"
            }
          },
          "metadata": {},
          "execution_count": 10
        }
      ],
      "source": [
        "#checking the head of the dataframe\n",
        "random_data_api__users_df.head(3)"
      ]
    },
    {
      "cell_type": "code",
      "execution_count": 11,
      "id": "096bcdce-9045-40e2-8116-1cb2e4a55ca1",
      "metadata": {
        "scrolled": true,
        "id": "096bcdce-9045-40e2-8116-1cb2e4a55ca1",
        "outputId": "c7bdc860-084d-4b09-f943-ae03c251a1a3",
        "colab": {
          "base_uri": "https://localhost:8080/"
        }
      },
      "outputs": [
        {
          "output_type": "stream",
          "name": "stdout",
          "text": [
            "<class 'pandas.core.frame.DataFrame'>\n",
            "Index: 14 entries, title to term\n",
            "Data columns (total 16 columns):\n",
            " #   Column                   Non-Null Count  Dtype \n",
            "---  ------                   --------------  ----- \n",
            " 0   id                       14 non-null     int64 \n",
            " 1   uid                      14 non-null     object\n",
            " 2   password                 14 non-null     object\n",
            " 3   first_name               14 non-null     object\n",
            " 4   last_name                14 non-null     object\n",
            " 5   username                 14 non-null     object\n",
            " 6   email                    14 non-null     object\n",
            " 7   avatar                   14 non-null     object\n",
            " 8   gender                   14 non-null     object\n",
            " 9   phone_number             14 non-null     object\n",
            " 10  social_insurance_number  14 non-null     object\n",
            " 11  date_of_birth            14 non-null     object\n",
            " 12  employment               2 non-null      object\n",
            " 13  address                  7 non-null      object\n",
            " 14  credit_card              1 non-null      object\n",
            " 15  subscription             4 non-null      object\n",
            "dtypes: int64(1), object(15)\n",
            "memory usage: 2.4+ KB\n"
          ]
        }
      ],
      "source": [
        "# Examining the dataframe\n",
        "random_data_api__users_df.info()"
      ]
    },
    {
      "cell_type": "markdown",
      "id": "eb261985-bd3f-4e99-ae3c-dc49b203d962",
      "metadata": {
        "id": "eb261985-bd3f-4e99-ae3c-dc49b203d962"
      },
      "source": [
        "We observe that only 14 Data values are extracted not even 100 so according to documentation we need to add size to the url\n",
        "\n",
        "* as per documentation of Random API Data\n",
        "* Base URI: https://random-data-api.com/api/v2/\n",
        "\n",
        "* Use size=number to fetch an array of any resource"
      ]
    },
    {
      "cell_type": "code",
      "execution_count": 12,
      "id": "6b5a93dd-f752-4fec-9371-c1c67edc823e",
      "metadata": {
        "id": "6b5a93dd-f752-4fec-9371-c1c67edc823e"
      },
      "outputs": [],
      "source": [
        "# saving this as a csv file\n",
        "random_data_api__users_df.to_csv('random_data_api__users.csv', index=False)"
      ]
    },
    {
      "cell_type": "code",
      "execution_count": 13,
      "id": "9b10f75e-5a9b-4f1e-8520-0f2a5da77c80",
      "metadata": {
        "id": "9b10f75e-5a9b-4f1e-8520-0f2a5da77c80"
      },
      "outputs": [],
      "source": [
        "#defining batch size and building url accordingly\n",
        "batch_size = 100\n",
        "\n",
        "random_data_api__users_response = requests.get(f\"{'https://random-data-api.com/api/v2/users'}?size={batch_size}\")\n"
      ]
    },
    {
      "cell_type": "code",
      "execution_count": 14,
      "id": "10955a01-530e-4f74-a7d6-73b7bf5719ca",
      "metadata": {
        "id": "10955a01-530e-4f74-a7d6-73b7bf5719ca",
        "outputId": "4242b4a0-4680-4c15-9e99-11545638bbec",
        "colab": {
          "base_uri": "https://localhost:8080/"
        }
      },
      "outputs": [
        {
          "output_type": "execute_result",
          "data": {
            "text/plain": [
              "429"
            ]
          },
          "metadata": {},
          "execution_count": 14
        }
      ],
      "source": [
        "# We will start by checking if the communication was successful and we received the response\n",
        "random_data_api__users_response.status_code\n"
      ]
    },
    {
      "cell_type": "code",
      "execution_count": 15,
      "id": "2bdf70a0-1778-44bd-8d0e-c6011f9c0450",
      "metadata": {
        "id": "2bdf70a0-1778-44bd-8d0e-c6011f9c0450"
      },
      "outputs": [],
      "source": [
        "# Defining BASE_URL\n",
        "BASE_URL = \"https://random-data-api.com/api/v2/users\""
      ]
    },
    {
      "cell_type": "code",
      "execution_count": 16,
      "id": "69a0d9ac-b0fa-411b-836e-0e7ccb3599ae",
      "metadata": {
        "id": "69a0d9ac-b0fa-411b-836e-0e7ccb3599ae"
      },
      "outputs": [],
      "source": [
        "#Buliding function to loop through for 5000 users\n",
        "\n",
        "def fetch_users(num_users, batch_size, sleep_time):\n",
        "    all_users = []\n",
        "    total_batches = num_users // batch_size + (1 if num_users % batch_size else 0)\n",
        "\n",
        "    for i in range(total_batches):\n",
        "        response = requests.get(f\"{BASE_URL}?size={batch_size}\")\n",
        "        if response.status_code == 200:\n",
        "            users = response.json()\n",
        "            all_users.extend(users)\n",
        "            print(f\"Fetched {len(users)} users. Total fetched: {len(all_users)}\")\n",
        "        else:\n",
        "            print(f\"Failed to fetch data. Status code: {response.status_code}\")\n",
        "\n",
        "        # Only sleep if more users are needed\n",
        "        if len(all_users) < num_users:\n",
        "            sleep(sleep_time)  # Delay to avoid hitting rate limits\n",
        "\n",
        "    return all_users[:num_users]"
      ]
    },
    {
      "cell_type": "code",
      "execution_count": 17,
      "id": "381c09a6-b6eb-46d9-8ab7-f66258fb5041",
      "metadata": {
        "id": "381c09a6-b6eb-46d9-8ab7-f66258fb5041",
        "outputId": "47e58a8b-28cc-4461-c739-3d9863d95ac4",
        "colab": {
          "base_uri": "https://localhost:8080/"
        }
      },
      "outputs": [
        {
          "output_type": "stream",
          "name": "stdout",
          "text": [
            "Failed to fetch data. Status code: 429\n",
            "Fetched 100 users. Total fetched: 100\n",
            "Failed to fetch data. Status code: 429\n",
            "Fetched 100 users. Total fetched: 200\n",
            "Fetched 100 users. Total fetched: 300\n",
            "Failed to fetch data. Status code: 429\n",
            "Fetched 100 users. Total fetched: 400\n",
            "Failed to fetch data. Status code: 429\n",
            "Fetched 100 users. Total fetched: 500\n",
            "Fetched 100 users. Total fetched: 600\n",
            "Failed to fetch data. Status code: 429\n",
            "Fetched 100 users. Total fetched: 700\n",
            "Failed to fetch data. Status code: 429\n",
            "Fetched 100 users. Total fetched: 800\n",
            "Fetched 100 users. Total fetched: 900\n",
            "Failed to fetch data. Status code: 429\n",
            "Fetched 100 users. Total fetched: 1000\n",
            "Fetched 100 users. Total fetched: 1100\n",
            "Failed to fetch data. Status code: 429\n",
            "Fetched 100 users. Total fetched: 1200\n",
            "Failed to fetch data. Status code: 429\n",
            "Fetched 100 users. Total fetched: 1300\n",
            "Fetched 100 users. Total fetched: 1400\n",
            "Failed to fetch data. Status code: 429\n",
            "Fetched 100 users. Total fetched: 1500\n",
            "Fetched 100 users. Total fetched: 1600\n",
            "Failed to fetch data. Status code: 429\n",
            "Fetched 100 users. Total fetched: 1700\n",
            "Failed to fetch data. Status code: 429\n",
            "Fetched 100 users. Total fetched: 1800\n",
            "Fetched 100 users. Total fetched: 1900\n",
            "Failed to fetch data. Status code: 429\n",
            "Fetched 100 users. Total fetched: 2000\n",
            "Failed to fetch data. Status code: 429\n",
            "Fetched 100 users. Total fetched: 2100\n",
            "Fetched 100 users. Total fetched: 2200\n",
            "Failed to fetch data. Status code: 429\n",
            "Fetched 100 users. Total fetched: 2300\n",
            "Failed to fetch data. Status code: 429\n",
            "Fetched 100 users. Total fetched: 2400\n",
            "Fetched 100 users. Total fetched: 2500\n",
            "Failed to fetch data. Status code: 429\n",
            "Fetched 100 users. Total fetched: 2600\n",
            "Failed to fetch data. Status code: 429\n",
            "Fetched 100 users. Total fetched: 2700\n",
            "Fetched 100 users. Total fetched: 2800\n",
            "Failed to fetch data. Status code: 429\n",
            "Fetched 100 users. Total fetched: 2900\n",
            "Failed to fetch data. Status code: 429\n",
            "Fetched 100 users. Total fetched: 3000\n"
          ]
        }
      ],
      "source": [
        "# for 5000 users\n",
        "BASE_URL = \"https://random-data-api.com/api/v2/users\"\n",
        "num_users = 5000\n",
        "batch_size = 100\n",
        "sleep_time = 1  # seconds\n",
        "\n",
        "user_data = fetch_users(num_users, batch_size, sleep_time)\n"
      ]
    },
    {
      "cell_type": "code",
      "execution_count": 18,
      "id": "a066d092-3913-4e49-aff5-5451c76adc8f",
      "metadata": {
        "id": "a066d092-3913-4e49-aff5-5451c76adc8f"
      },
      "outputs": [],
      "source": [
        "# Converting to DataFrame and saving to csv\n",
        "\n",
        "user_df = pd.DataFrame(user_data)\n",
        "user_df.to_csv('random_data_api_users.csv', index=False)\n"
      ]
    },
    {
      "cell_type": "code",
      "execution_count": 19,
      "id": "efa17d47-354c-4d2a-8426-6048ff485e8a",
      "metadata": {
        "id": "efa17d47-354c-4d2a-8426-6048ff485e8a",
        "outputId": "1a382744-61a9-4d72-9fea-138de3882f66",
        "colab": {
          "base_uri": "https://localhost:8080/"
        }
      },
      "outputs": [
        {
          "output_type": "stream",
          "name": "stdout",
          "text": [
            "<class 'pandas.core.frame.DataFrame'>\n",
            "RangeIndex: 3000 entries, 0 to 2999\n",
            "Data columns (total 16 columns):\n",
            " #   Column                   Non-Null Count  Dtype \n",
            "---  ------                   --------------  ----- \n",
            " 0   id                       3000 non-null   int64 \n",
            " 1   uid                      3000 non-null   object\n",
            " 2   password                 3000 non-null   object\n",
            " 3   first_name               3000 non-null   object\n",
            " 4   last_name                3000 non-null   object\n",
            " 5   username                 3000 non-null   object\n",
            " 6   email                    3000 non-null   object\n",
            " 7   avatar                   3000 non-null   object\n",
            " 8   gender                   3000 non-null   object\n",
            " 9   phone_number             3000 non-null   object\n",
            " 10  social_insurance_number  3000 non-null   object\n",
            " 11  date_of_birth            3000 non-null   object\n",
            " 12  employment               3000 non-null   object\n",
            " 13  address                  3000 non-null   object\n",
            " 14  credit_card              3000 non-null   object\n",
            " 15  subscription             3000 non-null   object\n",
            "dtypes: int64(1), object(15)\n",
            "memory usage: 375.1+ KB\n"
          ]
        }
      ],
      "source": [
        "user_df.info()\n"
      ]
    },
    {
      "cell_type": "code",
      "execution_count": 20,
      "id": "f4348a72-7f73-4c74-90a6-20840bf68140",
      "metadata": {
        "id": "f4348a72-7f73-4c74-90a6-20840bf68140",
        "outputId": "4905906c-4977-4b89-f13b-74f992af2148",
        "colab": {
          "base_uri": "https://localhost:8080/",
          "height": 320
        }
      },
      "outputs": [
        {
          "output_type": "execute_result",
          "data": {
            "text/plain": [
              "     id                                   uid    password first_name  \\\n",
              "0  4742  374b7269-c137-4560-b275-be0ff0256264  MXwoaH3V1D      Gemma   \n",
              "1  3690  7a5ffd76-9fd8-4417-a1a9-9e803362effc  fcsbhQEOpd    Eugenio   \n",
              "2    65  751e9c9e-7741-4cab-aec7-5f95643ea5e4  y8ad6zvqP7        Bok   \n",
              "\n",
              "    last_name            username                         email  \\\n",
              "0   Gutkowski     gemma.gutkowski     gemma.gutkowski@email.com   \n",
              "1  Rutherford  eugenio.rutherford  eugenio.rutherford@email.com   \n",
              "2     Corkery         bok.corkery         bok.corkery@email.com   \n",
              "\n",
              "                                              avatar       gender  \\\n",
              "0  https://robohash.org/consectetursolutaat.png?s...  Genderqueer   \n",
              "1  https://robohash.org/adipisciconsequunturdolor...     Bigender   \n",
              "2  https://robohash.org/autaliquamfacilis.png?siz...       Female   \n",
              "\n",
              "                  phone_number social_insurance_number date_of_birth  \\\n",
              "0    +98 (221) 147-9875 x67005               187689740    1982-05-19   \n",
              "1     +1-784 602.444.7538 x217               953282548    1965-04-12   \n",
              "2  +1-939 (693) 995-0477 x8781               463504407    1996-10-26   \n",
              "\n",
              "                                          employment  \\\n",
              "0  {'title': 'Global Manager', 'key_skill': 'Prob...   \n",
              "1  {'title': 'Forward Manufacturing Executive', '...   \n",
              "2  {'title': 'Chief Administration Analyst', 'key...   \n",
              "\n",
              "                                             address  \\\n",
              "0  {'city': 'Goyetteport', 'street_name': 'O'Hara...   \n",
              "1  {'city': 'Shawnaview', 'street_name': 'Gleason...   \n",
              "2  {'city': 'Hammesberg', 'street_name': 'Jeannet...   \n",
              "\n",
              "                            credit_card  \\\n",
              "0        {'cc_number': '4164656154242'}   \n",
              "1  {'cc_number': '6771-8937-0314-7522'}   \n",
              "2  {'cc_number': '5497-0292-4776-0232'}   \n",
              "\n",
              "                                        subscription  \n",
              "0  {'plan': 'Professional', 'status': 'Pending', ...  \n",
              "1  {'plan': 'Bronze', 'status': 'Idle', 'payment_...  \n",
              "2  {'plan': 'Starter', 'status': 'Active', 'payme...  "
            ],
            "text/html": [
              "\n",
              "  <div id=\"df-63e4dea4-edf0-428b-a4e1-2d1e43ff2c66\" class=\"colab-df-container\">\n",
              "    <div>\n",
              "<style scoped>\n",
              "    .dataframe tbody tr th:only-of-type {\n",
              "        vertical-align: middle;\n",
              "    }\n",
              "\n",
              "    .dataframe tbody tr th {\n",
              "        vertical-align: top;\n",
              "    }\n",
              "\n",
              "    .dataframe thead th {\n",
              "        text-align: right;\n",
              "    }\n",
              "</style>\n",
              "<table border=\"1\" class=\"dataframe\">\n",
              "  <thead>\n",
              "    <tr style=\"text-align: right;\">\n",
              "      <th></th>\n",
              "      <th>id</th>\n",
              "      <th>uid</th>\n",
              "      <th>password</th>\n",
              "      <th>first_name</th>\n",
              "      <th>last_name</th>\n",
              "      <th>username</th>\n",
              "      <th>email</th>\n",
              "      <th>avatar</th>\n",
              "      <th>gender</th>\n",
              "      <th>phone_number</th>\n",
              "      <th>social_insurance_number</th>\n",
              "      <th>date_of_birth</th>\n",
              "      <th>employment</th>\n",
              "      <th>address</th>\n",
              "      <th>credit_card</th>\n",
              "      <th>subscription</th>\n",
              "    </tr>\n",
              "  </thead>\n",
              "  <tbody>\n",
              "    <tr>\n",
              "      <th>0</th>\n",
              "      <td>4742</td>\n",
              "      <td>374b7269-c137-4560-b275-be0ff0256264</td>\n",
              "      <td>MXwoaH3V1D</td>\n",
              "      <td>Gemma</td>\n",
              "      <td>Gutkowski</td>\n",
              "      <td>gemma.gutkowski</td>\n",
              "      <td>gemma.gutkowski@email.com</td>\n",
              "      <td>https://robohash.org/consectetursolutaat.png?s...</td>\n",
              "      <td>Genderqueer</td>\n",
              "      <td>+98 (221) 147-9875 x67005</td>\n",
              "      <td>187689740</td>\n",
              "      <td>1982-05-19</td>\n",
              "      <td>{'title': 'Global Manager', 'key_skill': 'Prob...</td>\n",
              "      <td>{'city': 'Goyetteport', 'street_name': 'O'Hara...</td>\n",
              "      <td>{'cc_number': '4164656154242'}</td>\n",
              "      <td>{'plan': 'Professional', 'status': 'Pending', ...</td>\n",
              "    </tr>\n",
              "    <tr>\n",
              "      <th>1</th>\n",
              "      <td>3690</td>\n",
              "      <td>7a5ffd76-9fd8-4417-a1a9-9e803362effc</td>\n",
              "      <td>fcsbhQEOpd</td>\n",
              "      <td>Eugenio</td>\n",
              "      <td>Rutherford</td>\n",
              "      <td>eugenio.rutherford</td>\n",
              "      <td>eugenio.rutherford@email.com</td>\n",
              "      <td>https://robohash.org/adipisciconsequunturdolor...</td>\n",
              "      <td>Bigender</td>\n",
              "      <td>+1-784 602.444.7538 x217</td>\n",
              "      <td>953282548</td>\n",
              "      <td>1965-04-12</td>\n",
              "      <td>{'title': 'Forward Manufacturing Executive', '...</td>\n",
              "      <td>{'city': 'Shawnaview', 'street_name': 'Gleason...</td>\n",
              "      <td>{'cc_number': '6771-8937-0314-7522'}</td>\n",
              "      <td>{'plan': 'Bronze', 'status': 'Idle', 'payment_...</td>\n",
              "    </tr>\n",
              "    <tr>\n",
              "      <th>2</th>\n",
              "      <td>65</td>\n",
              "      <td>751e9c9e-7741-4cab-aec7-5f95643ea5e4</td>\n",
              "      <td>y8ad6zvqP7</td>\n",
              "      <td>Bok</td>\n",
              "      <td>Corkery</td>\n",
              "      <td>bok.corkery</td>\n",
              "      <td>bok.corkery@email.com</td>\n",
              "      <td>https://robohash.org/autaliquamfacilis.png?siz...</td>\n",
              "      <td>Female</td>\n",
              "      <td>+1-939 (693) 995-0477 x8781</td>\n",
              "      <td>463504407</td>\n",
              "      <td>1996-10-26</td>\n",
              "      <td>{'title': 'Chief Administration Analyst', 'key...</td>\n",
              "      <td>{'city': 'Hammesberg', 'street_name': 'Jeannet...</td>\n",
              "      <td>{'cc_number': '5497-0292-4776-0232'}</td>\n",
              "      <td>{'plan': 'Starter', 'status': 'Active', 'payme...</td>\n",
              "    </tr>\n",
              "  </tbody>\n",
              "</table>\n",
              "</div>\n",
              "    <div class=\"colab-df-buttons\">\n",
              "\n",
              "  <div class=\"colab-df-container\">\n",
              "    <button class=\"colab-df-convert\" onclick=\"convertToInteractive('df-63e4dea4-edf0-428b-a4e1-2d1e43ff2c66')\"\n",
              "            title=\"Convert this dataframe to an interactive table.\"\n",
              "            style=\"display:none;\">\n",
              "\n",
              "  <svg xmlns=\"http://www.w3.org/2000/svg\" height=\"24px\" viewBox=\"0 -960 960 960\">\n",
              "    <path d=\"M120-120v-720h720v720H120Zm60-500h600v-160H180v160Zm220 220h160v-160H400v160Zm0 220h160v-160H400v160ZM180-400h160v-160H180v160Zm440 0h160v-160H620v160ZM180-180h160v-160H180v160Zm440 0h160v-160H620v160Z\"/>\n",
              "  </svg>\n",
              "    </button>\n",
              "\n",
              "  <style>\n",
              "    .colab-df-container {\n",
              "      display:flex;\n",
              "      gap: 12px;\n",
              "    }\n",
              "\n",
              "    .colab-df-convert {\n",
              "      background-color: #E8F0FE;\n",
              "      border: none;\n",
              "      border-radius: 50%;\n",
              "      cursor: pointer;\n",
              "      display: none;\n",
              "      fill: #1967D2;\n",
              "      height: 32px;\n",
              "      padding: 0 0 0 0;\n",
              "      width: 32px;\n",
              "    }\n",
              "\n",
              "    .colab-df-convert:hover {\n",
              "      background-color: #E2EBFA;\n",
              "      box-shadow: 0px 1px 2px rgba(60, 64, 67, 0.3), 0px 1px 3px 1px rgba(60, 64, 67, 0.15);\n",
              "      fill: #174EA6;\n",
              "    }\n",
              "\n",
              "    .colab-df-buttons div {\n",
              "      margin-bottom: 4px;\n",
              "    }\n",
              "\n",
              "    [theme=dark] .colab-df-convert {\n",
              "      background-color: #3B4455;\n",
              "      fill: #D2E3FC;\n",
              "    }\n",
              "\n",
              "    [theme=dark] .colab-df-convert:hover {\n",
              "      background-color: #434B5C;\n",
              "      box-shadow: 0px 1px 3px 1px rgba(0, 0, 0, 0.15);\n",
              "      filter: drop-shadow(0px 1px 2px rgba(0, 0, 0, 0.3));\n",
              "      fill: #FFFFFF;\n",
              "    }\n",
              "  </style>\n",
              "\n",
              "    <script>\n",
              "      const buttonEl =\n",
              "        document.querySelector('#df-63e4dea4-edf0-428b-a4e1-2d1e43ff2c66 button.colab-df-convert');\n",
              "      buttonEl.style.display =\n",
              "        google.colab.kernel.accessAllowed ? 'block' : 'none';\n",
              "\n",
              "      async function convertToInteractive(key) {\n",
              "        const element = document.querySelector('#df-63e4dea4-edf0-428b-a4e1-2d1e43ff2c66');\n",
              "        const dataTable =\n",
              "          await google.colab.kernel.invokeFunction('convertToInteractive',\n",
              "                                                    [key], {});\n",
              "        if (!dataTable) return;\n",
              "\n",
              "        const docLinkHtml = 'Like what you see? Visit the ' +\n",
              "          '<a target=\"_blank\" href=https://colab.research.google.com/notebooks/data_table.ipynb>data table notebook</a>'\n",
              "          + ' to learn more about interactive tables.';\n",
              "        element.innerHTML = '';\n",
              "        dataTable['output_type'] = 'display_data';\n",
              "        await google.colab.output.renderOutput(dataTable, element);\n",
              "        const docLink = document.createElement('div');\n",
              "        docLink.innerHTML = docLinkHtml;\n",
              "        element.appendChild(docLink);\n",
              "      }\n",
              "    </script>\n",
              "  </div>\n",
              "\n",
              "\n",
              "<div id=\"df-d0525979-196d-4da9-b244-01d20da51c9c\">\n",
              "  <button class=\"colab-df-quickchart\" onclick=\"quickchart('df-d0525979-196d-4da9-b244-01d20da51c9c')\"\n",
              "            title=\"Suggest charts\"\n",
              "            style=\"display:none;\">\n",
              "\n",
              "<svg xmlns=\"http://www.w3.org/2000/svg\" height=\"24px\"viewBox=\"0 0 24 24\"\n",
              "     width=\"24px\">\n",
              "    <g>\n",
              "        <path d=\"M19 3H5c-1.1 0-2 .9-2 2v14c0 1.1.9 2 2 2h14c1.1 0 2-.9 2-2V5c0-1.1-.9-2-2-2zM9 17H7v-7h2v7zm4 0h-2V7h2v10zm4 0h-2v-4h2v4z\"/>\n",
              "    </g>\n",
              "</svg>\n",
              "  </button>\n",
              "\n",
              "<style>\n",
              "  .colab-df-quickchart {\n",
              "      --bg-color: #E8F0FE;\n",
              "      --fill-color: #1967D2;\n",
              "      --hover-bg-color: #E2EBFA;\n",
              "      --hover-fill-color: #174EA6;\n",
              "      --disabled-fill-color: #AAA;\n",
              "      --disabled-bg-color: #DDD;\n",
              "  }\n",
              "\n",
              "  [theme=dark] .colab-df-quickchart {\n",
              "      --bg-color: #3B4455;\n",
              "      --fill-color: #D2E3FC;\n",
              "      --hover-bg-color: #434B5C;\n",
              "      --hover-fill-color: #FFFFFF;\n",
              "      --disabled-bg-color: #3B4455;\n",
              "      --disabled-fill-color: #666;\n",
              "  }\n",
              "\n",
              "  .colab-df-quickchart {\n",
              "    background-color: var(--bg-color);\n",
              "    border: none;\n",
              "    border-radius: 50%;\n",
              "    cursor: pointer;\n",
              "    display: none;\n",
              "    fill: var(--fill-color);\n",
              "    height: 32px;\n",
              "    padding: 0;\n",
              "    width: 32px;\n",
              "  }\n",
              "\n",
              "  .colab-df-quickchart:hover {\n",
              "    background-color: var(--hover-bg-color);\n",
              "    box-shadow: 0 1px 2px rgba(60, 64, 67, 0.3), 0 1px 3px 1px rgba(60, 64, 67, 0.15);\n",
              "    fill: var(--button-hover-fill-color);\n",
              "  }\n",
              "\n",
              "  .colab-df-quickchart-complete:disabled,\n",
              "  .colab-df-quickchart-complete:disabled:hover {\n",
              "    background-color: var(--disabled-bg-color);\n",
              "    fill: var(--disabled-fill-color);\n",
              "    box-shadow: none;\n",
              "  }\n",
              "\n",
              "  .colab-df-spinner {\n",
              "    border: 2px solid var(--fill-color);\n",
              "    border-color: transparent;\n",
              "    border-bottom-color: var(--fill-color);\n",
              "    animation:\n",
              "      spin 1s steps(1) infinite;\n",
              "  }\n",
              "\n",
              "  @keyframes spin {\n",
              "    0% {\n",
              "      border-color: transparent;\n",
              "      border-bottom-color: var(--fill-color);\n",
              "      border-left-color: var(--fill-color);\n",
              "    }\n",
              "    20% {\n",
              "      border-color: transparent;\n",
              "      border-left-color: var(--fill-color);\n",
              "      border-top-color: var(--fill-color);\n",
              "    }\n",
              "    30% {\n",
              "      border-color: transparent;\n",
              "      border-left-color: var(--fill-color);\n",
              "      border-top-color: var(--fill-color);\n",
              "      border-right-color: var(--fill-color);\n",
              "    }\n",
              "    40% {\n",
              "      border-color: transparent;\n",
              "      border-right-color: var(--fill-color);\n",
              "      border-top-color: var(--fill-color);\n",
              "    }\n",
              "    60% {\n",
              "      border-color: transparent;\n",
              "      border-right-color: var(--fill-color);\n",
              "    }\n",
              "    80% {\n",
              "      border-color: transparent;\n",
              "      border-right-color: var(--fill-color);\n",
              "      border-bottom-color: var(--fill-color);\n",
              "    }\n",
              "    90% {\n",
              "      border-color: transparent;\n",
              "      border-bottom-color: var(--fill-color);\n",
              "    }\n",
              "  }\n",
              "</style>\n",
              "\n",
              "  <script>\n",
              "    async function quickchart(key) {\n",
              "      const quickchartButtonEl =\n",
              "        document.querySelector('#' + key + ' button');\n",
              "      quickchartButtonEl.disabled = true;  // To prevent multiple clicks.\n",
              "      quickchartButtonEl.classList.add('colab-df-spinner');\n",
              "      try {\n",
              "        const charts = await google.colab.kernel.invokeFunction(\n",
              "            'suggestCharts', [key], {});\n",
              "      } catch (error) {\n",
              "        console.error('Error during call to suggestCharts:', error);\n",
              "      }\n",
              "      quickchartButtonEl.classList.remove('colab-df-spinner');\n",
              "      quickchartButtonEl.classList.add('colab-df-quickchart-complete');\n",
              "    }\n",
              "    (() => {\n",
              "      let quickchartButtonEl =\n",
              "        document.querySelector('#df-d0525979-196d-4da9-b244-01d20da51c9c button');\n",
              "      quickchartButtonEl.style.display =\n",
              "        google.colab.kernel.accessAllowed ? 'block' : 'none';\n",
              "    })();\n",
              "  </script>\n",
              "</div>\n",
              "\n",
              "    </div>\n",
              "  </div>\n"
            ],
            "application/vnd.google.colaboratory.intrinsic+json": {
              "type": "dataframe",
              "variable_name": "user_df",
              "summary": "{\n  \"name\": \"user_df\",\n  \"rows\": 3000,\n  \"fields\": [\n    {\n      \"column\": \"id\",\n      \"properties\": {\n        \"dtype\": \"number\",\n        \"std\": 2920,\n        \"min\": 2,\n        \"max\": 9998,\n        \"num_unique_values\": 2573,\n        \"samples\": [\n          9998,\n          8539,\n          3653\n        ],\n        \"semantic_type\": \"\",\n        \"description\": \"\"\n      }\n    },\n    {\n      \"column\": \"uid\",\n      \"properties\": {\n        \"dtype\": \"string\",\n        \"num_unique_values\": 3000,\n        \"samples\": [\n          \"8ea0b148-439e-4f37-a573-944e196297c0\",\n          \"9c2ff859-8fae-48c4-8aa2-4794a8687636\",\n          \"080a6a1f-77f1-41ee-9eea-55f7cc631f2c\"\n        ],\n        \"semantic_type\": \"\",\n        \"description\": \"\"\n      }\n    },\n    {\n      \"column\": \"password\",\n      \"properties\": {\n        \"dtype\": \"string\",\n        \"num_unique_values\": 3000,\n        \"samples\": [\n          \"uJ4igemzMP\",\n          \"8MPuy0HgJ4\",\n          \"qhBjAzLgCV\"\n        ],\n        \"semantic_type\": \"\",\n        \"description\": \"\"\n      }\n    },\n    {\n      \"column\": \"first_name\",\n      \"properties\": {\n        \"dtype\": \"string\",\n        \"num_unique_values\": 2074,\n        \"samples\": [\n          \"Christian\",\n          \"Weston\",\n          \"Carman\"\n        ],\n        \"semantic_type\": \"\",\n        \"description\": \"\"\n      }\n    },\n    {\n      \"column\": \"last_name\",\n      \"properties\": {\n        \"dtype\": \"category\",\n        \"num_unique_values\": 472,\n        \"samples\": [\n          \"Kessler\",\n          \"Runte\",\n          \"Mante\"\n        ],\n        \"semantic_type\": \"\",\n        \"description\": \"\"\n      }\n    },\n    {\n      \"column\": \"username\",\n      \"properties\": {\n        \"dtype\": \"string\",\n        \"num_unique_values\": 2997,\n        \"samples\": [\n          \"santo.miller\",\n          \"darrel.heller\",\n          \"mozell.murphy\"\n        ],\n        \"semantic_type\": \"\",\n        \"description\": \"\"\n      }\n    },\n    {\n      \"column\": \"email\",\n      \"properties\": {\n        \"dtype\": \"string\",\n        \"num_unique_values\": 2997,\n        \"samples\": [\n          \"santo.miller@email.com\",\n          \"darrel.heller@email.com\",\n          \"mozell.murphy@email.com\"\n        ],\n        \"semantic_type\": \"\",\n        \"description\": \"\"\n      }\n    },\n    {\n      \"column\": \"avatar\",\n      \"properties\": {\n        \"dtype\": \"string\",\n        \"num_unique_values\": 2996,\n        \"samples\": [\n          \"https://robohash.org/consequaturconsequaturaut.png?size=300x300&set=set1\",\n          \"https://robohash.org/ipsamrepudiandaeodio.png?size=300x300&set=set1\",\n          \"https://robohash.org/pariaturexomnis.png?size=300x300&set=set1\"\n        ],\n        \"semantic_type\": \"\",\n        \"description\": \"\"\n      }\n    },\n    {\n      \"column\": \"gender\",\n      \"properties\": {\n        \"dtype\": \"category\",\n        \"num_unique_values\": 8,\n        \"samples\": [\n          \"Bigender\",\n          \"Non-binary\",\n          \"Genderqueer\"\n        ],\n        \"semantic_type\": \"\",\n        \"description\": \"\"\n      }\n    },\n    {\n      \"column\": \"phone_number\",\n      \"properties\": {\n        \"dtype\": \"string\",\n        \"num_unique_values\": 3000,\n        \"samples\": [\n          \"+291 1-359-351-8424 x485\",\n          \"+230 432.725.4016 x79874\",\n          \"+247 650.446.5742 x0552\"\n        ],\n        \"semantic_type\": \"\",\n        \"description\": \"\"\n      }\n    },\n    {\n      \"column\": \"social_insurance_number\",\n      \"properties\": {\n        \"dtype\": \"string\",\n        \"num_unique_values\": 3000,\n        \"samples\": [\n          \"424151058\",\n          \"287536791\",\n          \"680593340\"\n        ],\n        \"semantic_type\": \"\",\n        \"description\": \"\"\n      }\n    },\n    {\n      \"column\": \"date_of_birth\",\n      \"properties\": {\n        \"dtype\": \"object\",\n        \"num_unique_values\": 2755,\n        \"samples\": [\n          \"2001-03-25\",\n          \"1966-01-31\",\n          \"1969-06-09\"\n        ],\n        \"semantic_type\": \"\",\n        \"description\": \"\"\n      }\n    },\n    {\n      \"column\": \"employment\",\n      \"properties\": {\n        \"dtype\": \"object\",\n        \"semantic_type\": \"\",\n        \"description\": \"\"\n      }\n    },\n    {\n      \"column\": \"address\",\n      \"properties\": {\n        \"dtype\": \"object\",\n        \"semantic_type\": \"\",\n        \"description\": \"\"\n      }\n    },\n    {\n      \"column\": \"credit_card\",\n      \"properties\": {\n        \"dtype\": \"object\",\n        \"semantic_type\": \"\",\n        \"description\": \"\"\n      }\n    },\n    {\n      \"column\": \"subscription\",\n      \"properties\": {\n        \"dtype\": \"object\",\n        \"semantic_type\": \"\",\n        \"description\": \"\"\n      }\n    }\n  ]\n}"
            }
          },
          "metadata": {},
          "execution_count": 20
        }
      ],
      "source": [
        "user_df.head(3)"
      ]
    },
    {
      "cell_type": "markdown",
      "id": "4670244d-6604-4723-a55c-cba59a65044a",
      "metadata": {
        "id": "4670244d-6604-4723-a55c-cba59a65044a"
      },
      "source": [
        "## <span style=\"font-size: 20px; color: black;\"> 2. Add a column to the dataframe that shows the current age of the user."
      ]
    },
    {
      "cell_type": "markdown",
      "id": "31b0646d-08e2-4d82-9a1d-23268d077aa0",
      "metadata": {
        "id": "31b0646d-08e2-4d82-9a1d-23268d077aa0"
      },
      "source": [
        "Age is needed here in terms of Year for which we need to take Date of Birth from the user_df and then calculate age by substracting from today"
      ]
    },
    {
      "cell_type": "code",
      "execution_count": 21,
      "id": "3b6c7bdc-aecb-4e18-8b32-4fbeb59cd820",
      "metadata": {
        "id": "3b6c7bdc-aecb-4e18-8b32-4fbeb59cd820"
      },
      "outputs": [],
      "source": [
        "# defining function to calculate age\n",
        "def age_function(dateofbirth):\n",
        "    dateofbirth = pd.to_datetime(dateofbirth, format=\"%Y-%m-%d\")\n",
        "    today = pd.to_datetime(\"today\")\n",
        "    age = today.year - dateofbirth.year - ((today.month, today.day) < (dateofbirth.month, dateofbirth.day))\n",
        "    return age"
      ]
    },
    {
      "cell_type": "code",
      "execution_count": 22,
      "id": "d46097f2-be7a-4d46-b69b-2e84a0173756",
      "metadata": {
        "id": "d46097f2-be7a-4d46-b69b-2e84a0173756"
      },
      "outputs": [],
      "source": [
        "user_df['age'] = user_df['date_of_birth'].apply(age_function)"
      ]
    },
    {
      "cell_type": "code",
      "execution_count": 23,
      "id": "fc974a8a-f690-4871-a274-9fc0af6faf05",
      "metadata": {
        "id": "fc974a8a-f690-4871-a274-9fc0af6faf05",
        "outputId": "0d1ec33d-1d8b-430c-82ee-af3aa8198d8a",
        "colab": {
          "base_uri": "https://localhost:8080/",
          "height": 320
        }
      },
      "outputs": [
        {
          "output_type": "execute_result",
          "data": {
            "text/plain": [
              "     id                                   uid    password first_name  \\\n",
              "0  4742  374b7269-c137-4560-b275-be0ff0256264  MXwoaH3V1D      Gemma   \n",
              "1  3690  7a5ffd76-9fd8-4417-a1a9-9e803362effc  fcsbhQEOpd    Eugenio   \n",
              "2    65  751e9c9e-7741-4cab-aec7-5f95643ea5e4  y8ad6zvqP7        Bok   \n",
              "\n",
              "    last_name            username                         email  \\\n",
              "0   Gutkowski     gemma.gutkowski     gemma.gutkowski@email.com   \n",
              "1  Rutherford  eugenio.rutherford  eugenio.rutherford@email.com   \n",
              "2     Corkery         bok.corkery         bok.corkery@email.com   \n",
              "\n",
              "                                              avatar       gender  \\\n",
              "0  https://robohash.org/consectetursolutaat.png?s...  Genderqueer   \n",
              "1  https://robohash.org/adipisciconsequunturdolor...     Bigender   \n",
              "2  https://robohash.org/autaliquamfacilis.png?siz...       Female   \n",
              "\n",
              "                  phone_number social_insurance_number date_of_birth  \\\n",
              "0    +98 (221) 147-9875 x67005               187689740    1982-05-19   \n",
              "1     +1-784 602.444.7538 x217               953282548    1965-04-12   \n",
              "2  +1-939 (693) 995-0477 x8781               463504407    1996-10-26   \n",
              "\n",
              "                                          employment  \\\n",
              "0  {'title': 'Global Manager', 'key_skill': 'Prob...   \n",
              "1  {'title': 'Forward Manufacturing Executive', '...   \n",
              "2  {'title': 'Chief Administration Analyst', 'key...   \n",
              "\n",
              "                                             address  \\\n",
              "0  {'city': 'Goyetteport', 'street_name': 'O'Hara...   \n",
              "1  {'city': 'Shawnaview', 'street_name': 'Gleason...   \n",
              "2  {'city': 'Hammesberg', 'street_name': 'Jeannet...   \n",
              "\n",
              "                            credit_card  \\\n",
              "0        {'cc_number': '4164656154242'}   \n",
              "1  {'cc_number': '6771-8937-0314-7522'}   \n",
              "2  {'cc_number': '5497-0292-4776-0232'}   \n",
              "\n",
              "                                        subscription  age  \n",
              "0  {'plan': 'Professional', 'status': 'Pending', ...   42  \n",
              "1  {'plan': 'Bronze', 'status': 'Idle', 'payment_...   59  \n",
              "2  {'plan': 'Starter', 'status': 'Active', 'payme...   28  "
            ],
            "text/html": [
              "\n",
              "  <div id=\"df-6496b292-2d63-4fc3-aba5-292d28cff73a\" class=\"colab-df-container\">\n",
              "    <div>\n",
              "<style scoped>\n",
              "    .dataframe tbody tr th:only-of-type {\n",
              "        vertical-align: middle;\n",
              "    }\n",
              "\n",
              "    .dataframe tbody tr th {\n",
              "        vertical-align: top;\n",
              "    }\n",
              "\n",
              "    .dataframe thead th {\n",
              "        text-align: right;\n",
              "    }\n",
              "</style>\n",
              "<table border=\"1\" class=\"dataframe\">\n",
              "  <thead>\n",
              "    <tr style=\"text-align: right;\">\n",
              "      <th></th>\n",
              "      <th>id</th>\n",
              "      <th>uid</th>\n",
              "      <th>password</th>\n",
              "      <th>first_name</th>\n",
              "      <th>last_name</th>\n",
              "      <th>username</th>\n",
              "      <th>email</th>\n",
              "      <th>avatar</th>\n",
              "      <th>gender</th>\n",
              "      <th>phone_number</th>\n",
              "      <th>social_insurance_number</th>\n",
              "      <th>date_of_birth</th>\n",
              "      <th>employment</th>\n",
              "      <th>address</th>\n",
              "      <th>credit_card</th>\n",
              "      <th>subscription</th>\n",
              "      <th>age</th>\n",
              "    </tr>\n",
              "  </thead>\n",
              "  <tbody>\n",
              "    <tr>\n",
              "      <th>0</th>\n",
              "      <td>4742</td>\n",
              "      <td>374b7269-c137-4560-b275-be0ff0256264</td>\n",
              "      <td>MXwoaH3V1D</td>\n",
              "      <td>Gemma</td>\n",
              "      <td>Gutkowski</td>\n",
              "      <td>gemma.gutkowski</td>\n",
              "      <td>gemma.gutkowski@email.com</td>\n",
              "      <td>https://robohash.org/consectetursolutaat.png?s...</td>\n",
              "      <td>Genderqueer</td>\n",
              "      <td>+98 (221) 147-9875 x67005</td>\n",
              "      <td>187689740</td>\n",
              "      <td>1982-05-19</td>\n",
              "      <td>{'title': 'Global Manager', 'key_skill': 'Prob...</td>\n",
              "      <td>{'city': 'Goyetteport', 'street_name': 'O'Hara...</td>\n",
              "      <td>{'cc_number': '4164656154242'}</td>\n",
              "      <td>{'plan': 'Professional', 'status': 'Pending', ...</td>\n",
              "      <td>42</td>\n",
              "    </tr>\n",
              "    <tr>\n",
              "      <th>1</th>\n",
              "      <td>3690</td>\n",
              "      <td>7a5ffd76-9fd8-4417-a1a9-9e803362effc</td>\n",
              "      <td>fcsbhQEOpd</td>\n",
              "      <td>Eugenio</td>\n",
              "      <td>Rutherford</td>\n",
              "      <td>eugenio.rutherford</td>\n",
              "      <td>eugenio.rutherford@email.com</td>\n",
              "      <td>https://robohash.org/adipisciconsequunturdolor...</td>\n",
              "      <td>Bigender</td>\n",
              "      <td>+1-784 602.444.7538 x217</td>\n",
              "      <td>953282548</td>\n",
              "      <td>1965-04-12</td>\n",
              "      <td>{'title': 'Forward Manufacturing Executive', '...</td>\n",
              "      <td>{'city': 'Shawnaview', 'street_name': 'Gleason...</td>\n",
              "      <td>{'cc_number': '6771-8937-0314-7522'}</td>\n",
              "      <td>{'plan': 'Bronze', 'status': 'Idle', 'payment_...</td>\n",
              "      <td>59</td>\n",
              "    </tr>\n",
              "    <tr>\n",
              "      <th>2</th>\n",
              "      <td>65</td>\n",
              "      <td>751e9c9e-7741-4cab-aec7-5f95643ea5e4</td>\n",
              "      <td>y8ad6zvqP7</td>\n",
              "      <td>Bok</td>\n",
              "      <td>Corkery</td>\n",
              "      <td>bok.corkery</td>\n",
              "      <td>bok.corkery@email.com</td>\n",
              "      <td>https://robohash.org/autaliquamfacilis.png?siz...</td>\n",
              "      <td>Female</td>\n",
              "      <td>+1-939 (693) 995-0477 x8781</td>\n",
              "      <td>463504407</td>\n",
              "      <td>1996-10-26</td>\n",
              "      <td>{'title': 'Chief Administration Analyst', 'key...</td>\n",
              "      <td>{'city': 'Hammesberg', 'street_name': 'Jeannet...</td>\n",
              "      <td>{'cc_number': '5497-0292-4776-0232'}</td>\n",
              "      <td>{'plan': 'Starter', 'status': 'Active', 'payme...</td>\n",
              "      <td>28</td>\n",
              "    </tr>\n",
              "  </tbody>\n",
              "</table>\n",
              "</div>\n",
              "    <div class=\"colab-df-buttons\">\n",
              "\n",
              "  <div class=\"colab-df-container\">\n",
              "    <button class=\"colab-df-convert\" onclick=\"convertToInteractive('df-6496b292-2d63-4fc3-aba5-292d28cff73a')\"\n",
              "            title=\"Convert this dataframe to an interactive table.\"\n",
              "            style=\"display:none;\">\n",
              "\n",
              "  <svg xmlns=\"http://www.w3.org/2000/svg\" height=\"24px\" viewBox=\"0 -960 960 960\">\n",
              "    <path d=\"M120-120v-720h720v720H120Zm60-500h600v-160H180v160Zm220 220h160v-160H400v160Zm0 220h160v-160H400v160ZM180-400h160v-160H180v160Zm440 0h160v-160H620v160ZM180-180h160v-160H180v160Zm440 0h160v-160H620v160Z\"/>\n",
              "  </svg>\n",
              "    </button>\n",
              "\n",
              "  <style>\n",
              "    .colab-df-container {\n",
              "      display:flex;\n",
              "      gap: 12px;\n",
              "    }\n",
              "\n",
              "    .colab-df-convert {\n",
              "      background-color: #E8F0FE;\n",
              "      border: none;\n",
              "      border-radius: 50%;\n",
              "      cursor: pointer;\n",
              "      display: none;\n",
              "      fill: #1967D2;\n",
              "      height: 32px;\n",
              "      padding: 0 0 0 0;\n",
              "      width: 32px;\n",
              "    }\n",
              "\n",
              "    .colab-df-convert:hover {\n",
              "      background-color: #E2EBFA;\n",
              "      box-shadow: 0px 1px 2px rgba(60, 64, 67, 0.3), 0px 1px 3px 1px rgba(60, 64, 67, 0.15);\n",
              "      fill: #174EA6;\n",
              "    }\n",
              "\n",
              "    .colab-df-buttons div {\n",
              "      margin-bottom: 4px;\n",
              "    }\n",
              "\n",
              "    [theme=dark] .colab-df-convert {\n",
              "      background-color: #3B4455;\n",
              "      fill: #D2E3FC;\n",
              "    }\n",
              "\n",
              "    [theme=dark] .colab-df-convert:hover {\n",
              "      background-color: #434B5C;\n",
              "      box-shadow: 0px 1px 3px 1px rgba(0, 0, 0, 0.15);\n",
              "      filter: drop-shadow(0px 1px 2px rgba(0, 0, 0, 0.3));\n",
              "      fill: #FFFFFF;\n",
              "    }\n",
              "  </style>\n",
              "\n",
              "    <script>\n",
              "      const buttonEl =\n",
              "        document.querySelector('#df-6496b292-2d63-4fc3-aba5-292d28cff73a button.colab-df-convert');\n",
              "      buttonEl.style.display =\n",
              "        google.colab.kernel.accessAllowed ? 'block' : 'none';\n",
              "\n",
              "      async function convertToInteractive(key) {\n",
              "        const element = document.querySelector('#df-6496b292-2d63-4fc3-aba5-292d28cff73a');\n",
              "        const dataTable =\n",
              "          await google.colab.kernel.invokeFunction('convertToInteractive',\n",
              "                                                    [key], {});\n",
              "        if (!dataTable) return;\n",
              "\n",
              "        const docLinkHtml = 'Like what you see? Visit the ' +\n",
              "          '<a target=\"_blank\" href=https://colab.research.google.com/notebooks/data_table.ipynb>data table notebook</a>'\n",
              "          + ' to learn more about interactive tables.';\n",
              "        element.innerHTML = '';\n",
              "        dataTable['output_type'] = 'display_data';\n",
              "        await google.colab.output.renderOutput(dataTable, element);\n",
              "        const docLink = document.createElement('div');\n",
              "        docLink.innerHTML = docLinkHtml;\n",
              "        element.appendChild(docLink);\n",
              "      }\n",
              "    </script>\n",
              "  </div>\n",
              "\n",
              "\n",
              "<div id=\"df-f011b1e6-ad5a-4a8c-8d5f-c53dfa51fd4e\">\n",
              "  <button class=\"colab-df-quickchart\" onclick=\"quickchart('df-f011b1e6-ad5a-4a8c-8d5f-c53dfa51fd4e')\"\n",
              "            title=\"Suggest charts\"\n",
              "            style=\"display:none;\">\n",
              "\n",
              "<svg xmlns=\"http://www.w3.org/2000/svg\" height=\"24px\"viewBox=\"0 0 24 24\"\n",
              "     width=\"24px\">\n",
              "    <g>\n",
              "        <path d=\"M19 3H5c-1.1 0-2 .9-2 2v14c0 1.1.9 2 2 2h14c1.1 0 2-.9 2-2V5c0-1.1-.9-2-2-2zM9 17H7v-7h2v7zm4 0h-2V7h2v10zm4 0h-2v-4h2v4z\"/>\n",
              "    </g>\n",
              "</svg>\n",
              "  </button>\n",
              "\n",
              "<style>\n",
              "  .colab-df-quickchart {\n",
              "      --bg-color: #E8F0FE;\n",
              "      --fill-color: #1967D2;\n",
              "      --hover-bg-color: #E2EBFA;\n",
              "      --hover-fill-color: #174EA6;\n",
              "      --disabled-fill-color: #AAA;\n",
              "      --disabled-bg-color: #DDD;\n",
              "  }\n",
              "\n",
              "  [theme=dark] .colab-df-quickchart {\n",
              "      --bg-color: #3B4455;\n",
              "      --fill-color: #D2E3FC;\n",
              "      --hover-bg-color: #434B5C;\n",
              "      --hover-fill-color: #FFFFFF;\n",
              "      --disabled-bg-color: #3B4455;\n",
              "      --disabled-fill-color: #666;\n",
              "  }\n",
              "\n",
              "  .colab-df-quickchart {\n",
              "    background-color: var(--bg-color);\n",
              "    border: none;\n",
              "    border-radius: 50%;\n",
              "    cursor: pointer;\n",
              "    display: none;\n",
              "    fill: var(--fill-color);\n",
              "    height: 32px;\n",
              "    padding: 0;\n",
              "    width: 32px;\n",
              "  }\n",
              "\n",
              "  .colab-df-quickchart:hover {\n",
              "    background-color: var(--hover-bg-color);\n",
              "    box-shadow: 0 1px 2px rgba(60, 64, 67, 0.3), 0 1px 3px 1px rgba(60, 64, 67, 0.15);\n",
              "    fill: var(--button-hover-fill-color);\n",
              "  }\n",
              "\n",
              "  .colab-df-quickchart-complete:disabled,\n",
              "  .colab-df-quickchart-complete:disabled:hover {\n",
              "    background-color: var(--disabled-bg-color);\n",
              "    fill: var(--disabled-fill-color);\n",
              "    box-shadow: none;\n",
              "  }\n",
              "\n",
              "  .colab-df-spinner {\n",
              "    border: 2px solid var(--fill-color);\n",
              "    border-color: transparent;\n",
              "    border-bottom-color: var(--fill-color);\n",
              "    animation:\n",
              "      spin 1s steps(1) infinite;\n",
              "  }\n",
              "\n",
              "  @keyframes spin {\n",
              "    0% {\n",
              "      border-color: transparent;\n",
              "      border-bottom-color: var(--fill-color);\n",
              "      border-left-color: var(--fill-color);\n",
              "    }\n",
              "    20% {\n",
              "      border-color: transparent;\n",
              "      border-left-color: var(--fill-color);\n",
              "      border-top-color: var(--fill-color);\n",
              "    }\n",
              "    30% {\n",
              "      border-color: transparent;\n",
              "      border-left-color: var(--fill-color);\n",
              "      border-top-color: var(--fill-color);\n",
              "      border-right-color: var(--fill-color);\n",
              "    }\n",
              "    40% {\n",
              "      border-color: transparent;\n",
              "      border-right-color: var(--fill-color);\n",
              "      border-top-color: var(--fill-color);\n",
              "    }\n",
              "    60% {\n",
              "      border-color: transparent;\n",
              "      border-right-color: var(--fill-color);\n",
              "    }\n",
              "    80% {\n",
              "      border-color: transparent;\n",
              "      border-right-color: var(--fill-color);\n",
              "      border-bottom-color: var(--fill-color);\n",
              "    }\n",
              "    90% {\n",
              "      border-color: transparent;\n",
              "      border-bottom-color: var(--fill-color);\n",
              "    }\n",
              "  }\n",
              "</style>\n",
              "\n",
              "  <script>\n",
              "    async function quickchart(key) {\n",
              "      const quickchartButtonEl =\n",
              "        document.querySelector('#' + key + ' button');\n",
              "      quickchartButtonEl.disabled = true;  // To prevent multiple clicks.\n",
              "      quickchartButtonEl.classList.add('colab-df-spinner');\n",
              "      try {\n",
              "        const charts = await google.colab.kernel.invokeFunction(\n",
              "            'suggestCharts', [key], {});\n",
              "      } catch (error) {\n",
              "        console.error('Error during call to suggestCharts:', error);\n",
              "      }\n",
              "      quickchartButtonEl.classList.remove('colab-df-spinner');\n",
              "      quickchartButtonEl.classList.add('colab-df-quickchart-complete');\n",
              "    }\n",
              "    (() => {\n",
              "      let quickchartButtonEl =\n",
              "        document.querySelector('#df-f011b1e6-ad5a-4a8c-8d5f-c53dfa51fd4e button');\n",
              "      quickchartButtonEl.style.display =\n",
              "        google.colab.kernel.accessAllowed ? 'block' : 'none';\n",
              "    })();\n",
              "  </script>\n",
              "</div>\n",
              "\n",
              "    </div>\n",
              "  </div>\n"
            ],
            "application/vnd.google.colaboratory.intrinsic+json": {
              "type": "dataframe",
              "variable_name": "user_df",
              "summary": "{\n  \"name\": \"user_df\",\n  \"rows\": 3000,\n  \"fields\": [\n    {\n      \"column\": \"id\",\n      \"properties\": {\n        \"dtype\": \"number\",\n        \"std\": 2920,\n        \"min\": 2,\n        \"max\": 9998,\n        \"num_unique_values\": 2573,\n        \"samples\": [\n          9998,\n          8539,\n          3653\n        ],\n        \"semantic_type\": \"\",\n        \"description\": \"\"\n      }\n    },\n    {\n      \"column\": \"uid\",\n      \"properties\": {\n        \"dtype\": \"string\",\n        \"num_unique_values\": 3000,\n        \"samples\": [\n          \"8ea0b148-439e-4f37-a573-944e196297c0\",\n          \"9c2ff859-8fae-48c4-8aa2-4794a8687636\",\n          \"080a6a1f-77f1-41ee-9eea-55f7cc631f2c\"\n        ],\n        \"semantic_type\": \"\",\n        \"description\": \"\"\n      }\n    },\n    {\n      \"column\": \"password\",\n      \"properties\": {\n        \"dtype\": \"string\",\n        \"num_unique_values\": 3000,\n        \"samples\": [\n          \"uJ4igemzMP\",\n          \"8MPuy0HgJ4\",\n          \"qhBjAzLgCV\"\n        ],\n        \"semantic_type\": \"\",\n        \"description\": \"\"\n      }\n    },\n    {\n      \"column\": \"first_name\",\n      \"properties\": {\n        \"dtype\": \"string\",\n        \"num_unique_values\": 2074,\n        \"samples\": [\n          \"Christian\",\n          \"Weston\",\n          \"Carman\"\n        ],\n        \"semantic_type\": \"\",\n        \"description\": \"\"\n      }\n    },\n    {\n      \"column\": \"last_name\",\n      \"properties\": {\n        \"dtype\": \"category\",\n        \"num_unique_values\": 472,\n        \"samples\": [\n          \"Kessler\",\n          \"Runte\",\n          \"Mante\"\n        ],\n        \"semantic_type\": \"\",\n        \"description\": \"\"\n      }\n    },\n    {\n      \"column\": \"username\",\n      \"properties\": {\n        \"dtype\": \"string\",\n        \"num_unique_values\": 2997,\n        \"samples\": [\n          \"santo.miller\",\n          \"darrel.heller\",\n          \"mozell.murphy\"\n        ],\n        \"semantic_type\": \"\",\n        \"description\": \"\"\n      }\n    },\n    {\n      \"column\": \"email\",\n      \"properties\": {\n        \"dtype\": \"string\",\n        \"num_unique_values\": 2997,\n        \"samples\": [\n          \"santo.miller@email.com\",\n          \"darrel.heller@email.com\",\n          \"mozell.murphy@email.com\"\n        ],\n        \"semantic_type\": \"\",\n        \"description\": \"\"\n      }\n    },\n    {\n      \"column\": \"avatar\",\n      \"properties\": {\n        \"dtype\": \"string\",\n        \"num_unique_values\": 2996,\n        \"samples\": [\n          \"https://robohash.org/consequaturconsequaturaut.png?size=300x300&set=set1\",\n          \"https://robohash.org/ipsamrepudiandaeodio.png?size=300x300&set=set1\",\n          \"https://robohash.org/pariaturexomnis.png?size=300x300&set=set1\"\n        ],\n        \"semantic_type\": \"\",\n        \"description\": \"\"\n      }\n    },\n    {\n      \"column\": \"gender\",\n      \"properties\": {\n        \"dtype\": \"category\",\n        \"num_unique_values\": 8,\n        \"samples\": [\n          \"Bigender\",\n          \"Non-binary\",\n          \"Genderqueer\"\n        ],\n        \"semantic_type\": \"\",\n        \"description\": \"\"\n      }\n    },\n    {\n      \"column\": \"phone_number\",\n      \"properties\": {\n        \"dtype\": \"string\",\n        \"num_unique_values\": 3000,\n        \"samples\": [\n          \"+291 1-359-351-8424 x485\",\n          \"+230 432.725.4016 x79874\",\n          \"+247 650.446.5742 x0552\"\n        ],\n        \"semantic_type\": \"\",\n        \"description\": \"\"\n      }\n    },\n    {\n      \"column\": \"social_insurance_number\",\n      \"properties\": {\n        \"dtype\": \"string\",\n        \"num_unique_values\": 3000,\n        \"samples\": [\n          \"424151058\",\n          \"287536791\",\n          \"680593340\"\n        ],\n        \"semantic_type\": \"\",\n        \"description\": \"\"\n      }\n    },\n    {\n      \"column\": \"date_of_birth\",\n      \"properties\": {\n        \"dtype\": \"object\",\n        \"num_unique_values\": 2755,\n        \"samples\": [\n          \"2001-03-25\",\n          \"1966-01-31\",\n          \"1969-06-09\"\n        ],\n        \"semantic_type\": \"\",\n        \"description\": \"\"\n      }\n    },\n    {\n      \"column\": \"employment\",\n      \"properties\": {\n        \"dtype\": \"object\",\n        \"semantic_type\": \"\",\n        \"description\": \"\"\n      }\n    },\n    {\n      \"column\": \"address\",\n      \"properties\": {\n        \"dtype\": \"object\",\n        \"semantic_type\": \"\",\n        \"description\": \"\"\n      }\n    },\n    {\n      \"column\": \"credit_card\",\n      \"properties\": {\n        \"dtype\": \"object\",\n        \"semantic_type\": \"\",\n        \"description\": \"\"\n      }\n    },\n    {\n      \"column\": \"subscription\",\n      \"properties\": {\n        \"dtype\": \"object\",\n        \"semantic_type\": \"\",\n        \"description\": \"\"\n      }\n    },\n    {\n      \"column\": \"age\",\n      \"properties\": {\n        \"dtype\": \"number\",\n        \"std\": 13,\n        \"min\": 18,\n        \"max\": 64,\n        \"num_unique_values\": 47,\n        \"samples\": [\n          25,\n          58,\n          53\n        ],\n        \"semantic_type\": \"\",\n        \"description\": \"\"\n      }\n    }\n  ]\n}"
            }
          },
          "metadata": {},
          "execution_count": 23
        }
      ],
      "source": [
        "user_df.head(3)"
      ]
    },
    {
      "cell_type": "code",
      "execution_count": 24,
      "id": "468dc3f4-2225-4bad-a729-8a42ff1e9177",
      "metadata": {
        "id": "468dc3f4-2225-4bad-a729-8a42ff1e9177",
        "outputId": "128b3e8a-3013-45dd-b14c-4d5d009cdb0b",
        "colab": {
          "base_uri": "https://localhost:8080/"
        }
      },
      "outputs": [
        {
          "output_type": "stream",
          "name": "stdout",
          "text": [
            "<class 'pandas.core.frame.DataFrame'>\n",
            "RangeIndex: 3000 entries, 0 to 2999\n",
            "Data columns (total 17 columns):\n",
            " #   Column                   Non-Null Count  Dtype \n",
            "---  ------                   --------------  ----- \n",
            " 0   id                       3000 non-null   int64 \n",
            " 1   uid                      3000 non-null   object\n",
            " 2   password                 3000 non-null   object\n",
            " 3   first_name               3000 non-null   object\n",
            " 4   last_name                3000 non-null   object\n",
            " 5   username                 3000 non-null   object\n",
            " 6   email                    3000 non-null   object\n",
            " 7   avatar                   3000 non-null   object\n",
            " 8   gender                   3000 non-null   object\n",
            " 9   phone_number             3000 non-null   object\n",
            " 10  social_insurance_number  3000 non-null   object\n",
            " 11  date_of_birth            3000 non-null   object\n",
            " 12  employment               3000 non-null   object\n",
            " 13  address                  3000 non-null   object\n",
            " 14  credit_card              3000 non-null   object\n",
            " 15  subscription             3000 non-null   object\n",
            " 16  age                      3000 non-null   int64 \n",
            "dtypes: int64(2), object(15)\n",
            "memory usage: 398.6+ KB\n"
          ]
        }
      ],
      "source": [
        "user_df.info()"
      ]
    },
    {
      "cell_type": "markdown",
      "id": "03a8527a-ce7a-4f13-8804-9b43fad93938",
      "metadata": {
        "id": "03a8527a-ce7a-4f13-8804-9b43fad93938"
      },
      "source": [
        "## <span style=\"font-size: 20px; color: black;\"> 3. Create a boxplot for age. Write your observations."
      ]
    },
    {
      "cell_type": "code",
      "execution_count": 25,
      "id": "86577f5c-30fe-4d04-9ca6-491db5e266be",
      "metadata": {
        "scrolled": true,
        "id": "86577f5c-30fe-4d04-9ca6-491db5e266be",
        "outputId": "20c91c1b-9497-4a28-a05f-792870655dea",
        "colab": {
          "base_uri": "https://localhost:8080/",
          "height": 717
        }
      },
      "outputs": [
        {
          "output_type": "display_data",
          "data": {
            "text/plain": [
              "<Figure size 1000x800 with 1 Axes>"
            ],
            "image/png": "[encoded data removed]"
          },
          "metadata": {}
        }
      ],
      "source": [
        "plt.figure(figsize=(10,8))\n",
        "sns.boxplot(x=user_df['age'])\n",
        "plt.title('Boxplot of Age')\n",
        "plt.show()"
      ]
    },
    {
      "cell_type": "code",
      "execution_count": 26,
      "id": "f0c34193-0009-4fe8-bf67-3299349b916d",
      "metadata": {
        "scrolled": true,
        "id": "f0c34193-0009-4fe8-bf67-3299349b916d"
      },
      "outputs": [],
      "source": [
        "# Extracting the boxplot statistics\n",
        "stats = user_df['age'].describe()"
      ]
    },
    {
      "cell_type": "code",
      "execution_count": 27,
      "id": "8a42bfe7-0385-4e07-a057-46affcc88271",
      "metadata": {
        "id": "8a42bfe7-0385-4e07-a057-46affcc88271",
        "outputId": "72047846-25e6-400e-9af4-145616b3f363",
        "colab": {
          "base_uri": "https://localhost:8080/",
          "height": 335
        }
      },
      "outputs": [
        {
          "output_type": "execute_result",
          "data": {
            "text/plain": [
              "count    3000.000000\n",
              "mean       41.183000\n",
              "std        13.761273\n",
              "min        18.000000\n",
              "25%        29.000000\n",
              "50%        41.000000\n",
              "75%        53.000000\n",
              "max        64.000000\n",
              "Name: age, dtype: float64"
            ],
            "text/html": [
              "<div>\n",
              "<style scoped>\n",
              "    .dataframe tbody tr th:only-of-type {\n",
              "        vertical-align: middle;\n",
              "    }\n",
              "\n",
              "    .dataframe tbody tr th {\n",
              "        vertical-align: top;\n",
              "    }\n",
              "\n",
              "    .dataframe thead th {\n",
              "        text-align: right;\n",
              "    }\n",
              "</style>\n",
              "<table border=\"1\" class=\"dataframe\">\n",
              "  <thead>\n",
              "    <tr style=\"text-align: right;\">\n",
              "      <th></th>\n",
              "      <th>age</th>\n",
              "    </tr>\n",
              "  </thead>\n",
              "  <tbody>\n",
              "    <tr>\n",
              "      <th>count</th>\n",
              "      <td>3000.000000</td>\n",
              "    </tr>\n",
              "    <tr>\n",
              "      <th>mean</th>\n",
              "      <td>41.183000</td>\n",
              "    </tr>\n",
              "    <tr>\n",
              "      <th>std</th>\n",
              "      <td>13.761273</td>\n",
              "    </tr>\n",
              "    <tr>\n",
              "      <th>min</th>\n",
              "      <td>18.000000</td>\n",
              "    </tr>\n",
              "    <tr>\n",
              "      <th>25%</th>\n",
              "      <td>29.000000</td>\n",
              "    </tr>\n",
              "    <tr>\n",
              "      <th>50%</th>\n",
              "      <td>41.000000</td>\n",
              "    </tr>\n",
              "    <tr>\n",
              "      <th>75%</th>\n",
              "      <td>53.000000</td>\n",
              "    </tr>\n",
              "    <tr>\n",
              "      <th>max</th>\n",
              "      <td>64.000000</td>\n",
              "    </tr>\n",
              "  </tbody>\n",
              "</table>\n",
              "</div><br><label><b>dtype:</b> float64</label>"
            ]
          },
          "metadata": {},
          "execution_count": 27
        }
      ],
      "source": [
        "stats"
      ]
    },
    {
      "cell_type": "code",
      "execution_count": 28,
      "id": "aed0982b-157c-490a-ab99-894470173f44",
      "metadata": {
        "id": "aed0982b-157c-490a-ab99-894470173f44",
        "outputId": "109b21a1-8f84-4830-be5c-d6df02b5d5ab",
        "colab": {
          "base_uri": "https://localhost:8080/"
        }
      },
      "outputs": [
        {
          "output_type": "stream",
          "name": "stdout",
          "text": [
            "Minimum Value: 18.0\n",
            "Q1 (25th Percentile): 29.0\n",
            "Median (50th Percentile): 41.0\n",
            "Q3 (75th Percentile): 53.0\n",
            "Maximum Value: 64.0\n",
            "Interquartile Range (IQR): 24.0\n",
            "Outliers Below Q1: Series([], Name: age, dtype: int64)\n",
            "Outliers Above Q3: Series([], Name: age, dtype: int64)\n"
          ]
        }
      ],
      "source": [
        "iqr = stats['75%'] - stats['25%']\n",
        "min_value = stats['min']\n",
        "max_value = stats['max']\n",
        "median = stats['50%']\n",
        "q1 = stats['25%']\n",
        "q3 = stats['75%']\n",
        "outliers_low = user_df['age'][user_df['age'] < (q1 - 1.5 * iqr)]\n",
        "outliers_high = user_df['age'][user_df['age'] > (q3 + 1.5 * iqr)]\n",
        "\n",
        "print(\"Minimum Value:\", min_value)\n",
        "print(\"Q1 (25th Percentile):\", q1)\n",
        "print(\"Median (50th Percentile):\", median)\n",
        "print(\"Q3 (75th Percentile):\", q3)\n",
        "print(\"Maximum Value:\", max_value)\n",
        "print(\"Interquartile Range (IQR):\", iqr)\n",
        "print(\"Outliers Below Q1:\", outliers_low)\n",
        "print(\"Outliers Above Q3:\", outliers_high)"
      ]
    },
    {
      "cell_type": "markdown",
      "id": "c1018439-4cdb-47bd-889c-b3339f03b77a",
      "metadata": {
        "id": "c1018439-4cdb-47bd-889c-b3339f03b77a"
      },
      "source": [
        "observations are as follows:\n",
        "* that there are no outliers below Q1 and Q3 and the data is uniformally distributed\n",
        "* The size of the box and the length of the whiskers provide insights into the spread and variability of the data. A larger box and longer whiskers indicate greater variability\n",
        "* The median line is centered in the box, and the whiskers are of approximately equal length"
      ]
    },
    {
      "cell_type": "markdown",
      "id": "ffccac6c-6640-4b81-984f-feda32e2de48",
      "metadata": {
        "id": "ffccac6c-6640-4b81-984f-feda32e2de48"
      },
      "source": [
        "## <span style=\"font-size: 20px; color: black;\"> 4. Create a plot that helps us evaluate the distribution of ages in the dataset. Note that the data here was randomly generated without any bias. What distribution would you expect for the distribution of age? Is your plot consistent with your expectation? Why or why not? (Note: You can use the slides from session 2 for guidance on the type of observations that can be made) (10 pts)"
      ]
    },
    {
      "cell_type": "markdown",
      "id": "68837f76-83dc-4676-8d6e-36805d5d0504",
      "metadata": {
        "id": "68837f76-83dc-4676-8d6e-36805d5d0504"
      },
      "source": [
        "To understand the distribution we would be checking the Histogram first\n",
        "\n",
        "Since the data for age was randomly generated without any bias, I am expecting the distribution to follow a normal distribution if it was generated from a process with a central tendency and random variation. This is because many natural phenomena and random processes tend to follow a normal distribution due to the Central Limit Theorem.\n"
      ]
    },
    {
      "cell_type": "code",
      "execution_count": 29,
      "id": "eee8dd58-9944-4f64-b804-542751a3362b",
      "metadata": {
        "scrolled": true,
        "id": "eee8dd58-9944-4f64-b804-542751a3362b",
        "outputId": "76650496-802d-4ef7-c40a-ccd6496383cb",
        "colab": {
          "base_uri": "https://localhost:8080/",
          "height": 564
        }
      },
      "outputs": [
        {
          "output_type": "display_data",
          "data": {
            "text/plain": [
              "<Figure size 800x600 with 1 Axes>"
            ],
            "image/png": "[encoded data removed]"
          },
          "metadata": {}
        }
      ],
      "source": [
        "#histogram\n",
        "plt.figure(figsize=(8,6))\n",
        "sns.histplot(user_df['age'],kde=True,bins=20)\n",
        "plt.title('Histogram of Age')\n",
        "plt.show()"
      ]
    },
    {
      "cell_type": "code",
      "execution_count": 30,
      "id": "2ccbe2eb-5507-4a68-ae80-6ee58540221e",
      "metadata": {
        "id": "2ccbe2eb-5507-4a68-ae80-6ee58540221e"
      },
      "outputs": [],
      "source": [
        "#checking the distrubution with the help of Q-Q Plot"
      ]
    },
    {
      "cell_type": "code",
      "execution_count": 31,
      "id": "e97e30d8-ce10-4fc7-9980-bd489ef8dd96",
      "metadata": {
        "id": "e97e30d8-ce10-4fc7-9980-bd489ef8dd96",
        "outputId": "685bad9c-5049-4611-a27f-c40f853e371a",
        "colab": {
          "base_uri": "https://localhost:8080/",
          "height": 449
        }
      },
      "outputs": [
        {
          "output_type": "display_data",
          "data": {
            "text/plain": [
              "<Figure size 640x480 with 1 Axes>"
            ],
            "image/png": "[encoded data removed]"
          },
          "metadata": {}
        }
      ],
      "source": [
        "from statsmodels.graphics.gofplots import qqplot\n",
        "import matplotlib.pyplot as plt\n",
        "from scipy.stats import norm, uniform\n",
        "\n",
        "qqplot(user_df['age'], norm, fit = True, line='45');\n",
        "plt.show()"
      ]
    },
    {
      "cell_type": "code",
      "execution_count": 32,
      "id": "2c36a7fd-5ce9-437d-b8e7-781580339de5",
      "metadata": {
        "scrolled": true,
        "id": "2c36a7fd-5ce9-437d-b8e7-781580339de5",
        "outputId": "6480704c-a38e-469d-cc10-b4d48c288b29",
        "colab": {
          "base_uri": "https://localhost:8080/",
          "height": 449
        }
      },
      "outputs": [
        {
          "output_type": "display_data",
          "data": {
            "text/plain": [
              "<Figure size 640x480 with 1 Axes>"
            ],
            "image/png": "[encoded data removed]"
          },
          "metadata": {}
        }
      ],
      "source": [
        "from statsmodels.graphics.gofplots import qqplot\n",
        "import matplotlib.pyplot as plt\n",
        "from scipy.stats import norm, uniform\n",
        "\n",
        "qqplot(user_df['age'], uniform, fit = True, line='45');\n",
        "plt.show()"
      ]
    },
    {
      "cell_type": "markdown",
      "id": "21cdf0fa-368f-44c5-94a1-aca67d4518e5",
      "metadata": {
        "id": "21cdf0fa-368f-44c5-94a1-aca67d4518e5"
      },
      "source": [
        "* so Q-Q plot validates that the distribution is Uniform Distribution which nullify our intital expectation of getting a normal distrubiton"
      ]
    },
    {
      "cell_type": "markdown",
      "id": "24746c3f-4b4e-4efb-8bff-d76464287cc0",
      "metadata": {
        "id": "24746c3f-4b4e-4efb-8bff-d76464287cc0"
      },
      "source": [
        "## <span style=\"font-size: 20px; color: black;\"> 5. Generate 5000 data points using the age column as follows: (i) Generate a random sample of 10 ages from the age column. Compute the mean. Store it in a list. (ii) Repeat for 5000 times and appendthe sample means to the list. Hint: You can use list comprehension to achieve this is in a single lineof code. (10pts)"
      ]
    },
    {
      "cell_type": "markdown",
      "id": "df062387-834c-4c17-9f82-ffa56e89fe22",
      "metadata": {
        "id": "df062387-834c-4c17-9f82-ffa56e89fe22"
      },
      "source": [
        "### <span style=\"font-size: 20px; color: black;\"> (i) Generate a random sample of 10 ages from the age column. Compute the mean. Store it in a list"
      ]
    },
    {
      "cell_type": "code",
      "execution_count": 33,
      "id": "3a9986a9-6141-4b27-ae2c-13904d0822f5",
      "metadata": {
        "id": "3a9986a9-6141-4b27-ae2c-13904d0822f5"
      },
      "outputs": [],
      "source": [
        "# taking the vales of ages in an separate numpy array\n",
        "ages = user_df['age'].values\n"
      ]
    },
    {
      "cell_type": "code",
      "execution_count": 34,
      "id": "f4cb18f9-28cc-4d1b-ad77-7e9573071dfd",
      "metadata": {
        "id": "f4cb18f9-28cc-4d1b-ad77-7e9573071dfd",
        "outputId": "dd71c991-f427-4147-c8ad-fb36c83780d3",
        "colab": {
          "base_uri": "https://localhost:8080/"
        }
      },
      "outputs": [
        {
          "output_type": "execute_result",
          "data": {
            "text/plain": [
              "numpy.ndarray"
            ]
          },
          "metadata": {},
          "execution_count": 34
        }
      ],
      "source": [
        "type(ages)"
      ]
    },
    {
      "cell_type": "code",
      "execution_count": 35,
      "id": "5c95fe84-2c2f-4e5c-b83e-fd24be7a0f81",
      "metadata": {
        "id": "5c95fe84-2c2f-4e5c-b83e-fd24be7a0f81"
      },
      "outputs": [],
      "source": [
        "### Generate a random sample of 10 ages\n",
        "sample = list(np.random.choice(ages, size=10, replace=False))"
      ]
    },
    {
      "cell_type": "code",
      "execution_count": 36,
      "id": "3cd6b9c7-f8a0-4603-9cbd-59d1fea0e32c",
      "metadata": {
        "id": "3cd6b9c7-f8a0-4603-9cbd-59d1fea0e32c",
        "outputId": "7e305dc7-060d-4007-df23-d988f01b0dba",
        "colab": {
          "base_uri": "https://localhost:8080/"
        }
      },
      "outputs": [
        {
          "output_type": "execute_result",
          "data": {
            "text/plain": [
              "[25, 63, 56, 59, 18, 53, 19, 26, 50, 26]"
            ]
          },
          "metadata": {},
          "execution_count": 36
        }
      ],
      "source": [
        "sample"
      ]
    },
    {
      "cell_type": "code",
      "execution_count": 37,
      "id": "b02530bb-924f-484d-9924-6c4aca6fe45f",
      "metadata": {
        "id": "b02530bb-924f-484d-9924-6c4aca6fe45f"
      },
      "outputs": [],
      "source": [
        "mean_sample=np.mean(sample)"
      ]
    },
    {
      "cell_type": "code",
      "execution_count": 38,
      "id": "36e1b666-3a17-45c7-8eac-28ba5a6d1724",
      "metadata": {
        "id": "36e1b666-3a17-45c7-8eac-28ba5a6d1724",
        "outputId": "abef69d2-dae5-49bd-bf60-83dac12b8bcb",
        "colab": {
          "base_uri": "https://localhost:8080/"
        }
      },
      "outputs": [
        {
          "output_type": "execute_result",
          "data": {
            "text/plain": [
              "39.5"
            ]
          },
          "metadata": {},
          "execution_count": 38
        }
      ],
      "source": [
        "mean_sample"
      ]
    },
    {
      "cell_type": "code",
      "execution_count": 39,
      "id": "c3a27b7e-ad7b-4bbd-8d50-e57d6134063d",
      "metadata": {
        "id": "c3a27b7e-ad7b-4bbd-8d50-e57d6134063d",
        "outputId": "41c425d8-d5e8-41bb-caf1-e58e26bc7b79",
        "colab": {
          "base_uri": "https://localhost:8080/"
        }
      },
      "outputs": [
        {
          "output_type": "execute_result",
          "data": {
            "text/plain": [
              "numpy.float64"
            ]
          },
          "metadata": {},
          "execution_count": 39
        }
      ],
      "source": [
        "type(mean_sample)"
      ]
    },
    {
      "cell_type": "code",
      "execution_count": 40,
      "id": "795cccb4-a7ba-493b-a43d-ffa6bac76abf",
      "metadata": {
        "id": "795cccb4-a7ba-493b-a43d-ffa6bac76abf"
      },
      "outputs": [],
      "source": [
        "mean_list=list()"
      ]
    },
    {
      "cell_type": "code",
      "execution_count": 41,
      "id": "aa32ebcb-97e6-4426-bbf0-7d0ca09267f6",
      "metadata": {
        "id": "aa32ebcb-97e6-4426-bbf0-7d0ca09267f6"
      },
      "outputs": [],
      "source": [
        "mean_list=mean_sample"
      ]
    },
    {
      "cell_type": "code",
      "execution_count": 42,
      "id": "f3f85c64-fb41-473a-8376-7a929472b191",
      "metadata": {
        "id": "f3f85c64-fb41-473a-8376-7a929472b191",
        "outputId": "9d6ef1d3-bd7b-4b42-d3a9-2a4dfaafd854",
        "colab": {
          "base_uri": "https://localhost:8080/"
        }
      },
      "outputs": [
        {
          "output_type": "execute_result",
          "data": {
            "text/plain": [
              "numpy.float64"
            ]
          },
          "metadata": {},
          "execution_count": 42
        }
      ],
      "source": [
        "type(mean_list)"
      ]
    },
    {
      "cell_type": "code",
      "execution_count": 43,
      "id": "7721ebf3-ea16-46e4-9601-891cded898af",
      "metadata": {
        "id": "7721ebf3-ea16-46e4-9601-891cded898af",
        "outputId": "27aeb0b3-921e-4c65-9506-da342a247ced",
        "colab": {
          "base_uri": "https://localhost:8080/"
        }
      },
      "outputs": [
        {
          "output_type": "execute_result",
          "data": {
            "text/plain": [
              "39.5"
            ]
          },
          "metadata": {},
          "execution_count": 43
        }
      ],
      "source": [
        "mean_list"
      ]
    },
    {
      "cell_type": "markdown",
      "id": "887f6b72-836f-445a-b73d-13a4b4e3aaf8",
      "metadata": {
        "id": "887f6b72-836f-445a-b73d-13a4b4e3aaf8"
      },
      "source": [
        "### <span style=\"font-size: 20px; color: black;\"> (ii) Repeat for 5000 times and appendthe sample means to the list. Hint: You can use list comprehension to achieve this is in a single line of code. (10pts)"
      ]
    },
    {
      "cell_type": "code",
      "execution_count": 44,
      "id": "53be11ed-1313-46bd-bc9b-e9e9b518a1dc",
      "metadata": {
        "scrolled": true,
        "id": "53be11ed-1313-46bd-bc9b-e9e9b518a1dc"
      },
      "outputs": [],
      "source": [
        "# Initializing an empty list to store sample means\n",
        "sample_means = []"
      ]
    },
    {
      "cell_type": "code",
      "execution_count": 45,
      "id": "d36937e2-b100-48c6-b87b-a170f5007f05",
      "metadata": {
        "id": "d36937e2-b100-48c6-b87b-a170f5007f05"
      },
      "outputs": [],
      "source": [
        "# Generating 5000 sample means\n",
        "for i in range(5000):\n",
        "    sample = np.random.choice(ages, size=10, replace=False)\n",
        "    mean = np.mean(sample)\n",
        "    sample_means.append(mean)"
      ]
    },
    {
      "cell_type": "code",
      "execution_count": 46,
      "id": "f7cdc3de-b0fa-494d-8ead-0a91396e4cee",
      "metadata": {
        "scrolled": true,
        "id": "f7cdc3de-b0fa-494d-8ead-0a91396e4cee",
        "outputId": "c81aca49-cf84-4a84-8394-ff5884822a7e",
        "colab": {
          "base_uri": "https://localhost:8080/"
        }
      },
      "outputs": [
        {
          "output_type": "execute_result",
          "data": {
            "text/plain": [
              "[45.5,\n",
              " 41.7,\n",
              " 39.8,\n",
              " 39.5,\n",
              " 43.4,\n",
              " 34.5,\n",
              " 42.5,\n",
              " 43.5,\n",
              " 40.5,\n",
              " 38.1,\n",
              " 42.2,\n",
              " 38.4,\n",
              " 32.8,\n",
              " 40.9,\n",
              " 38.6,\n",
              " 36.8,\n",
              " 47.6,\n",
              " 43.3,\n",
              " 46.8,\n",
              " 36.2,\n",
              " 41.9,\n",
              " 39.3,\n",
              " 37.9,\n",
              " 41.6,\n",
              " 39.9,\n",
              " 43.1,\n",
              " 40.5,\n",
              " 32.7,\n",
              " 36.1,\n",
              " 32.1,\n",
              " 43.2,\n",
              " 41.7,\n",
              " 29.4,\n",
              " 39.0,\n",
              " 50.2,\n",
              " 38.9,\n",
              " 49.3,\n",
              " 46.4,\n",
              " 40.5,\n",
              " 41.8,\n",
              " 46.8,\n",
              " 44.9,\n",
              " 45.5,\n",
              " 41.4,\n",
              " 34.3,\n",
              " 40.8,\n",
              " 52.2,\n",
              " 45.3,\n",
              " 44.7,\n",
              " 37.7,\n",
              " 41.2,\n",
              " 38.9,\n",
              " 40.8,\n",
              " 38.8,\n",
              " 49.1,\n",
              " 41.6,\n",
              " 50.3,\n",
              " 43.9,\n",
              " 42.9,\n",
              " 40.1,\n",
              " 41.8,\n",
              " 48.0,\n",
              " 40.7,\n",
              " 38.3,\n",
              " 31.6,\n",
              " 47.7,\n",
              " 42.1,\n",
              " 42.4,\n",
              " 49.5,\n",
              " 38.9,\n",
              " 36.9,\n",
              " 36.0,\n",
              " 46.9,\n",
              " 41.1,\n",
              " 40.1,\n",
              " 35.8,\n",
              " 38.5,\n",
              " 28.1,\n",
              " 33.2,\n",
              " 38.8,\n",
              " 42.7,\n",
              " 35.9,\n",
              " 44.4,\n",
              " 37.5,\n",
              " 42.0,\n",
              " 44.8,\n",
              " 38.8,\n",
              " 43.5,\n",
              " 40.0,\n",
              " 44.6,\n",
              " 46.7,\n",
              " 47.8,\n",
              " 41.7,\n",
              " 37.9,\n",
              " 48.6,\n",
              " 37.1,\n",
              " 47.1,\n",
              " 43.8,\n",
              " 41.6,\n",
              " 34.9,\n",
              " 34.6,\n",
              " 38.2,\n",
              " 37.1,\n",
              " 39.1,\n",
              " 41.5,\n",
              " 40.1,\n",
              " 33.5,\n",
              " 34.1,\n",
              " 45.2,\n",
              " 46.6,\n",
              " 47.6,\n",
              " 42.3,\n",
              " 40.9,\n",
              " 41.2,\n",
              " 43.5,\n",
              " 38.3,\n",
              " 39.0,\n",
              " 38.2,\n",
              " 40.7,\n",
              " 40.3,\n",
              " 42.1,\n",
              " 41.4,\n",
              " 40.5,\n",
              " 35.4,\n",
              " 37.4,\n",
              " 43.8,\n",
              " 37.5,\n",
              " 41.4,\n",
              " 52.0,\n",
              " 39.0,\n",
              " 44.0,\n",
              " 41.9,\n",
              " 46.0,\n",
              " 39.9,\n",
              " 39.7,\n",
              " 38.4,\n",
              " 41.8,\n",
              " 43.3,\n",
              " 43.2,\n",
              " 48.6,\n",
              " 41.9,\n",
              " 44.4,\n",
              " 44.4,\n",
              " 36.8,\n",
              " 37.2,\n",
              " 39.5,\n",
              " 44.4,\n",
              " 46.5,\n",
              " 38.7,\n",
              " 38.2,\n",
              " 47.2,\n",
              " 37.5,\n",
              " 36.9,\n",
              " 46.7,\n",
              " 38.9,\n",
              " 44.8,\n",
              " 38.3,\n",
              " 39.7,\n",
              " 41.8,\n",
              " 44.5,\n",
              " 37.8,\n",
              " 46.6,\n",
              " 34.5,\n",
              " 41.4,\n",
              " 47.6,\n",
              " 40.4,\n",
              " 42.0,\n",
              " 43.1,\n",
              " 39.0,\n",
              " 38.4,\n",
              " 47.0,\n",
              " 45.9,\n",
              " 43.7,\n",
              " 41.7,\n",
              " 45.4,\n",
              " 37.5,\n",
              " 40.2,\n",
              " 41.5,\n",
              " 38.1,\n",
              " 35.9,\n",
              " 37.6,\n",
              " 35.6,\n",
              " 44.6,\n",
              " 36.0,\n",
              " 47.2,\n",
              " 42.8,\n",
              " 42.9,\n",
              " 44.0,\n",
              " 43.4,\n",
              " 40.0,\n",
              " 43.6,\n",
              " 50.9,\n",
              " 39.1,\n",
              " 40.4,\n",
              " 47.3,\n",
              " 48.1,\n",
              " 42.5,\n",
              " 44.0,\n",
              " 49.7,\n",
              " 45.3,\n",
              " 44.8,\n",
              " 36.5,\n",
              " 50.7,\n",
              " 37.3,\n",
              " 38.1,\n",
              " 41.4,\n",
              " 46.6,\n",
              " 41.1,\n",
              " 36.9,\n",
              " 40.2,\n",
              " 38.2,\n",
              " 46.9,\n",
              " 44.0,\n",
              " 32.3,\n",
              " 38.5,\n",
              " 36.1,\n",
              " 46.6,\n",
              " 45.1,\n",
              " 34.5,\n",
              " 47.8,\n",
              " 38.7,\n",
              " 41.6,\n",
              " 41.6,\n",
              " 40.1,\n",
              " 41.5,\n",
              " 39.7,\n",
              " 41.4,\n",
              " 36.2,\n",
              " 43.6,\n",
              " 36.1,\n",
              " 32.0,\n",
              " 49.5,\n",
              " 39.4,\n",
              " 45.4,\n",
              " 43.3,\n",
              " 48.1,\n",
              " 38.9,\n",
              " 36.3,\n",
              " 43.2,\n",
              " 43.6,\n",
              " 45.9,\n",
              " 29.2,\n",
              " 42.9,\n",
              " 44.2,\n",
              " 35.3,\n",
              " 36.3,\n",
              " 41.6,\n",
              " 44.9,\n",
              " 43.6,\n",
              " 42.2,\n",
              " 46.8,\n",
              " 50.7,\n",
              " 37.8,\n",
              " 43.9,\n",
              " 44.6,\n",
              " 39.6,\n",
              " 48.5,\n",
              " 42.8,\n",
              " 36.8,\n",
              " 46.0,\n",
              " 42.3,\n",
              " 44.1,\n",
              " 45.0,\n",
              " 42.9,\n",
              " 43.2,\n",
              " 41.9,\n",
              " 43.9,\n",
              " 40.1,\n",
              " 46.0,\n",
              " 39.5,\n",
              " 39.0,\n",
              " 41.4,\n",
              " 32.7,\n",
              " 40.8,\n",
              " 45.1,\n",
              " 43.9,\n",
              " 41.6,\n",
              " 35.6,\n",
              " 50.0,\n",
              " 44.0,\n",
              " 46.7,\n",
              " 39.6,\n",
              " 44.5,\n",
              " 38.1,\n",
              " 40.2,\n",
              " 36.6,\n",
              " 42.8,\n",
              " 44.1,\n",
              " 39.5,\n",
              " 42.9,\n",
              " 34.5,\n",
              " 41.0,\n",
              " 41.0,\n",
              " 37.0,\n",
              " 38.4,\n",
              " 44.8,\n",
              " 43.1,\n",
              " 36.3,\n",
              " 43.2,\n",
              " 48.0,\n",
              " 40.6,\n",
              " 37.1,\n",
              " 44.3,\n",
              " 43.8,\n",
              " 42.2,\n",
              " 44.2,\n",
              " 36.4,\n",
              " 32.3,\n",
              " 43.5,\n",
              " 44.3,\n",
              " 38.1,\n",
              " 43.1,\n",
              " 36.2,\n",
              " 38.4,\n",
              " 43.7,\n",
              " 35.1,\n",
              " 42.4,\n",
              " 42.4,\n",
              " 40.0,\n",
              " 34.2,\n",
              " 44.3,\n",
              " 40.3,\n",
              " 41.6,\n",
              " 38.0,\n",
              " 43.6,\n",
              " 47.0,\n",
              " 49.1,\n",
              " 43.7,\n",
              " 45.4,\n",
              " 38.2,\n",
              " 42.7,\n",
              " 34.1,\n",
              " 40.7,\n",
              " 33.2,\n",
              " 43.1,\n",
              " 41.3,\n",
              " 38.2,\n",
              " 43.5,\n",
              " 46.5,\n",
              " 43.4,\n",
              " 40.4,\n",
              " 30.6,\n",
              " 49.7,\n",
              " 41.5,\n",
              " 46.8,\n",
              " 46.7,\n",
              " 34.3,\n",
              " 45.2,\n",
              " 49.2,\n",
              " 41.3,\n",
              " 40.6,\n",
              " 40.9,\n",
              " 35.3,\n",
              " 38.1,\n",
              " 40.8,\n",
              " 43.5,\n",
              " 44.5,\n",
              " 43.7,\n",
              " 43.6,\n",
              " 50.5,\n",
              " 41.7,\n",
              " 37.2,\n",
              " 42.5,\n",
              " 43.3,\n",
              " 39.8,\n",
              " 43.5,\n",
              " 38.5,\n",
              " 39.1,\n",
              " 41.9,\n",
              " 39.7,\n",
              " 32.8,\n",
              " 39.6,\n",
              " 41.3,\n",
              " 41.9,\n",
              " 48.1,\n",
              " 44.7,\n",
              " 39.8,\n",
              " 40.6,\n",
              " 42.6,\n",
              " 41.9,\n",
              " 37.5,\n",
              " 43.8,\n",
              " 43.6,\n",
              " 46.6,\n",
              " 41.9,\n",
              " 40.2,\n",
              " 39.4,\n",
              " 46.3,\n",
              " 37.1,\n",
              " 33.6,\n",
              " 39.4,\n",
              " 36.3,\n",
              " 38.9,\n",
              " 39.8,\n",
              " 40.7,\n",
              " 43.7,\n",
              " 42.5,\n",
              " 37.5,\n",
              " 42.6,\n",
              " 43.0,\n",
              " 46.8,\n",
              " 36.4,\n",
              " 43.1,\n",
              " 41.3,\n",
              " 42.6,\n",
              " 38.8,\n",
              " 42.0,\n",
              " 44.4,\n",
              " 38.2,\n",
              " 42.8,\n",
              " 34.2,\n",
              " 42.5,\n",
              " 35.4,\n",
              " 40.6,\n",
              " 40.4,\n",
              " 36.4,\n",
              " 45.8,\n",
              " 48.3,\n",
              " 36.3,\n",
              " 34.3,\n",
              " 33.7,\n",
              " 47.9,\n",
              " 51.9,\n",
              " 42.1,\n",
              " 49.3,\n",
              " 33.6,\n",
              " 42.1,\n",
              " 41.3,\n",
              " 39.4,\n",
              " 40.6,\n",
              " 34.7,\n",
              " 43.9,\n",
              " 39.6,\n",
              " 35.5,\n",
              " 34.3,\n",
              " 53.9,\n",
              " 39.8,\n",
              " 42.3,\n",
              " 32.0,\n",
              " 38.2,\n",
              " 45.2,\n",
              " 37.5,\n",
              " 34.5,\n",
              " 37.3,\n",
              " 44.9,\n",
              " 41.9,\n",
              " 44.6,\n",
              " 34.9,\n",
              " 46.4,\n",
              " 43.8,\n",
              " 44.6,\n",
              " 51.7,\n",
              " 45.0,\n",
              " 35.0,\n",
              " 42.0,\n",
              " 40.0,\n",
              " 36.4,\n",
              " 32.0,\n",
              " 38.1,\n",
              " 37.0,\n",
              " 40.2,\n",
              " 41.4,\n",
              " 43.1,\n",
              " 40.4,\n",
              " 46.4,\n",
              " 47.0,\n",
              " 43.6,\n",
              " 40.1,\n",
              " 42.3,\n",
              " 44.2,\n",
              " 51.5,\n",
              " 36.3,\n",
              " 42.7,\n",
              " 35.8,\n",
              " 43.7,\n",
              " 43.8,\n",
              " 36.1,\n",
              " 40.5,\n",
              " 42.7,\n",
              " 44.2,\n",
              " 47.1,\n",
              " 42.8,\n",
              " 42.4,\n",
              " 32.5,\n",
              " 40.9,\n",
              " 38.9,\n",
              " 36.2,\n",
              " 35.7,\n",
              " 42.5,\n",
              " 40.9,\n",
              " 36.2,\n",
              " 38.8,\n",
              " 43.1,\n",
              " 44.6,\n",
              " 39.8,\n",
              " 42.4,\n",
              " 42.2,\n",
              " 43.0,\n",
              " 39.5,\n",
              " 48.2,\n",
              " 36.7,\n",
              " 41.1,\n",
              " 49.6,\n",
              " 45.6,\n",
              " 32.8,\n",
              " 36.8,\n",
              " 41.1,\n",
              " 34.5,\n",
              " 40.9,\n",
              " 43.8,\n",
              " 42.4,\n",
              " 42.5,\n",
              " 42.3,\n",
              " 44.1,\n",
              " 32.7,\n",
              " 45.6,\n",
              " 44.0,\n",
              " 44.0,\n",
              " 35.8,\n",
              " 40.6,\n",
              " 50.0,\n",
              " 30.1,\n",
              " 41.7,\n",
              " 37.7,\n",
              " 37.4,\n",
              " 40.9,\n",
              " 44.5,\n",
              " 37.8,\n",
              " 45.3,\n",
              " 43.1,\n",
              " 43.4,\n",
              " 38.0,\n",
              " 42.6,\n",
              " 45.0,\n",
              " 43.1,\n",
              " 44.6,\n",
              " 35.4,\n",
              " 32.9,\n",
              " 44.3,\n",
              " 44.4,\n",
              " 34.6,\n",
              " 39.8,\n",
              " 42.2,\n",
              " 36.4,\n",
              " 36.0,\n",
              " 43.4,\n",
              " 40.9,\n",
              " 43.2,\n",
              " 37.3,\n",
              " 36.8,\n",
              " 41.0,\n",
              " 50.5,\n",
              " 41.4,\n",
              " 37.6,\n",
              " 38.1,\n",
              " 31.0,\n",
              " 38.8,\n",
              " 41.3,\n",
              " 43.3,\n",
              " 41.4,\n",
              " 48.4,\n",
              " 42.9,\n",
              " 41.0,\n",
              " 36.4,\n",
              " 33.2,\n",
              " 44.9,\n",
              " 43.1,\n",
              " 38.5,\n",
              " 41.2,\n",
              " 34.6,\n",
              " 50.0,\n",
              " 32.1,\n",
              " 36.5,\n",
              " 40.1,\n",
              " 39.2,\n",
              " 49.5,\n",
              " 46.6,\n",
              " 33.4,\n",
              " 39.9,\n",
              " 39.0,\n",
              " 53.4,\n",
              " 42.7,\n",
              " 41.0,\n",
              " 35.4,\n",
              " 47.3,\n",
              " 42.8,\n",
              " 40.1,\n",
              " 42.4,\n",
              " 48.1,\n",
              " 41.1,\n",
              " 41.4,\n",
              " 37.0,\n",
              " 46.4,\n",
              " 40.0,\n",
              " 41.8,\n",
              " 39.5,\n",
              " 43.1,\n",
              " 35.0,\n",
              " 44.6,\n",
              " 39.8,\n",
              " 37.4,\n",
              " 39.1,\n",
              " 35.4,\n",
              " 41.0,\n",
              " 50.1,\n",
              " 37.8,\n",
              " 38.9,\n",
              " 42.2,\n",
              " 40.0,\n",
              " 41.0,\n",
              " 33.0,\n",
              " 37.4,\n",
              " 44.3,\n",
              " 42.6,\n",
              " 46.8,\n",
              " 37.2,\n",
              " 49.2,\n",
              " 45.7,\n",
              " 47.3,\n",
              " 41.5,\n",
              " 39.0,\n",
              " 41.3,\n",
              " 31.4,\n",
              " 37.3,\n",
              " 45.4,\n",
              " 41.0,\n",
              " 43.8,\n",
              " 45.7,\n",
              " 41.8,\n",
              " 45.1,\n",
              " 44.0,\n",
              " 44.7,\n",
              " 47.3,\n",
              " 38.5,\n",
              " 41.4,\n",
              " 45.3,\n",
              " 33.8,\n",
              " 39.1,\n",
              " 50.9,\n",
              " 45.0,\n",
              " 42.7,\n",
              " 38.3,\n",
              " 42.3,\n",
              " 45.6,\n",
              " 41.3,\n",
              " 46.9,\n",
              " 41.2,\n",
              " 42.7,\n",
              " 38.6,\n",
              " 37.6,\n",
              " 47.3,\n",
              " 38.8,\n",
              " 35.9,\n",
              " 43.7,\n",
              " 40.5,\n",
              " 33.2,\n",
              " 41.1,\n",
              " 51.4,\n",
              " 36.8,\n",
              " 33.9,\n",
              " 43.5,\n",
              " 33.7,\n",
              " 38.6,\n",
              " 41.7,\n",
              " 38.1,\n",
              " 32.6,\n",
              " 46.8,\n",
              " 38.2,\n",
              " 41.7,\n",
              " 42.4,\n",
              " 40.1,\n",
              " 41.9,\n",
              " 37.0,\n",
              " 46.4,\n",
              " 37.1,\n",
              " 43.7,\n",
              " 39.6,\n",
              " 42.3,\n",
              " 45.5,\n",
              " 41.5,\n",
              " 44.2,\n",
              " 38.6,\n",
              " 46.6,\n",
              " 41.5,\n",
              " 42.4,\n",
              " 37.6,\n",
              " 45.1,\n",
              " 36.9,\n",
              " 43.5,\n",
              " 42.1,\n",
              " 40.0,\n",
              " 40.8,\n",
              " 42.7,\n",
              " 40.1,\n",
              " 38.9,\n",
              " 41.6,\n",
              " 44.1,\n",
              " 37.0,\n",
              " 37.1,\n",
              " 38.2,\n",
              " 40.2,\n",
              " 46.2,\n",
              " 42.1,\n",
              " 43.1,\n",
              " 37.1,\n",
              " 43.6,\n",
              " 39.7,\n",
              " 41.1,\n",
              " 50.2,\n",
              " 41.2,\n",
              " 46.0,\n",
              " 37.0,\n",
              " 43.6,\n",
              " 39.0,\n",
              " 33.7,\n",
              " 37.5,\n",
              " 33.7,\n",
              " 42.0,\n",
              " 44.2,\n",
              " 43.0,\n",
              " 36.1,\n",
              " 34.1,\n",
              " 37.2,\n",
              " 30.7,\n",
              " 38.6,\n",
              " 46.5,\n",
              " 33.1,\n",
              " 41.3,\n",
              " 42.1,\n",
              " 39.2,\n",
              " 37.5,\n",
              " 45.8,\n",
              " 37.0,\n",
              " 43.9,\n",
              " 37.2,\n",
              " 37.6,\n",
              " 42.5,\n",
              " 33.5,\n",
              " 51.4,\n",
              " 43.5,\n",
              " 48.9,\n",
              " 42.0,\n",
              " 43.5,\n",
              " 50.6,\n",
              " 33.0,\n",
              " 38.6,\n",
              " 42.3,\n",
              " 40.8,\n",
              " 35.1,\n",
              " 40.8,\n",
              " 45.8,\n",
              " 43.8,\n",
              " 43.8,\n",
              " 41.7,\n",
              " 37.8,\n",
              " 36.9,\n",
              " 41.7,\n",
              " 40.5,\n",
              " 30.6,\n",
              " 44.6,\n",
              " 43.2,\n",
              " 46.4,\n",
              " 36.2,\n",
              " 35.9,\n",
              " 47.6,\n",
              " 40.8,\n",
              " 43.7,\n",
              " 43.7,\n",
              " 41.4,\n",
              " 39.7,\n",
              " 42.9,\n",
              " 43.2,\n",
              " 45.2,\n",
              " 44.0,\n",
              " 38.1,\n",
              " 39.3,\n",
              " 46.0,\n",
              " 36.5,\n",
              " 41.0,\n",
              " 41.3,\n",
              " 38.5,\n",
              " 36.3,\n",
              " 39.1,\n",
              " 40.2,\n",
              " 37.1,\n",
              " 50.1,\n",
              " 39.5,\n",
              " 36.2,\n",
              " 38.7,\n",
              " 43.5,\n",
              " 44.6,\n",
              " 40.7,\n",
              " 38.8,\n",
              " 44.0,\n",
              " 53.1,\n",
              " 48.6,\n",
              " 39.9,\n",
              " 47.2,\n",
              " 35.5,\n",
              " 38.1,\n",
              " 47.5,\n",
              " 35.1,\n",
              " 46.0,\n",
              " 37.9,\n",
              " 42.3,\n",
              " 39.8,\n",
              " 43.8,\n",
              " 41.2,\n",
              " 40.3,\n",
              " 41.0,\n",
              " 41.4,\n",
              " 44.9,\n",
              " 37.7,\n",
              " 40.3,\n",
              " 38.3,\n",
              " 38.1,\n",
              " 45.7,\n",
              " 36.2,\n",
              " 34.6,\n",
              " 50.3,\n",
              " 38.3,\n",
              " 41.2,\n",
              " 38.9,\n",
              " 40.0,\n",
              " 41.5,\n",
              " 44.5,\n",
              " 41.0,\n",
              " 41.1,\n",
              " 31.9,\n",
              " 39.0,\n",
              " 43.5,\n",
              " 47.2,\n",
              " 45.7,\n",
              " 39.1,\n",
              " 34.6,\n",
              " 39.2,\n",
              " 37.6,\n",
              " 47.1,\n",
              " 40.9,\n",
              " 33.5,\n",
              " 37.3,\n",
              " 43.6,\n",
              " 37.5,\n",
              " 42.1,\n",
              " 37.6,\n",
              " 42.6,\n",
              " 42.4,\n",
              " 48.4,\n",
              " 41.1,\n",
              " 49.9,\n",
              " 39.8,\n",
              " 35.9,\n",
              " 38.1,\n",
              " 31.6,\n",
              " 47.7,\n",
              " 39.5,\n",
              " 46.7,\n",
              " 44.9,\n",
              " 43.0,\n",
              " 38.9,\n",
              " 40.0,\n",
              " 38.6,\n",
              " 44.7,\n",
              " 44.3,\n",
              " 38.6,\n",
              " 33.7,\n",
              " 32.8,\n",
              " 40.2,\n",
              " 37.5,\n",
              " 40.3,\n",
              " 41.8,\n",
              " 43.0,\n",
              " 33.4,\n",
              " 39.1,\n",
              " 40.2,\n",
              " 46.6,\n",
              " 44.0,\n",
              " 39.8,\n",
              " 45.4,\n",
              " 42.3,\n",
              " 42.5,\n",
              " 46.7,\n",
              " 34.7,\n",
              " 37.7,\n",
              " 37.8,\n",
              " 38.8,\n",
              " 34.8,\n",
              " 39.8,\n",
              " 39.5,\n",
              " 41.5,\n",
              " 44.3,\n",
              " 36.1,\n",
              " 41.0,\n",
              " 46.7,\n",
              " 40.4,\n",
              " 39.3,\n",
              " 40.5,\n",
              " 46.2,\n",
              " 39.9,\n",
              " 45.9,\n",
              " 43.9,\n",
              " 43.7,\n",
              " 33.9,\n",
              " 44.1,\n",
              " 42.9,\n",
              " 39.7,\n",
              " 41.7,\n",
              " 48.1,\n",
              " 37.5,\n",
              " 39.5,\n",
              " 41.4,\n",
              " 46.6,\n",
              " 39.5,\n",
              " 41.8,\n",
              " 40.3,\n",
              " 37.7,\n",
              " 33.8,\n",
              " 34.5,\n",
              " 40.1,\n",
              " 38.9,\n",
              " 45.2,\n",
              " 44.9,\n",
              " 48.6,\n",
              " 39.6,\n",
              " 35.8,\n",
              " 46.2,\n",
              " 40.4,\n",
              " 49.1,\n",
              " 33.9,\n",
              " 38.6,\n",
              " 47.6,\n",
              " 38.3,\n",
              " 50.1,\n",
              " 30.1,\n",
              " 38.2,\n",
              " 36.6,\n",
              " 45.9,\n",
              " 33.3,\n",
              " 37.7,\n",
              " 39.8,\n",
              " 44.9,\n",
              " 46.2,\n",
              " 43.9,\n",
              " 37.6,\n",
              " 37.8,\n",
              " 37.4,\n",
              " 37.3,\n",
              " 40.1,\n",
              " 43.6,\n",
              " 32.8,\n",
              " 42.1,\n",
              " 40.7,\n",
              " 46.2,\n",
              " 38.2,\n",
              " 37.6,\n",
              " 44.1,\n",
              " 42.9,\n",
              " 40.0,\n",
              " 36.9,\n",
              " 36.4,\n",
              " 39.3,\n",
              " 37.9,\n",
              " 34.3,\n",
              " 40.1,\n",
              " 39.1,\n",
              " 39.6,\n",
              " 42.4,\n",
              " 41.8,\n",
              " 31.6,\n",
              " 46.8,\n",
              " 40.1,\n",
              " 38.8,\n",
              " 45.6,\n",
              " 38.2,\n",
              " 40.7,\n",
              " 40.7,\n",
              " 35.3,\n",
              " 46.6,\n",
              " 36.7,\n",
              " 38.9,\n",
              " 42.7,\n",
              " 44.3,\n",
              " 45.2,\n",
              " 41.1,\n",
              " 35.7,\n",
              " 37.7,\n",
              " 43.8,\n",
              " 48.7,\n",
              " 30.1,\n",
              " 38.5,\n",
              " 38.9,\n",
              " 44.7,\n",
              " 40.2,\n",
              " 46.7,\n",
              " 46.4,\n",
              " 45.1,\n",
              " 39.7,\n",
              " 43.1,\n",
              " 54.0,\n",
              " 33.7,\n",
              " ...]"
            ]
          },
          "metadata": {},
          "execution_count": 46
        }
      ],
      "source": [
        "sample_means"
      ]
    },
    {
      "cell_type": "code",
      "execution_count": 47,
      "id": "975aa26f-8550-4bdd-93f4-9fb2600dbfba",
      "metadata": {
        "id": "975aa26f-8550-4bdd-93f4-9fb2600dbfba",
        "outputId": "624b773c-5f1d-4fa5-f695-853b28b9acbd",
        "colab": {
          "base_uri": "https://localhost:8080/"
        }
      },
      "outputs": [
        {
          "output_type": "execute_result",
          "data": {
            "text/plain": [
              "list"
            ]
          },
          "metadata": {},
          "execution_count": 47
        }
      ],
      "source": [
        "type(sample_means)"
      ]
    },
    {
      "cell_type": "code",
      "execution_count": 48,
      "id": "c08e7115-b3e5-486b-a66e-7c6afd64ab4c",
      "metadata": {
        "id": "c08e7115-b3e5-486b-a66e-7c6afd64ab4c",
        "outputId": "871d5f11-df2f-4b00-bbc3-6901f14e4d80",
        "colab": {
          "base_uri": "https://localhost:8080/"
        }
      },
      "outputs": [
        {
          "output_type": "execute_result",
          "data": {
            "text/plain": [
              "5000"
            ]
          },
          "metadata": {},
          "execution_count": 48
        }
      ],
      "source": [
        "len(sample_means)"
      ]
    },
    {
      "cell_type": "markdown",
      "id": "92bd57a7-a609-44dc-b1f6-870f9923891c",
      "metadata": {
        "id": "92bd57a7-a609-44dc-b1f6-870f9923891c"
      },
      "source": [
        "## 6. Plot a histogram of the sample means. How does the data seem to be distributed? Write your observations. (10pts)"
      ]
    },
    {
      "cell_type": "code",
      "execution_count": 49,
      "id": "afff0ffb-9442-4fc2-9fb6-c86b1b4143a2",
      "metadata": {
        "scrolled": true,
        "id": "afff0ffb-9442-4fc2-9fb6-c86b1b4143a2",
        "outputId": "261451d2-7b23-4853-b198-16ae156da083",
        "colab": {
          "base_uri": "https://localhost:8080/",
          "height": 564
        }
      },
      "outputs": [
        {
          "output_type": "display_data",
          "data": {
            "text/plain": [
              "<Figure size 800x600 with 1 Axes>"
            ],
            "image/png": "[encoded data removed]"
          },
          "metadata": {}
        }
      ],
      "source": [
        "# Plot histogram of sample means\n",
        "plt.figure(figsize=(8, 6))\n",
        "plt.hist(sample_means, bins=30, edgecolor='black')\n",
        "plt.title('Histogram of Sample Means')\n",
        "plt.xlabel('Mean Age')\n",
        "plt.ylabel('Frequency')\n",
        "plt.show()"
      ]
    },
    {
      "cell_type": "markdown",
      "id": "a77bd31c-6a2f-4fb1-8639-6a5989fc94be",
      "metadata": {
        "id": "a77bd31c-6a2f-4fb1-8639-6a5989fc94be"
      },
      "source": [
        "so the data seems to be normally distributed"
      ]
    },
    {
      "cell_type": "markdown",
      "id": "3713c9ac-29e4-4cd1-b51a-6dcd3d47f4ab",
      "metadata": {
        "id": "3713c9ac-29e4-4cd1-b51a-6dcd3d47f4ab"
      },
      "source": [
        "## 7.Generate a Q-Q plot that plots the quantiles of the sample mean against those of a normal distribution.What are your observations and conclusions based on the plot?"
      ]
    },
    {
      "cell_type": "code",
      "execution_count": 50,
      "id": "7868cb9a-37e1-4717-b54f-9757fd874ffd",
      "metadata": {
        "scrolled": true,
        "id": "7868cb9a-37e1-4717-b54f-9757fd874ffd",
        "outputId": "d709eac7-f1ad-437a-f3b1-1854c6075d25",
        "colab": {
          "base_uri": "https://localhost:8080/",
          "height": 536
        }
      },
      "outputs": [
        {
          "output_type": "display_data",
          "data": {
            "text/plain": [
              "<Figure size 1000x600 with 1 Axes>"
            ],
            "image/png": "[encoded data removed]"
          },
          "metadata": {}
        }
      ],
      "source": [
        "import numpy as np\n",
        "import matplotlib.pyplot as plt\n",
        "import scipy.stats as stats\n",
        "\n",
        "# Generate Q-Q plot\n",
        "plt.figure(figsize=(10, 6))\n",
        "stats.probplot(sample_means, dist=\"norm\", plot=plt)\n",
        "plt.title('Q-Q Plot of Sample Means')\n",
        "plt.xlabel('Theoretical Quantiles')\n",
        "plt.ylabel('Sample Quantiles')\n",
        "plt.grid(True)\n",
        "plt.show()"
      ]
    },
    {
      "cell_type": "markdown",
      "id": "a5ac187c-d215-4b7f-834f-9c396f585e5e",
      "metadata": {
        "id": "a5ac187c-d215-4b7f-834f-9c396f585e5e"
      },
      "source": [
        "Observations and Conclusions\n",
        "45-Degree Line: In a Q-Q plot, the 45-degree line serves as a reference.sample quantiles lie close to this line, it indicates that the sample distribution is similar to the theoretical distribution. in this case, normal distribution.\n",
        "\n",
        "The closer the points are to the 45-degree line, the better the fit of the sample mean to a normal distribution."
      ]
    },
    {
      "cell_type": "code",
      "execution_count": 51,
      "id": "854dc346-5699-401e-b16c-b985fcde2691",
      "metadata": {
        "id": "854dc346-5699-401e-b16c-b985fcde2691"
      },
      "outputs": [],
      "source": [
        "# Convert the list of lists to a DataFrame\n",
        "sample_mean_df = pd.DataFrame(sample_means, columns=['sample mean'])"
      ]
    },
    {
      "cell_type": "code",
      "execution_count": 52,
      "id": "1e90c35d-f658-49bd-95d0-0ca030418a07",
      "metadata": {
        "id": "1e90c35d-f658-49bd-95d0-0ca030418a07",
        "outputId": "0a49f08d-8ab8-4cbb-df66-2681dbf39793",
        "colab": {
          "base_uri": "https://localhost:8080/",
          "height": 143
        }
      },
      "outputs": [
        {
          "output_type": "execute_result",
          "data": {
            "text/plain": [
              "   sample mean\n",
              "0         45.5\n",
              "1         41.7\n",
              "2         39.8"
            ],
            "text/html": [
              "\n",
              "  <div id=\"df-33565e7a-6b89-43c2-bed2-e17a408868a5\" class=\"colab-df-container\">\n",
              "    <div>\n",
              "<style scoped>\n",
              "    .dataframe tbody tr th:only-of-type {\n",
              "        vertical-align: middle;\n",
              "    }\n",
              "\n",
              "    .dataframe tbody tr th {\n",
              "        vertical-align: top;\n",
              "    }\n",
              "\n",
              "    .dataframe thead th {\n",
              "        text-align: right;\n",
              "    }\n",
              "</style>\n",
              "<table border=\"1\" class=\"dataframe\">\n",
              "  <thead>\n",
              "    <tr style=\"text-align: right;\">\n",
              "      <th></th>\n",
              "      <th>sample mean</th>\n",
              "    </tr>\n",
              "  </thead>\n",
              "  <tbody>\n",
              "    <tr>\n",
              "      <th>0</th>\n",
              "      <td>45.5</td>\n",
              "    </tr>\n",
              "    <tr>\n",
              "      <th>1</th>\n",
              "      <td>41.7</td>\n",
              "    </tr>\n",
              "    <tr>\n",
              "      <th>2</th>\n",
              "      <td>39.8</td>\n",
              "    </tr>\n",
              "  </tbody>\n",
              "</table>\n",
              "</div>\n",
              "    <div class=\"colab-df-buttons\">\n",
              "\n",
              "  <div class=\"colab-df-container\">\n",
              "    <button class=\"colab-df-convert\" onclick=\"convertToInteractive('df-33565e7a-6b89-43c2-bed2-e17a408868a5')\"\n",
              "            title=\"Convert this dataframe to an interactive table.\"\n",
              "            style=\"display:none;\">\n",
              "\n",
              "  <svg xmlns=\"http://www.w3.org/2000/svg\" height=\"24px\" viewBox=\"0 -960 960 960\">\n",
              "    <path d=\"M120-120v-720h720v720H120Zm60-500h600v-160H180v160Zm220 220h160v-160H400v160Zm0 220h160v-160H400v160ZM180-400h160v-160H180v160Zm440 0h160v-160H620v160ZM180-180h160v-160H180v160Zm440 0h160v-160H620v160Z\"/>\n",
              "  </svg>\n",
              "    </button>\n",
              "\n",
              "  <style>\n",
              "    .colab-df-container {\n",
              "      display:flex;\n",
              "      gap: 12px;\n",
              "    }\n",
              "\n",
              "    .colab-df-convert {\n",
              "      background-color: #E8F0FE;\n",
              "      border: none;\n",
              "      border-radius: 50%;\n",
              "      cursor: pointer;\n",
              "      display: none;\n",
              "      fill: #1967D2;\n",
              "      height: 32px;\n",
              "      padding: 0 0 0 0;\n",
              "      width: 32px;\n",
              "    }\n",
              "\n",
              "    .colab-df-convert:hover {\n",
              "      background-color: #E2EBFA;\n",
              "      box-shadow: 0px 1px 2px rgba(60, 64, 67, 0.3), 0px 1px 3px 1px rgba(60, 64, 67, 0.15);\n",
              "      fill: #174EA6;\n",
              "    }\n",
              "\n",
              "    .colab-df-buttons div {\n",
              "      margin-bottom: 4px;\n",
              "    }\n",
              "\n",
              "    [theme=dark] .colab-df-convert {\n",
              "      background-color: #3B4455;\n",
              "      fill: #D2E3FC;\n",
              "    }\n",
              "\n",
              "    [theme=dark] .colab-df-convert:hover {\n",
              "      background-color: #434B5C;\n",
              "      box-shadow: 0px 1px 3px 1px rgba(0, 0, 0, 0.15);\n",
              "      filter: drop-shadow(0px 1px 2px rgba(0, 0, 0, 0.3));\n",
              "      fill: #FFFFFF;\n",
              "    }\n",
              "  </style>\n",
              "\n",
              "    <script>\n",
              "      const buttonEl =\n",
              "        document.querySelector('#df-33565e7a-6b89-43c2-bed2-e17a408868a5 button.colab-df-convert');\n",
              "      buttonEl.style.display =\n",
              "        google.colab.kernel.accessAllowed ? 'block' : 'none';\n",
              "\n",
              "      async function convertToInteractive(key) {\n",
              "        const element = document.querySelector('#df-33565e7a-6b89-43c2-bed2-e17a408868a5');\n",
              "        const dataTable =\n",
              "          await google.colab.kernel.invokeFunction('convertToInteractive',\n",
              "                                                    [key], {});\n",
              "        if (!dataTable) return;\n",
              "\n",
              "        const docLinkHtml = 'Like what you see? Visit the ' +\n",
              "          '<a target=\"_blank\" href=https://colab.research.google.com/notebooks/data_table.ipynb>data table notebook</a>'\n",
              "          + ' to learn more about interactive tables.';\n",
              "        element.innerHTML = '';\n",
              "        dataTable['output_type'] = 'display_data';\n",
              "        await google.colab.output.renderOutput(dataTable, element);\n",
              "        const docLink = document.createElement('div');\n",
              "        docLink.innerHTML = docLinkHtml;\n",
              "        element.appendChild(docLink);\n",
              "      }\n",
              "    </script>\n",
              "  </div>\n",
              "\n",
              "\n",
              "<div id=\"df-abb3206c-c60c-4ba7-b8a4-900d7a191a14\">\n",
              "  <button class=\"colab-df-quickchart\" onclick=\"quickchart('df-abb3206c-c60c-4ba7-b8a4-900d7a191a14')\"\n",
              "            title=\"Suggest charts\"\n",
              "            style=\"display:none;\">\n",
              "\n",
              "<svg xmlns=\"http://www.w3.org/2000/svg\" height=\"24px\"viewBox=\"0 0 24 24\"\n",
              "     width=\"24px\">\n",
              "    <g>\n",
              "        <path d=\"M19 3H5c-1.1 0-2 .9-2 2v14c0 1.1.9 2 2 2h14c1.1 0 2-.9 2-2V5c0-1.1-.9-2-2-2zM9 17H7v-7h2v7zm4 0h-2V7h2v10zm4 0h-2v-4h2v4z\"/>\n",
              "    </g>\n",
              "</svg>\n",
              "  </button>\n",
              "\n",
              "<style>\n",
              "  .colab-df-quickchart {\n",
              "      --bg-color: #E8F0FE;\n",
              "      --fill-color: #1967D2;\n",
              "      --hover-bg-color: #E2EBFA;\n",
              "      --hover-fill-color: #174EA6;\n",
              "      --disabled-fill-color: #AAA;\n",
              "      --disabled-bg-color: #DDD;\n",
              "  }\n",
              "\n",
              "  [theme=dark] .colab-df-quickchart {\n",
              "      --bg-color: #3B4455;\n",
              "      --fill-color: #D2E3FC;\n",
              "      --hover-bg-color: #434B5C;\n",
              "      --hover-fill-color: #FFFFFF;\n",
              "      --disabled-bg-color: #3B4455;\n",
              "      --disabled-fill-color: #666;\n",
              "  }\n",
              "\n",
              "  .colab-df-quickchart {\n",
              "    background-color: var(--bg-color);\n",
              "    border: none;\n",
              "    border-radius: 50%;\n",
              "    cursor: pointer;\n",
              "    display: none;\n",
              "    fill: var(--fill-color);\n",
              "    height: 32px;\n",
              "    padding: 0;\n",
              "    width: 32px;\n",
              "  }\n",
              "\n",
              "  .colab-df-quickchart:hover {\n",
              "    background-color: var(--hover-bg-color);\n",
              "    box-shadow: 0 1px 2px rgba(60, 64, 67, 0.3), 0 1px 3px 1px rgba(60, 64, 67, 0.15);\n",
              "    fill: var(--button-hover-fill-color);\n",
              "  }\n",
              "\n",
              "  .colab-df-quickchart-complete:disabled,\n",
              "  .colab-df-quickchart-complete:disabled:hover {\n",
              "    background-color: var(--disabled-bg-color);\n",
              "    fill: var(--disabled-fill-color);\n",
              "    box-shadow: none;\n",
              "  }\n",
              "\n",
              "  .colab-df-spinner {\n",
              "    border: 2px solid var(--fill-color);\n",
              "    border-color: transparent;\n",
              "    border-bottom-color: var(--fill-color);\n",
              "    animation:\n",
              "      spin 1s steps(1) infinite;\n",
              "  }\n",
              "\n",
              "  @keyframes spin {\n",
              "    0% {\n",
              "      border-color: transparent;\n",
              "      border-bottom-color: var(--fill-color);\n",
              "      border-left-color: var(--fill-color);\n",
              "    }\n",
              "    20% {\n",
              "      border-color: transparent;\n",
              "      border-left-color: var(--fill-color);\n",
              "      border-top-color: var(--fill-color);\n",
              "    }\n",
              "    30% {\n",
              "      border-color: transparent;\n",
              "      border-left-color: var(--fill-color);\n",
              "      border-top-color: var(--fill-color);\n",
              "      border-right-color: var(--fill-color);\n",
              "    }\n",
              "    40% {\n",
              "      border-color: transparent;\n",
              "      border-right-color: var(--fill-color);\n",
              "      border-top-color: var(--fill-color);\n",
              "    }\n",
              "    60% {\n",
              "      border-color: transparent;\n",
              "      border-right-color: var(--fill-color);\n",
              "    }\n",
              "    80% {\n",
              "      border-color: transparent;\n",
              "      border-right-color: var(--fill-color);\n",
              "      border-bottom-color: var(--fill-color);\n",
              "    }\n",
              "    90% {\n",
              "      border-color: transparent;\n",
              "      border-bottom-color: var(--fill-color);\n",
              "    }\n",
              "  }\n",
              "</style>\n",
              "\n",
              "  <script>\n",
              "    async function quickchart(key) {\n",
              "      const quickchartButtonEl =\n",
              "        document.querySelector('#' + key + ' button');\n",
              "      quickchartButtonEl.disabled = true;  // To prevent multiple clicks.\n",
              "      quickchartButtonEl.classList.add('colab-df-spinner');\n",
              "      try {\n",
              "        const charts = await google.colab.kernel.invokeFunction(\n",
              "            'suggestCharts', [key], {});\n",
              "      } catch (error) {\n",
              "        console.error('Error during call to suggestCharts:', error);\n",
              "      }\n",
              "      quickchartButtonEl.classList.remove('colab-df-spinner');\n",
              "      quickchartButtonEl.classList.add('colab-df-quickchart-complete');\n",
              "    }\n",
              "    (() => {\n",
              "      let quickchartButtonEl =\n",
              "        document.querySelector('#df-abb3206c-c60c-4ba7-b8a4-900d7a191a14 button');\n",
              "      quickchartButtonEl.style.display =\n",
              "        google.colab.kernel.accessAllowed ? 'block' : 'none';\n",
              "    })();\n",
              "  </script>\n",
              "</div>\n",
              "\n",
              "    </div>\n",
              "  </div>\n"
            ],
            "application/vnd.google.colaboratory.intrinsic+json": {
              "type": "dataframe",
              "variable_name": "sample_mean_df",
              "summary": "{\n  \"name\": \"sample_mean_df\",\n  \"rows\": 5000,\n  \"fields\": [\n    {\n      \"column\": \"sample mean\",\n      \"properties\": {\n        \"dtype\": \"number\",\n        \"std\": 4.308109000133514,\n        \"min\": 26.9,\n        \"max\": 56.3,\n        \"num_unique_values\": 252,\n        \"samples\": [\n          48.2,\n          42.5,\n          37.6\n        ],\n        \"semantic_type\": \"\",\n        \"description\": \"\"\n      }\n    }\n  ]\n}"
            }
          },
          "metadata": {},
          "execution_count": 52
        }
      ],
      "source": [
        "sample_mean_df.head(3)"
      ]
    },
    {
      "cell_type": "code",
      "execution_count": 53,
      "id": "74cf5035-5144-4096-9f3a-b3d203dcae44",
      "metadata": {
        "id": "74cf5035-5144-4096-9f3a-b3d203dcae44",
        "outputId": "11308a41-c562-48aa-8371-d14402e12c24",
        "colab": {
          "base_uri": "https://localhost:8080/",
          "height": 449
        }
      },
      "outputs": [
        {
          "output_type": "display_data",
          "data": {
            "text/plain": [
              "<Figure size 640x480 with 1 Axes>"
            ],
            "image/png": "[encoded data removed]"
          },
          "metadata": {}
        }
      ],
      "source": [
        "from statsmodels.graphics.gofplots import qqplot\n",
        "import matplotlib.pyplot as plt\n",
        "from scipy.stats import norm, uniform\n",
        "\n",
        "qqplot(sample_mean_df, norm, fit = True, line='45');\n",
        "plt.show()"
      ]
    },
    {
      "cell_type": "code",
      "execution_count": 54,
      "id": "17db665f-d23a-4188-8b22-aef1a6da7e09",
      "metadata": {
        "id": "17db665f-d23a-4188-8b22-aef1a6da7e09"
      },
      "outputs": [],
      "source": [
        "#So NORMAL DISTRIBUTION"
      ]
    },
    {
      "cell_type": "markdown",
      "id": "2ebba2c2-71de-4cfd-a955-e3b2c399e539",
      "metadata": {
        "id": "2ebba2c2-71de-4cfd-a955-e3b2c399e539"
      },
      "source": [
        "## 8. Create a bar plot showing the number of users generated for each payment method. What do you observe?"
      ]
    },
    {
      "cell_type": "code",
      "execution_count": 55,
      "id": "8164677e-3b3f-4d64-9b4d-0c0a99cd994d",
      "metadata": {
        "id": "8164677e-3b3f-4d64-9b4d-0c0a99cd994d",
        "outputId": "589f6ac7-92d8-455d-f162-ec20db9703be",
        "colab": {
          "base_uri": "https://localhost:8080/",
          "height": 320
        }
      },
      "outputs": [
        {
          "output_type": "execute_result",
          "data": {
            "text/plain": [
              "     id                                   uid    password first_name  \\\n",
              "0  4742  374b7269-c137-4560-b275-be0ff0256264  MXwoaH3V1D      Gemma   \n",
              "1  3690  7a5ffd76-9fd8-4417-a1a9-9e803362effc  fcsbhQEOpd    Eugenio   \n",
              "2    65  751e9c9e-7741-4cab-aec7-5f95643ea5e4  y8ad6zvqP7        Bok   \n",
              "\n",
              "    last_name            username                         email  \\\n",
              "0   Gutkowski     gemma.gutkowski     gemma.gutkowski@email.com   \n",
              "1  Rutherford  eugenio.rutherford  eugenio.rutherford@email.com   \n",
              "2     Corkery         bok.corkery         bok.corkery@email.com   \n",
              "\n",
              "                                              avatar       gender  \\\n",
              "0  https://robohash.org/consectetursolutaat.png?s...  Genderqueer   \n",
              "1  https://robohash.org/adipisciconsequunturdolor...     Bigender   \n",
              "2  https://robohash.org/autaliquamfacilis.png?siz...       Female   \n",
              "\n",
              "                  phone_number social_insurance_number date_of_birth  \\\n",
              "0    +98 (221) 147-9875 x67005               187689740    1982-05-19   \n",
              "1     +1-784 602.444.7538 x217               953282548    1965-04-12   \n",
              "2  +1-939 (693) 995-0477 x8781               463504407    1996-10-26   \n",
              "\n",
              "                                          employment  \\\n",
              "0  {'title': 'Global Manager', 'key_skill': 'Prob...   \n",
              "1  {'title': 'Forward Manufacturing Executive', '...   \n",
              "2  {'title': 'Chief Administration Analyst', 'key...   \n",
              "\n",
              "                                             address  \\\n",
              "0  {'city': 'Goyetteport', 'street_name': 'O'Hara...   \n",
              "1  {'city': 'Shawnaview', 'street_name': 'Gleason...   \n",
              "2  {'city': 'Hammesberg', 'street_name': 'Jeannet...   \n",
              "\n",
              "                            credit_card  \\\n",
              "0        {'cc_number': '4164656154242'}   \n",
              "1  {'cc_number': '6771-8937-0314-7522'}   \n",
              "2  {'cc_number': '5497-0292-4776-0232'}   \n",
              "\n",
              "                                        subscription  age  \n",
              "0  {'plan': 'Professional', 'status': 'Pending', ...   42  \n",
              "1  {'plan': 'Bronze', 'status': 'Idle', 'payment_...   59  \n",
              "2  {'plan': 'Starter', 'status': 'Active', 'payme...   28  "
            ],
            "text/html": [
              "\n",
              "  <div id=\"df-4a2e6376-e837-4bca-bdf2-e98ee82c548e\" class=\"colab-df-container\">\n",
              "    <div>\n",
              "<style scoped>\n",
              "    .dataframe tbody tr th:only-of-type {\n",
              "        vertical-align: middle;\n",
              "    }\n",
              "\n",
              "    .dataframe tbody tr th {\n",
              "        vertical-align: top;\n",
              "    }\n",
              "\n",
              "    .dataframe thead th {\n",
              "        text-align: right;\n",
              "    }\n",
              "</style>\n",
              "<table border=\"1\" class=\"dataframe\">\n",
              "  <thead>\n",
              "    <tr style=\"text-align: right;\">\n",
              "      <th></th>\n",
              "      <th>id</th>\n",
              "      <th>uid</th>\n",
              "      <th>password</th>\n",
              "      <th>first_name</th>\n",
              "      <th>last_name</th>\n",
              "      <th>username</th>\n",
              "      <th>email</th>\n",
              "      <th>avatar</th>\n",
              "      <th>gender</th>\n",
              "      <th>phone_number</th>\n",
              "      <th>social_insurance_number</th>\n",
              "      <th>date_of_birth</th>\n",
              "      <th>employment</th>\n",
              "      <th>address</th>\n",
              "      <th>credit_card</th>\n",
              "      <th>subscription</th>\n",
              "      <th>age</th>\n",
              "    </tr>\n",
              "  </thead>\n",
              "  <tbody>\n",
              "    <tr>\n",
              "      <th>0</th>\n",
              "      <td>4742</td>\n",
              "      <td>374b7269-c137-4560-b275-be0ff0256264</td>\n",
              "      <td>MXwoaH3V1D</td>\n",
              "      <td>Gemma</td>\n",
              "      <td>Gutkowski</td>\n",
              "      <td>gemma.gutkowski</td>\n",
              "      <td>gemma.gutkowski@email.com</td>\n",
              "      <td>https://robohash.org/consectetursolutaat.png?s...</td>\n",
              "      <td>Genderqueer</td>\n",
              "      <td>+98 (221) 147-9875 x67005</td>\n",
              "      <td>187689740</td>\n",
              "      <td>1982-05-19</td>\n",
              "      <td>{'title': 'Global Manager', 'key_skill': 'Prob...</td>\n",
              "      <td>{'city': 'Goyetteport', 'street_name': 'O'Hara...</td>\n",
              "      <td>{'cc_number': '4164656154242'}</td>\n",
              "      <td>{'plan': 'Professional', 'status': 'Pending', ...</td>\n",
              "      <td>42</td>\n",
              "    </tr>\n",
              "    <tr>\n",
              "      <th>1</th>\n",
              "      <td>3690</td>\n",
              "      <td>7a5ffd76-9fd8-4417-a1a9-9e803362effc</td>\n",
              "      <td>fcsbhQEOpd</td>\n",
              "      <td>Eugenio</td>\n",
              "      <td>Rutherford</td>\n",
              "      <td>eugenio.rutherford</td>\n",
              "      <td>eugenio.rutherford@email.com</td>\n",
              "      <td>https://robohash.org/adipisciconsequunturdolor...</td>\n",
              "      <td>Bigender</td>\n",
              "      <td>+1-784 602.444.7538 x217</td>\n",
              "      <td>953282548</td>\n",
              "      <td>1965-04-12</td>\n",
              "      <td>{'title': 'Forward Manufacturing Executive', '...</td>\n",
              "      <td>{'city': 'Shawnaview', 'street_name': 'Gleason...</td>\n",
              "      <td>{'cc_number': '6771-8937-0314-7522'}</td>\n",
              "      <td>{'plan': 'Bronze', 'status': 'Idle', 'payment_...</td>\n",
              "      <td>59</td>\n",
              "    </tr>\n",
              "    <tr>\n",
              "      <th>2</th>\n",
              "      <td>65</td>\n",
              "      <td>751e9c9e-7741-4cab-aec7-5f95643ea5e4</td>\n",
              "      <td>y8ad6zvqP7</td>\n",
              "      <td>Bok</td>\n",
              "      <td>Corkery</td>\n",
              "      <td>bok.corkery</td>\n",
              "      <td>bok.corkery@email.com</td>\n",
              "      <td>https://robohash.org/autaliquamfacilis.png?siz...</td>\n",
              "      <td>Female</td>\n",
              "      <td>+1-939 (693) 995-0477 x8781</td>\n",
              "      <td>463504407</td>\n",
              "      <td>1996-10-26</td>\n",
              "      <td>{'title': 'Chief Administration Analyst', 'key...</td>\n",
              "      <td>{'city': 'Hammesberg', 'street_name': 'Jeannet...</td>\n",
              "      <td>{'cc_number': '5497-0292-4776-0232'}</td>\n",
              "      <td>{'plan': 'Starter', 'status': 'Active', 'payme...</td>\n",
              "      <td>28</td>\n",
              "    </tr>\n",
              "  </tbody>\n",
              "</table>\n",
              "</div>\n",
              "    <div class=\"colab-df-buttons\">\n",
              "\n",
              "  <div class=\"colab-df-container\">\n",
              "    <button class=\"colab-df-convert\" onclick=\"convertToInteractive('df-4a2e6376-e837-4bca-bdf2-e98ee82c548e')\"\n",
              "            title=\"Convert this dataframe to an interactive table.\"\n",
              "            style=\"display:none;\">\n",
              "\n",
              "  <svg xmlns=\"http://www.w3.org/2000/svg\" height=\"24px\" viewBox=\"0 -960 960 960\">\n",
              "    <path d=\"M120-120v-720h720v720H120Zm60-500h600v-160H180v160Zm220 220h160v-160H400v160Zm0 220h160v-160H400v160ZM180-400h160v-160H180v160Zm440 0h160v-160H620v160ZM180-180h160v-160H180v160Zm440 0h160v-160H620v160Z\"/>\n",
              "  </svg>\n",
              "    </button>\n",
              "\n",
              "  <style>\n",
              "    .colab-df-container {\n",
              "      display:flex;\n",
              "      gap: 12px;\n",
              "    }\n",
              "\n",
              "    .colab-df-convert {\n",
              "      background-color: #E8F0FE;\n",
              "      border: none;\n",
              "      border-radius: 50%;\n",
              "      cursor: pointer;\n",
              "      display: none;\n",
              "      fill: #1967D2;\n",
              "      height: 32px;\n",
              "      padding: 0 0 0 0;\n",
              "      width: 32px;\n",
              "    }\n",
              "\n",
              "    .colab-df-convert:hover {\n",
              "      background-color: #E2EBFA;\n",
              "      box-shadow: 0px 1px 2px rgba(60, 64, 67, 0.3), 0px 1px 3px 1px rgba(60, 64, 67, 0.15);\n",
              "      fill: #174EA6;\n",
              "    }\n",
              "\n",
              "    .colab-df-buttons div {\n",
              "      margin-bottom: 4px;\n",
              "    }\n",
              "\n",
              "    [theme=dark] .colab-df-convert {\n",
              "      background-color: #3B4455;\n",
              "      fill: #D2E3FC;\n",
              "    }\n",
              "\n",
              "    [theme=dark] .colab-df-convert:hover {\n",
              "      background-color: #434B5C;\n",
              "      box-shadow: 0px 1px 3px 1px rgba(0, 0, 0, 0.15);\n",
              "      filter: drop-shadow(0px 1px 2px rgba(0, 0, 0, 0.3));\n",
              "      fill: #FFFFFF;\n",
              "    }\n",
              "  </style>\n",
              "\n",
              "    <script>\n",
              "      const buttonEl =\n",
              "        document.querySelector('#df-4a2e6376-e837-4bca-bdf2-e98ee82c548e button.colab-df-convert');\n",
              "      buttonEl.style.display =\n",
              "        google.colab.kernel.accessAllowed ? 'block' : 'none';\n",
              "\n",
              "      async function convertToInteractive(key) {\n",
              "        const element = document.querySelector('#df-4a2e6376-e837-4bca-bdf2-e98ee82c548e');\n",
              "        const dataTable =\n",
              "          await google.colab.kernel.invokeFunction('convertToInteractive',\n",
              "                                                    [key], {});\n",
              "        if (!dataTable) return;\n",
              "\n",
              "        const docLinkHtml = 'Like what you see? Visit the ' +\n",
              "          '<a target=\"_blank\" href=https://colab.research.google.com/notebooks/data_table.ipynb>data table notebook</a>'\n",
              "          + ' to learn more about interactive tables.';\n",
              "        element.innerHTML = '';\n",
              "        dataTable['output_type'] = 'display_data';\n",
              "        await google.colab.output.renderOutput(dataTable, element);\n",
              "        const docLink = document.createElement('div');\n",
              "        docLink.innerHTML = docLinkHtml;\n",
              "        element.appendChild(docLink);\n",
              "      }\n",
              "    </script>\n",
              "  </div>\n",
              "\n",
              "\n",
              "<div id=\"df-09455209-edb1-4d8b-91f0-a2c584113f3d\">\n",
              "  <button class=\"colab-df-quickchart\" onclick=\"quickchart('df-09455209-edb1-4d8b-91f0-a2c584113f3d')\"\n",
              "            title=\"Suggest charts\"\n",
              "            style=\"display:none;\">\n",
              "\n",
              "<svg xmlns=\"http://www.w3.org/2000/svg\" height=\"24px\"viewBox=\"0 0 24 24\"\n",
              "     width=\"24px\">\n",
              "    <g>\n",
              "        <path d=\"M19 3H5c-1.1 0-2 .9-2 2v14c0 1.1.9 2 2 2h14c1.1 0 2-.9 2-2V5c0-1.1-.9-2-2-2zM9 17H7v-7h2v7zm4 0h-2V7h2v10zm4 0h-2v-4h2v4z\"/>\n",
              "    </g>\n",
              "</svg>\n",
              "  </button>\n",
              "\n",
              "<style>\n",
              "  .colab-df-quickchart {\n",
              "      --bg-color: #E8F0FE;\n",
              "      --fill-color: #1967D2;\n",
              "      --hover-bg-color: #E2EBFA;\n",
              "      --hover-fill-color: #174EA6;\n",
              "      --disabled-fill-color: #AAA;\n",
              "      --disabled-bg-color: #DDD;\n",
              "  }\n",
              "\n",
              "  [theme=dark] .colab-df-quickchart {\n",
              "      --bg-color: #3B4455;\n",
              "      --fill-color: #D2E3FC;\n",
              "      --hover-bg-color: #434B5C;\n",
              "      --hover-fill-color: #FFFFFF;\n",
              "      --disabled-bg-color: #3B4455;\n",
              "      --disabled-fill-color: #666;\n",
              "  }\n",
              "\n",
              "  .colab-df-quickchart {\n",
              "    background-color: var(--bg-color);\n",
              "    border: none;\n",
              "    border-radius: 50%;\n",
              "    cursor: pointer;\n",
              "    display: none;\n",
              "    fill: var(--fill-color);\n",
              "    height: 32px;\n",
              "    padding: 0;\n",
              "    width: 32px;\n",
              "  }\n",
              "\n",
              "  .colab-df-quickchart:hover {\n",
              "    background-color: var(--hover-bg-color);\n",
              "    box-shadow: 0 1px 2px rgba(60, 64, 67, 0.3), 0 1px 3px 1px rgba(60, 64, 67, 0.15);\n",
              "    fill: var(--button-hover-fill-color);\n",
              "  }\n",
              "\n",
              "  .colab-df-quickchart-complete:disabled,\n",
              "  .colab-df-quickchart-complete:disabled:hover {\n",
              "    background-color: var(--disabled-bg-color);\n",
              "    fill: var(--disabled-fill-color);\n",
              "    box-shadow: none;\n",
              "  }\n",
              "\n",
              "  .colab-df-spinner {\n",
              "    border: 2px solid var(--fill-color);\n",
              "    border-color: transparent;\n",
              "    border-bottom-color: var(--fill-color);\n",
              "    animation:\n",
              "      spin 1s steps(1) infinite;\n",
              "  }\n",
              "\n",
              "  @keyframes spin {\n",
              "    0% {\n",
              "      border-color: transparent;\n",
              "      border-bottom-color: var(--fill-color);\n",
              "      border-left-color: var(--fill-color);\n",
              "    }\n",
              "    20% {\n",
              "      border-color: transparent;\n",
              "      border-left-color: var(--fill-color);\n",
              "      border-top-color: var(--fill-color);\n",
              "    }\n",
              "    30% {\n",
              "      border-color: transparent;\n",
              "      border-left-color: var(--fill-color);\n",
              "      border-top-color: var(--fill-color);\n",
              "      border-right-color: var(--fill-color);\n",
              "    }\n",
              "    40% {\n",
              "      border-color: transparent;\n",
              "      border-right-color: var(--fill-color);\n",
              "      border-top-color: var(--fill-color);\n",
              "    }\n",
              "    60% {\n",
              "      border-color: transparent;\n",
              "      border-right-color: var(--fill-color);\n",
              "    }\n",
              "    80% {\n",
              "      border-color: transparent;\n",
              "      border-right-color: var(--fill-color);\n",
              "      border-bottom-color: var(--fill-color);\n",
              "    }\n",
              "    90% {\n",
              "      border-color: transparent;\n",
              "      border-bottom-color: var(--fill-color);\n",
              "    }\n",
              "  }\n",
              "</style>\n",
              "\n",
              "  <script>\n",
              "    async function quickchart(key) {\n",
              "      const quickchartButtonEl =\n",
              "        document.querySelector('#' + key + ' button');\n",
              "      quickchartButtonEl.disabled = true;  // To prevent multiple clicks.\n",
              "      quickchartButtonEl.classList.add('colab-df-spinner');\n",
              "      try {\n",
              "        const charts = await google.colab.kernel.invokeFunction(\n",
              "            'suggestCharts', [key], {});\n",
              "      } catch (error) {\n",
              "        console.error('Error during call to suggestCharts:', error);\n",
              "      }\n",
              "      quickchartButtonEl.classList.remove('colab-df-spinner');\n",
              "      quickchartButtonEl.classList.add('colab-df-quickchart-complete');\n",
              "    }\n",
              "    (() => {\n",
              "      let quickchartButtonEl =\n",
              "        document.querySelector('#df-09455209-edb1-4d8b-91f0-a2c584113f3d button');\n",
              "      quickchartButtonEl.style.display =\n",
              "        google.colab.kernel.accessAllowed ? 'block' : 'none';\n",
              "    })();\n",
              "  </script>\n",
              "</div>\n",
              "\n",
              "    </div>\n",
              "  </div>\n"
            ],
            "application/vnd.google.colaboratory.intrinsic+json": {
              "type": "dataframe",
              "variable_name": "user_df",
              "summary": "{\n  \"name\": \"user_df\",\n  \"rows\": 3000,\n  \"fields\": [\n    {\n      \"column\": \"id\",\n      \"properties\": {\n        \"dtype\": \"number\",\n        \"std\": 2920,\n        \"min\": 2,\n        \"max\": 9998,\n        \"num_unique_values\": 2573,\n        \"samples\": [\n          9998,\n          8539,\n          3653\n        ],\n        \"semantic_type\": \"\",\n        \"description\": \"\"\n      }\n    },\n    {\n      \"column\": \"uid\",\n      \"properties\": {\n        \"dtype\": \"string\",\n        \"num_unique_values\": 3000,\n        \"samples\": [\n          \"8ea0b148-439e-4f37-a573-944e196297c0\",\n          \"9c2ff859-8fae-48c4-8aa2-4794a8687636\",\n          \"080a6a1f-77f1-41ee-9eea-55f7cc631f2c\"\n        ],\n        \"semantic_type\": \"\",\n        \"description\": \"\"\n      }\n    },\n    {\n      \"column\": \"password\",\n      \"properties\": {\n        \"dtype\": \"string\",\n        \"num_unique_values\": 3000,\n        \"samples\": [\n          \"uJ4igemzMP\",\n          \"8MPuy0HgJ4\",\n          \"qhBjAzLgCV\"\n        ],\n        \"semantic_type\": \"\",\n        \"description\": \"\"\n      }\n    },\n    {\n      \"column\": \"first_name\",\n      \"properties\": {\n        \"dtype\": \"string\",\n        \"num_unique_values\": 2074,\n        \"samples\": [\n          \"Christian\",\n          \"Weston\",\n          \"Carman\"\n        ],\n        \"semantic_type\": \"\",\n        \"description\": \"\"\n      }\n    },\n    {\n      \"column\": \"last_name\",\n      \"properties\": {\n        \"dtype\": \"category\",\n        \"num_unique_values\": 472,\n        \"samples\": [\n          \"Kessler\",\n          \"Runte\",\n          \"Mante\"\n        ],\n        \"semantic_type\": \"\",\n        \"description\": \"\"\n      }\n    },\n    {\n      \"column\": \"username\",\n      \"properties\": {\n        \"dtype\": \"string\",\n        \"num_unique_values\": 2997,\n        \"samples\": [\n          \"santo.miller\",\n          \"darrel.heller\",\n          \"mozell.murphy\"\n        ],\n        \"semantic_type\": \"\",\n        \"description\": \"\"\n      }\n    },\n    {\n      \"column\": \"email\",\n      \"properties\": {\n        \"dtype\": \"string\",\n        \"num_unique_values\": 2997,\n        \"samples\": [\n          \"santo.miller@email.com\",\n          \"darrel.heller@email.com\",\n          \"mozell.murphy@email.com\"\n        ],\n        \"semantic_type\": \"\",\n        \"description\": \"\"\n      }\n    },\n    {\n      \"column\": \"avatar\",\n      \"properties\": {\n        \"dtype\": \"string\",\n        \"num_unique_values\": 2996,\n        \"samples\": [\n          \"https://robohash.org/consequaturconsequaturaut.png?size=300x300&set=set1\",\n          \"https://robohash.org/ipsamrepudiandaeodio.png?size=300x300&set=set1\",\n          \"https://robohash.org/pariaturexomnis.png?size=300x300&set=set1\"\n        ],\n        \"semantic_type\": \"\",\n        \"description\": \"\"\n      }\n    },\n    {\n      \"column\": \"gender\",\n      \"properties\": {\n        \"dtype\": \"category\",\n        \"num_unique_values\": 8,\n        \"samples\": [\n          \"Bigender\",\n          \"Non-binary\",\n          \"Genderqueer\"\n        ],\n        \"semantic_type\": \"\",\n        \"description\": \"\"\n      }\n    },\n    {\n      \"column\": \"phone_number\",\n      \"properties\": {\n        \"dtype\": \"string\",\n        \"num_unique_values\": 3000,\n        \"samples\": [\n          \"+291 1-359-351-8424 x485\",\n          \"+230 432.725.4016 x79874\",\n          \"+247 650.446.5742 x0552\"\n        ],\n        \"semantic_type\": \"\",\n        \"description\": \"\"\n      }\n    },\n    {\n      \"column\": \"social_insurance_number\",\n      \"properties\": {\n        \"dtype\": \"string\",\n        \"num_unique_values\": 3000,\n        \"samples\": [\n          \"424151058\",\n          \"287536791\",\n          \"680593340\"\n        ],\n        \"semantic_type\": \"\",\n        \"description\": \"\"\n      }\n    },\n    {\n      \"column\": \"date_of_birth\",\n      \"properties\": {\n        \"dtype\": \"object\",\n        \"num_unique_values\": 2755,\n        \"samples\": [\n          \"2001-03-25\",\n          \"1966-01-31\",\n          \"1969-06-09\"\n        ],\n        \"semantic_type\": \"\",\n        \"description\": \"\"\n      }\n    },\n    {\n      \"column\": \"employment\",\n      \"properties\": {\n        \"dtype\": \"object\",\n        \"semantic_type\": \"\",\n        \"description\": \"\"\n      }\n    },\n    {\n      \"column\": \"address\",\n      \"properties\": {\n        \"dtype\": \"object\",\n        \"semantic_type\": \"\",\n        \"description\": \"\"\n      }\n    },\n    {\n      \"column\": \"credit_card\",\n      \"properties\": {\n        \"dtype\": \"object\",\n        \"semantic_type\": \"\",\n        \"description\": \"\"\n      }\n    },\n    {\n      \"column\": \"subscription\",\n      \"properties\": {\n        \"dtype\": \"object\",\n        \"semantic_type\": \"\",\n        \"description\": \"\"\n      }\n    },\n    {\n      \"column\": \"age\",\n      \"properties\": {\n        \"dtype\": \"number\",\n        \"std\": 13,\n        \"min\": 18,\n        \"max\": 64,\n        \"num_unique_values\": 47,\n        \"samples\": [\n          25,\n          58,\n          53\n        ],\n        \"semantic_type\": \"\",\n        \"description\": \"\"\n      }\n    }\n  ]\n}"
            }
          },
          "metadata": {},
          "execution_count": 55
        }
      ],
      "source": [
        "user_df.head(3)"
      ]
    },
    {
      "cell_type": "code",
      "execution_count": 56,
      "id": "0e05a719-a0da-4b7e-a60c-404cb683cb2f",
      "metadata": {
        "id": "0e05a719-a0da-4b7e-a60c-404cb683cb2f",
        "outputId": "6ab80456-504a-4f1a-83f0-a9a59016429e",
        "colab": {
          "base_uri": "https://localhost:8080/",
          "height": 187
        }
      },
      "outputs": [
        {
          "output_type": "execute_result",
          "data": {
            "text/plain": [
              "<bound method IndexOpsMixin.nunique of 0       {'plan': 'Professional', 'status': 'Pending', ...\n",
              "1       {'plan': 'Bronze', 'status': 'Idle', 'payment_...\n",
              "2       {'plan': 'Starter', 'status': 'Active', 'payme...\n",
              "3       {'plan': 'Essential', 'status': 'Active', 'pay...\n",
              "4       {'plan': 'Platinum', 'status': 'Idle', 'paymen...\n",
              "                              ...                        \n",
              "2995    {'plan': 'Premium', 'status': 'Active', 'payme...\n",
              "2996    {'plan': 'Student', 'status': 'Idle', 'payment...\n",
              "2997    {'plan': 'Premium', 'status': 'Pending', 'paym...\n",
              "2998    {'plan': 'Student', 'status': 'Idle', 'payment...\n",
              "2999    {'plan': 'Basic', 'status': 'Blocked', 'paymen...\n",
              "Name: subscription, Length: 3000, dtype: object>"
            ],
            "text/html": [
              "<div style=\"max-width:800px; border: 1px solid var(--colab-border-color);\"><style>\n",
              "      pre.function-repr-contents {\n",
              "        overflow-x: auto;\n",
              "        padding: 8px 12px;\n",
              "        max-height: 500px;\n",
              "      }\n",
              "\n",
              "      pre.function-repr-contents.function-repr-contents-collapsed {\n",
              "        cursor: pointer;\n",
              "        max-height: 100px;\n",
              "      }\n",
              "    </style>\n",
              "    <pre style=\"white-space: initial; background:\n",
              "         var(--colab-secondary-surface-color); padding: 8px 12px;\n",
              "         border-bottom: 1px solid var(--colab-border-color);\"><b>pandas.core.base.IndexOpsMixin.nunique</b><br/>def nunique(dropna: bool=True) -&gt; int</pre><pre class=\"function-repr-contents function-repr-contents-collapsed\" style=\"\"><a class=\"filepath\" style=\"display:none\" href=\"#\">/usr/local/lib/python3.10/dist-packages/pandas/core/base.py</a>Return number of unique elements in the object.\n",
              "\n",
              "Excludes NA values by default.\n",
              "\n",
              "Parameters\n",
              "----------\n",
              "dropna : bool, default True\n",
              "    Don&#x27;t include NaN in the count.\n",
              "\n",
              "Returns\n",
              "-------\n",
              "int\n",
              "\n",
              "See Also\n",
              "--------\n",
              "DataFrame.nunique: Method nunique for DataFrame.\n",
              "Series.count: Count non-NA/null observations in the Series.\n",
              "\n",
              "Examples\n",
              "--------\n",
              "&gt;&gt;&gt; s = pd.Series([1, 3, 5, 7, 7])\n",
              "&gt;&gt;&gt; s\n",
              "0    1\n",
              "1    3\n",
              "2    5\n",
              "3    7\n",
              "4    7\n",
              "dtype: int64\n",
              "\n",
              "&gt;&gt;&gt; s.nunique()\n",
              "4</pre>\n",
              "      <script>\n",
              "      if (google.colab.kernel.accessAllowed && google.colab.files && google.colab.files.view) {\n",
              "        for (const element of document.querySelectorAll('.filepath')) {\n",
              "          element.style.display = 'block'\n",
              "          element.onclick = (event) => {\n",
              "            event.preventDefault();\n",
              "            event.stopPropagation();\n",
              "            google.colab.files.view(element.textContent, 1028);\n",
              "          };\n",
              "        }\n",
              "      }\n",
              "      for (const element of document.querySelectorAll('.function-repr-contents')) {\n",
              "        element.onclick = (event) => {\n",
              "          event.preventDefault();\n",
              "          event.stopPropagation();\n",
              "          element.classList.toggle('function-repr-contents-collapsed');\n",
              "        };\n",
              "      }\n",
              "      </script>\n",
              "      </div>"
            ]
          },
          "metadata": {},
          "execution_count": 56
        }
      ],
      "source": [
        "user_df['subscription'].nunique"
      ]
    },
    {
      "cell_type": "code",
      "execution_count": 57,
      "id": "6af37a5d-70c0-4afd-9f88-c0491cb8375d",
      "metadata": {
        "id": "6af37a5d-70c0-4afd-9f88-c0491cb8375d",
        "outputId": "c43a15a7-f9cc-437d-d23d-f80b4068b5e8",
        "colab": {
          "base_uri": "https://localhost:8080/"
        }
      },
      "outputs": [
        {
          "output_type": "execute_result",
          "data": {
            "text/plain": [
              "{'plan': 'Professional',\n",
              " 'status': 'Pending',\n",
              " 'payment_method': 'Debit card',\n",
              " 'term': 'Full subscription'}"
            ]
          },
          "metadata": {},
          "execution_count": 57
        }
      ],
      "source": [
        "user_df['subscription'][0]"
      ]
    },
    {
      "cell_type": "code",
      "execution_count": 58,
      "id": "d7112b3a-e4b2-4705-b7d2-f6495185f027",
      "metadata": {
        "id": "d7112b3a-e4b2-4705-b7d2-f6495185f027",
        "outputId": "3ba634a8-a2e1-4b92-dc00-dd674ffbcba9",
        "colab": {
          "base_uri": "https://localhost:8080/"
        }
      },
      "outputs": [
        {
          "output_type": "execute_result",
          "data": {
            "text/plain": [
              "dict"
            ]
          },
          "metadata": {},
          "execution_count": 58
        }
      ],
      "source": [
        "type(user_df['subscription'][0])"
      ]
    },
    {
      "cell_type": "code",
      "execution_count": 59,
      "id": "60f289d7-c56e-481a-8a3b-b57775e3a066",
      "metadata": {
        "id": "60f289d7-c56e-481a-8a3b-b57775e3a066"
      },
      "outputs": [],
      "source": [
        "#we need to parse the subscription column to and create another column for payment method"
      ]
    },
    {
      "cell_type": "code",
      "execution_count": 60,
      "id": "5d2e71b5-abe3-4a26-b7e4-1f8a2988f5bb",
      "metadata": {
        "id": "5d2e71b5-abe3-4a26-b7e4-1f8a2988f5bb"
      },
      "outputs": [],
      "source": [
        "\n",
        "# Extract payment_method and create a new column\n",
        "user_df['payment_method'] = user_df['subscription'].apply(lambda x: x.get('payment_method'))"
      ]
    },
    {
      "cell_type": "code",
      "execution_count": 61,
      "id": "7d717a8a-fcc8-4f27-bb8b-b9012c3fe726",
      "metadata": {
        "id": "7d717a8a-fcc8-4f27-bb8b-b9012c3fe726",
        "outputId": "6fc4cb16-e93f-4a08-8cf4-f0424b89421a",
        "colab": {
          "base_uri": "https://localhost:8080/",
          "height": 320
        }
      },
      "outputs": [
        {
          "output_type": "execute_result",
          "data": {
            "text/plain": [
              "     id                                   uid    password first_name  \\\n",
              "0  4742  374b7269-c137-4560-b275-be0ff0256264  MXwoaH3V1D      Gemma   \n",
              "1  3690  7a5ffd76-9fd8-4417-a1a9-9e803362effc  fcsbhQEOpd    Eugenio   \n",
              "2    65  751e9c9e-7741-4cab-aec7-5f95643ea5e4  y8ad6zvqP7        Bok   \n",
              "\n",
              "    last_name            username                         email  \\\n",
              "0   Gutkowski     gemma.gutkowski     gemma.gutkowski@email.com   \n",
              "1  Rutherford  eugenio.rutherford  eugenio.rutherford@email.com   \n",
              "2     Corkery         bok.corkery         bok.corkery@email.com   \n",
              "\n",
              "                                              avatar       gender  \\\n",
              "0  https://robohash.org/consectetursolutaat.png?s...  Genderqueer   \n",
              "1  https://robohash.org/adipisciconsequunturdolor...     Bigender   \n",
              "2  https://robohash.org/autaliquamfacilis.png?siz...       Female   \n",
              "\n",
              "                  phone_number social_insurance_number date_of_birth  \\\n",
              "0    +98 (221) 147-9875 x67005               187689740    1982-05-19   \n",
              "1     +1-784 602.444.7538 x217               953282548    1965-04-12   \n",
              "2  +1-939 (693) 995-0477 x8781               463504407    1996-10-26   \n",
              "\n",
              "                                          employment  \\\n",
              "0  {'title': 'Global Manager', 'key_skill': 'Prob...   \n",
              "1  {'title': 'Forward Manufacturing Executive', '...   \n",
              "2  {'title': 'Chief Administration Analyst', 'key...   \n",
              "\n",
              "                                             address  \\\n",
              "0  {'city': 'Goyetteport', 'street_name': 'O'Hara...   \n",
              "1  {'city': 'Shawnaview', 'street_name': 'Gleason...   \n",
              "2  {'city': 'Hammesberg', 'street_name': 'Jeannet...   \n",
              "\n",
              "                            credit_card  \\\n",
              "0        {'cc_number': '4164656154242'}   \n",
              "1  {'cc_number': '6771-8937-0314-7522'}   \n",
              "2  {'cc_number': '5497-0292-4776-0232'}   \n",
              "\n",
              "                                        subscription  age  payment_method  \n",
              "0  {'plan': 'Professional', 'status': 'Pending', ...   42      Debit card  \n",
              "1  {'plan': 'Bronze', 'status': 'Idle', 'payment_...   59  Money transfer  \n",
              "2  {'plan': 'Starter', 'status': 'Active', 'payme...   28   Visa checkout  "
            ],
            "text/html": [
              "\n",
              "  <div id=\"df-9e03151b-275a-40c7-ba31-6e46c27584b3\" class=\"colab-df-container\">\n",
              "    <div>\n",
              "<style scoped>\n",
              "    .dataframe tbody tr th:only-of-type {\n",
              "        vertical-align: middle;\n",
              "    }\n",
              "\n",
              "    .dataframe tbody tr th {\n",
              "        vertical-align: top;\n",
              "    }\n",
              "\n",
              "    .dataframe thead th {\n",
              "        text-align: right;\n",
              "    }\n",
              "</style>\n",
              "<table border=\"1\" class=\"dataframe\">\n",
              "  <thead>\n",
              "    <tr style=\"text-align: right;\">\n",
              "      <th></th>\n",
              "      <th>id</th>\n",
              "      <th>uid</th>\n",
              "      <th>password</th>\n",
              "      <th>first_name</th>\n",
              "      <th>last_name</th>\n",
              "      <th>username</th>\n",
              "      <th>email</th>\n",
              "      <th>avatar</th>\n",
              "      <th>gender</th>\n",
              "      <th>phone_number</th>\n",
              "      <th>social_insurance_number</th>\n",
              "      <th>date_of_birth</th>\n",
              "      <th>employment</th>\n",
              "      <th>address</th>\n",
              "      <th>credit_card</th>\n",
              "      <th>subscription</th>\n",
              "      <th>age</th>\n",
              "      <th>payment_method</th>\n",
              "    </tr>\n",
              "  </thead>\n",
              "  <tbody>\n",
              "    <tr>\n",
              "      <th>0</th>\n",
              "      <td>4742</td>\n",
              "      <td>374b7269-c137-4560-b275-be0ff0256264</td>\n",
              "      <td>MXwoaH3V1D</td>\n",
              "      <td>Gemma</td>\n",
              "      <td>Gutkowski</td>\n",
              "      <td>gemma.gutkowski</td>\n",
              "      <td>gemma.gutkowski@email.com</td>\n",
              "      <td>https://robohash.org/consectetursolutaat.png?s...</td>\n",
              "      <td>Genderqueer</td>\n",
              "      <td>+98 (221) 147-9875 x67005</td>\n",
              "      <td>187689740</td>\n",
              "      <td>1982-05-19</td>\n",
              "      <td>{'title': 'Global Manager', 'key_skill': 'Prob...</td>\n",
              "      <td>{'city': 'Goyetteport', 'street_name': 'O'Hara...</td>\n",
              "      <td>{'cc_number': '4164656154242'}</td>\n",
              "      <td>{'plan': 'Professional', 'status': 'Pending', ...</td>\n",
              "      <td>42</td>\n",
              "      <td>Debit card</td>\n",
              "    </tr>\n",
              "    <tr>\n",
              "      <th>1</th>\n",
              "      <td>3690</td>\n",
              "      <td>7a5ffd76-9fd8-4417-a1a9-9e803362effc</td>\n",
              "      <td>fcsbhQEOpd</td>\n",
              "      <td>Eugenio</td>\n",
              "      <td>Rutherford</td>\n",
              "      <td>eugenio.rutherford</td>\n",
              "      <td>eugenio.rutherford@email.com</td>\n",
              "      <td>https://robohash.org/adipisciconsequunturdolor...</td>\n",
              "      <td>Bigender</td>\n",
              "      <td>+1-784 602.444.7538 x217</td>\n",
              "      <td>953282548</td>\n",
              "      <td>1965-04-12</td>\n",
              "      <td>{'title': 'Forward Manufacturing Executive', '...</td>\n",
              "      <td>{'city': 'Shawnaview', 'street_name': 'Gleason...</td>\n",
              "      <td>{'cc_number': '6771-8937-0314-7522'}</td>\n",
              "      <td>{'plan': 'Bronze', 'status': 'Idle', 'payment_...</td>\n",
              "      <td>59</td>\n",
              "      <td>Money transfer</td>\n",
              "    </tr>\n",
              "    <tr>\n",
              "      <th>2</th>\n",
              "      <td>65</td>\n",
              "      <td>751e9c9e-7741-4cab-aec7-5f95643ea5e4</td>\n",
              "      <td>y8ad6zvqP7</td>\n",
              "      <td>Bok</td>\n",
              "      <td>Corkery</td>\n",
              "      <td>bok.corkery</td>\n",
              "      <td>bok.corkery@email.com</td>\n",
              "      <td>https://robohash.org/autaliquamfacilis.png?siz...</td>\n",
              "      <td>Female</td>\n",
              "      <td>+1-939 (693) 995-0477 x8781</td>\n",
              "      <td>463504407</td>\n",
              "      <td>1996-10-26</td>\n",
              "      <td>{'title': 'Chief Administration Analyst', 'key...</td>\n",
              "      <td>{'city': 'Hammesberg', 'street_name': 'Jeannet...</td>\n",
              "      <td>{'cc_number': '5497-0292-4776-0232'}</td>\n",
              "      <td>{'plan': 'Starter', 'status': 'Active', 'payme...</td>\n",
              "      <td>28</td>\n",
              "      <td>Visa checkout</td>\n",
              "    </tr>\n",
              "  </tbody>\n",
              "</table>\n",
              "</div>\n",
              "    <div class=\"colab-df-buttons\">\n",
              "\n",
              "  <div class=\"colab-df-container\">\n",
              "    <button class=\"colab-df-convert\" onclick=\"convertToInteractive('df-9e03151b-275a-40c7-ba31-6e46c27584b3')\"\n",
              "            title=\"Convert this dataframe to an interactive table.\"\n",
              "            style=\"display:none;\">\n",
              "\n",
              "  <svg xmlns=\"http://www.w3.org/2000/svg\" height=\"24px\" viewBox=\"0 -960 960 960\">\n",
              "    <path d=\"M120-120v-720h720v720H120Zm60-500h600v-160H180v160Zm220 220h160v-160H400v160Zm0 220h160v-160H400v160ZM180-400h160v-160H180v160Zm440 0h160v-160H620v160ZM180-180h160v-160H180v160Zm440 0h160v-160H620v160Z\"/>\n",
              "  </svg>\n",
              "    </button>\n",
              "\n",
              "  <style>\n",
              "    .colab-df-container {\n",
              "      display:flex;\n",
              "      gap: 12px;\n",
              "    }\n",
              "\n",
              "    .colab-df-convert {\n",
              "      background-color: #E8F0FE;\n",
              "      border: none;\n",
              "      border-radius: 50%;\n",
              "      cursor: pointer;\n",
              "      display: none;\n",
              "      fill: #1967D2;\n",
              "      height: 32px;\n",
              "      padding: 0 0 0 0;\n",
              "      width: 32px;\n",
              "    }\n",
              "\n",
              "    .colab-df-convert:hover {\n",
              "      background-color: #E2EBFA;\n",
              "      box-shadow: 0px 1px 2px rgba(60, 64, 67, 0.3), 0px 1px 3px 1px rgba(60, 64, 67, 0.15);\n",
              "      fill: #174EA6;\n",
              "    }\n",
              "\n",
              "    .colab-df-buttons div {\n",
              "      margin-bottom: 4px;\n",
              "    }\n",
              "\n",
              "    [theme=dark] .colab-df-convert {\n",
              "      background-color: #3B4455;\n",
              "      fill: #D2E3FC;\n",
              "    }\n",
              "\n",
              "    [theme=dark] .colab-df-convert:hover {\n",
              "      background-color: #434B5C;\n",
              "      box-shadow: 0px 1px 3px 1px rgba(0, 0, 0, 0.15);\n",
              "      filter: drop-shadow(0px 1px 2px rgba(0, 0, 0, 0.3));\n",
              "      fill: #FFFFFF;\n",
              "    }\n",
              "  </style>\n",
              "\n",
              "    <script>\n",
              "      const buttonEl =\n",
              "        document.querySelector('#df-9e03151b-275a-40c7-ba31-6e46c27584b3 button.colab-df-convert');\n",
              "      buttonEl.style.display =\n",
              "        google.colab.kernel.accessAllowed ? 'block' : 'none';\n",
              "\n",
              "      async function convertToInteractive(key) {\n",
              "        const element = document.querySelector('#df-9e03151b-275a-40c7-ba31-6e46c27584b3');\n",
              "        const dataTable =\n",
              "          await google.colab.kernel.invokeFunction('convertToInteractive',\n",
              "                                                    [key], {});\n",
              "        if (!dataTable) return;\n",
              "\n",
              "        const docLinkHtml = 'Like what you see? Visit the ' +\n",
              "          '<a target=\"_blank\" href=https://colab.research.google.com/notebooks/data_table.ipynb>data table notebook</a>'\n",
              "          + ' to learn more about interactive tables.';\n",
              "        element.innerHTML = '';\n",
              "        dataTable['output_type'] = 'display_data';\n",
              "        await google.colab.output.renderOutput(dataTable, element);\n",
              "        const docLink = document.createElement('div');\n",
              "        docLink.innerHTML = docLinkHtml;\n",
              "        element.appendChild(docLink);\n",
              "      }\n",
              "    </script>\n",
              "  </div>\n",
              "\n",
              "\n",
              "<div id=\"df-32dfaf77-fbe7-4411-989b-02678ed4278d\">\n",
              "  <button class=\"colab-df-quickchart\" onclick=\"quickchart('df-32dfaf77-fbe7-4411-989b-02678ed4278d')\"\n",
              "            title=\"Suggest charts\"\n",
              "            style=\"display:none;\">\n",
              "\n",
              "<svg xmlns=\"http://www.w3.org/2000/svg\" height=\"24px\"viewBox=\"0 0 24 24\"\n",
              "     width=\"24px\">\n",
              "    <g>\n",
              "        <path d=\"M19 3H5c-1.1 0-2 .9-2 2v14c0 1.1.9 2 2 2h14c1.1 0 2-.9 2-2V5c0-1.1-.9-2-2-2zM9 17H7v-7h2v7zm4 0h-2V7h2v10zm4 0h-2v-4h2v4z\"/>\n",
              "    </g>\n",
              "</svg>\n",
              "  </button>\n",
              "\n",
              "<style>\n",
              "  .colab-df-quickchart {\n",
              "      --bg-color: #E8F0FE;\n",
              "      --fill-color: #1967D2;\n",
              "      --hover-bg-color: #E2EBFA;\n",
              "      --hover-fill-color: #174EA6;\n",
              "      --disabled-fill-color: #AAA;\n",
              "      --disabled-bg-color: #DDD;\n",
              "  }\n",
              "\n",
              "  [theme=dark] .colab-df-quickchart {\n",
              "      --bg-color: #3B4455;\n",
              "      --fill-color: #D2E3FC;\n",
              "      --hover-bg-color: #434B5C;\n",
              "      --hover-fill-color: #FFFFFF;\n",
              "      --disabled-bg-color: #3B4455;\n",
              "      --disabled-fill-color: #666;\n",
              "  }\n",
              "\n",
              "  .colab-df-quickchart {\n",
              "    background-color: var(--bg-color);\n",
              "    border: none;\n",
              "    border-radius: 50%;\n",
              "    cursor: pointer;\n",
              "    display: none;\n",
              "    fill: var(--fill-color);\n",
              "    height: 32px;\n",
              "    padding: 0;\n",
              "    width: 32px;\n",
              "  }\n",
              "\n",
              "  .colab-df-quickchart:hover {\n",
              "    background-color: var(--hover-bg-color);\n",
              "    box-shadow: 0 1px 2px rgba(60, 64, 67, 0.3), 0 1px 3px 1px rgba(60, 64, 67, 0.15);\n",
              "    fill: var(--button-hover-fill-color);\n",
              "  }\n",
              "\n",
              "  .colab-df-quickchart-complete:disabled,\n",
              "  .colab-df-quickchart-complete:disabled:hover {\n",
              "    background-color: var(--disabled-bg-color);\n",
              "    fill: var(--disabled-fill-color);\n",
              "    box-shadow: none;\n",
              "  }\n",
              "\n",
              "  .colab-df-spinner {\n",
              "    border: 2px solid var(--fill-color);\n",
              "    border-color: transparent;\n",
              "    border-bottom-color: var(--fill-color);\n",
              "    animation:\n",
              "      spin 1s steps(1) infinite;\n",
              "  }\n",
              "\n",
              "  @keyframes spin {\n",
              "    0% {\n",
              "      border-color: transparent;\n",
              "      border-bottom-color: var(--fill-color);\n",
              "      border-left-color: var(--fill-color);\n",
              "    }\n",
              "    20% {\n",
              "      border-color: transparent;\n",
              "      border-left-color: var(--fill-color);\n",
              "      border-top-color: var(--fill-color);\n",
              "    }\n",
              "    30% {\n",
              "      border-color: transparent;\n",
              "      border-left-color: var(--fill-color);\n",
              "      border-top-color: var(--fill-color);\n",
              "      border-right-color: var(--fill-color);\n",
              "    }\n",
              "    40% {\n",
              "      border-color: transparent;\n",
              "      border-right-color: var(--fill-color);\n",
              "      border-top-color: var(--fill-color);\n",
              "    }\n",
              "    60% {\n",
              "      border-color: transparent;\n",
              "      border-right-color: var(--fill-color);\n",
              "    }\n",
              "    80% {\n",
              "      border-color: transparent;\n",
              "      border-right-color: var(--fill-color);\n",
              "      border-bottom-color: var(--fill-color);\n",
              "    }\n",
              "    90% {\n",
              "      border-color: transparent;\n",
              "      border-bottom-color: var(--fill-color);\n",
              "    }\n",
              "  }\n",
              "</style>\n",
              "\n",
              "  <script>\n",
              "    async function quickchart(key) {\n",
              "      const quickchartButtonEl =\n",
              "        document.querySelector('#' + key + ' button');\n",
              "      quickchartButtonEl.disabled = true;  // To prevent multiple clicks.\n",
              "      quickchartButtonEl.classList.add('colab-df-spinner');\n",
              "      try {\n",
              "        const charts = await google.colab.kernel.invokeFunction(\n",
              "            'suggestCharts', [key], {});\n",
              "      } catch (error) {\n",
              "        console.error('Error during call to suggestCharts:', error);\n",
              "      }\n",
              "      quickchartButtonEl.classList.remove('colab-df-spinner');\n",
              "      quickchartButtonEl.classList.add('colab-df-quickchart-complete');\n",
              "    }\n",
              "    (() => {\n",
              "      let quickchartButtonEl =\n",
              "        document.querySelector('#df-32dfaf77-fbe7-4411-989b-02678ed4278d button');\n",
              "      quickchartButtonEl.style.display =\n",
              "        google.colab.kernel.accessAllowed ? 'block' : 'none';\n",
              "    })();\n",
              "  </script>\n",
              "</div>\n",
              "\n",
              "    </div>\n",
              "  </div>\n"
            ],
            "application/vnd.google.colaboratory.intrinsic+json": {
              "type": "dataframe",
              "variable_name": "user_df",
              "summary": "{\n  \"name\": \"user_df\",\n  \"rows\": 3000,\n  \"fields\": [\n    {\n      \"column\": \"id\",\n      \"properties\": {\n        \"dtype\": \"number\",\n        \"std\": 2920,\n        \"min\": 2,\n        \"max\": 9998,\n        \"num_unique_values\": 2573,\n        \"samples\": [\n          9998,\n          8539,\n          3653\n        ],\n        \"semantic_type\": \"\",\n        \"description\": \"\"\n      }\n    },\n    {\n      \"column\": \"uid\",\n      \"properties\": {\n        \"dtype\": \"string\",\n        \"num_unique_values\": 3000,\n        \"samples\": [\n          \"8ea0b148-439e-4f37-a573-944e196297c0\",\n          \"9c2ff859-8fae-48c4-8aa2-4794a8687636\",\n          \"080a6a1f-77f1-41ee-9eea-55f7cc631f2c\"\n        ],\n        \"semantic_type\": \"\",\n        \"description\": \"\"\n      }\n    },\n    {\n      \"column\": \"password\",\n      \"properties\": {\n        \"dtype\": \"string\",\n        \"num_unique_values\": 3000,\n        \"samples\": [\n          \"uJ4igemzMP\",\n          \"8MPuy0HgJ4\",\n          \"qhBjAzLgCV\"\n        ],\n        \"semantic_type\": \"\",\n        \"description\": \"\"\n      }\n    },\n    {\n      \"column\": \"first_name\",\n      \"properties\": {\n        \"dtype\": \"string\",\n        \"num_unique_values\": 2074,\n        \"samples\": [\n          \"Christian\",\n          \"Weston\",\n          \"Carman\"\n        ],\n        \"semantic_type\": \"\",\n        \"description\": \"\"\n      }\n    },\n    {\n      \"column\": \"last_name\",\n      \"properties\": {\n        \"dtype\": \"category\",\n        \"num_unique_values\": 472,\n        \"samples\": [\n          \"Kessler\",\n          \"Runte\",\n          \"Mante\"\n        ],\n        \"semantic_type\": \"\",\n        \"description\": \"\"\n      }\n    },\n    {\n      \"column\": \"username\",\n      \"properties\": {\n        \"dtype\": \"string\",\n        \"num_unique_values\": 2997,\n        \"samples\": [\n          \"santo.miller\",\n          \"darrel.heller\",\n          \"mozell.murphy\"\n        ],\n        \"semantic_type\": \"\",\n        \"description\": \"\"\n      }\n    },\n    {\n      \"column\": \"email\",\n      \"properties\": {\n        \"dtype\": \"string\",\n        \"num_unique_values\": 2997,\n        \"samples\": [\n          \"santo.miller@email.com\",\n          \"darrel.heller@email.com\",\n          \"mozell.murphy@email.com\"\n        ],\n        \"semantic_type\": \"\",\n        \"description\": \"\"\n      }\n    },\n    {\n      \"column\": \"avatar\",\n      \"properties\": {\n        \"dtype\": \"string\",\n        \"num_unique_values\": 2996,\n        \"samples\": [\n          \"https://robohash.org/consequaturconsequaturaut.png?size=300x300&set=set1\",\n          \"https://robohash.org/ipsamrepudiandaeodio.png?size=300x300&set=set1\",\n          \"https://robohash.org/pariaturexomnis.png?size=300x300&set=set1\"\n        ],\n        \"semantic_type\": \"\",\n        \"description\": \"\"\n      }\n    },\n    {\n      \"column\": \"gender\",\n      \"properties\": {\n        \"dtype\": \"category\",\n        \"num_unique_values\": 8,\n        \"samples\": [\n          \"Bigender\",\n          \"Non-binary\",\n          \"Genderqueer\"\n        ],\n        \"semantic_type\": \"\",\n        \"description\": \"\"\n      }\n    },\n    {\n      \"column\": \"phone_number\",\n      \"properties\": {\n        \"dtype\": \"string\",\n        \"num_unique_values\": 3000,\n        \"samples\": [\n          \"+291 1-359-351-8424 x485\",\n          \"+230 432.725.4016 x79874\",\n          \"+247 650.446.5742 x0552\"\n        ],\n        \"semantic_type\": \"\",\n        \"description\": \"\"\n      }\n    },\n    {\n      \"column\": \"social_insurance_number\",\n      \"properties\": {\n        \"dtype\": \"string\",\n        \"num_unique_values\": 3000,\n        \"samples\": [\n          \"424151058\",\n          \"287536791\",\n          \"680593340\"\n        ],\n        \"semantic_type\": \"\",\n        \"description\": \"\"\n      }\n    },\n    {\n      \"column\": \"date_of_birth\",\n      \"properties\": {\n        \"dtype\": \"object\",\n        \"num_unique_values\": 2755,\n        \"samples\": [\n          \"2001-03-25\",\n          \"1966-01-31\",\n          \"1969-06-09\"\n        ],\n        \"semantic_type\": \"\",\n        \"description\": \"\"\n      }\n    },\n    {\n      \"column\": \"employment\",\n      \"properties\": {\n        \"dtype\": \"object\",\n        \"semantic_type\": \"\",\n        \"description\": \"\"\n      }\n    },\n    {\n      \"column\": \"address\",\n      \"properties\": {\n        \"dtype\": \"object\",\n        \"semantic_type\": \"\",\n        \"description\": \"\"\n      }\n    },\n    {\n      \"column\": \"credit_card\",\n      \"properties\": {\n        \"dtype\": \"object\",\n        \"semantic_type\": \"\",\n        \"description\": \"\"\n      }\n    },\n    {\n      \"column\": \"subscription\",\n      \"properties\": {\n        \"dtype\": \"object\",\n        \"semantic_type\": \"\",\n        \"description\": \"\"\n      }\n    },\n    {\n      \"column\": \"age\",\n      \"properties\": {\n        \"dtype\": \"number\",\n        \"std\": 13,\n        \"min\": 18,\n        \"max\": 64,\n        \"num_unique_values\": 47,\n        \"samples\": [\n          25,\n          58,\n          53\n        ],\n        \"semantic_type\": \"\",\n        \"description\": \"\"\n      }\n    },\n    {\n      \"column\": \"payment_method\",\n      \"properties\": {\n        \"dtype\": \"category\",\n        \"num_unique_values\": 12,\n        \"samples\": [\n          \"Google Pay\",\n          \"Credit card\",\n          \"Debit card\"\n        ],\n        \"semantic_type\": \"\",\n        \"description\": \"\"\n      }\n    }\n  ]\n}"
            }
          },
          "metadata": {},
          "execution_count": 61
        }
      ],
      "source": [
        "user_df.head(3)"
      ]
    },
    {
      "cell_type": "code",
      "execution_count": 62,
      "id": "f0708a75-7f45-4637-ae7d-201598201f4a",
      "metadata": {
        "id": "f0708a75-7f45-4637-ae7d-201598201f4a",
        "outputId": "83e18304-be90-42e9-86de-4cac85fe8089",
        "colab": {
          "base_uri": "https://localhost:8080/"
        }
      },
      "outputs": [
        {
          "output_type": "execute_result",
          "data": {
            "text/plain": [
              "12"
            ]
          },
          "metadata": {},
          "execution_count": 62
        }
      ],
      "source": [
        "user_df['payment_method'].nunique()"
      ]
    },
    {
      "cell_type": "code",
      "execution_count": 63,
      "id": "c4cfe8d4-9799-4d6d-bb0f-445c88c9454e",
      "metadata": {
        "id": "c4cfe8d4-9799-4d6d-bb0f-445c88c9454e"
      },
      "outputs": [],
      "source": [
        "# Converting payment_method to categorical data\n",
        "user_df['payment_method'] = pd.Categorical(user_df['payment_method'])"
      ]
    },
    {
      "cell_type": "code",
      "execution_count": 64,
      "id": "7dcb6aff-2952-4779-8c14-83f59196c9a8",
      "metadata": {
        "id": "7dcb6aff-2952-4779-8c14-83f59196c9a8",
        "outputId": "cd0a450a-b484-40d2-86d7-952be0064297",
        "colab": {
          "base_uri": "https://localhost:8080/"
        }
      },
      "outputs": [
        {
          "output_type": "execute_result",
          "data": {
            "text/plain": [
              "12"
            ]
          },
          "metadata": {},
          "execution_count": 64
        }
      ],
      "source": [
        "user_df['payment_method'].nunique()"
      ]
    },
    {
      "cell_type": "code",
      "execution_count": 65,
      "id": "a6551ab6-c654-4f2e-b1e6-9e4d12f7eb51",
      "metadata": {
        "id": "a6551ab6-c654-4f2e-b1e6-9e4d12f7eb51",
        "outputId": "d803be35-07b3-435e-bad2-e183f20c4b7f",
        "colab": {
          "base_uri": "https://localhost:8080/"
        }
      },
      "outputs": [
        {
          "output_type": "execute_result",
          "data": {
            "text/plain": [
              "['Debit card', 'Money transfer', 'Visa checkout', 'Cheque', 'WeChat Pay', ..., 'Bitcoins', 'Apple Pay', 'Credit card', 'Google Pay', 'Paypal']\n",
              "Length: 12\n",
              "Categories (12, object): ['Alipay', 'Apple Pay', 'Bitcoins', 'Cash', ..., 'Money transfer',\n",
              "                          'Paypal', 'Visa checkout', 'WeChat Pay']"
            ]
          },
          "metadata": {},
          "execution_count": 65
        }
      ],
      "source": [
        "user_df['payment_method'].unique()"
      ]
    },
    {
      "cell_type": "code",
      "execution_count": 66,
      "id": "6c5d3636-13e6-412a-a049-a36071764182",
      "metadata": {
        "id": "6c5d3636-13e6-412a-a049-a36071764182",
        "outputId": "6d32de86-aa01-4eb1-d196-e853f8655eff",
        "colab": {
          "base_uri": "https://localhost:8080/"
        }
      },
      "outputs": [
        {
          "output_type": "stream",
          "name": "stderr",
          "text": [
            "<ipython-input-66-a74d05a71370>:2: FutureWarning: The default of observed=False is deprecated and will be changed to True in a future version of pandas. Pass observed=False to retain current behavior or observed=True to adopt the future default and silence this warning.\n",
            "  user_counts = user_df.groupby('payment_method')['uid'].count()\n"
          ]
        }
      ],
      "source": [
        "# Counting unique users for each payment_method\n",
        "user_counts = user_df.groupby('payment_method')['uid'].count()"
      ]
    },
    {
      "cell_type": "code",
      "execution_count": 67,
      "id": "7b3fddca-3821-4a06-93c8-ea12b1a1d744",
      "metadata": {
        "id": "7b3fddca-3821-4a06-93c8-ea12b1a1d744"
      },
      "outputs": [],
      "source": [
        "user_counts = user_counts.sort_values(ascending=False)"
      ]
    },
    {
      "cell_type": "code",
      "execution_count": 68,
      "id": "7febe59f-a82b-4346-9f1f-702f327d2f8f",
      "metadata": {
        "id": "7febe59f-a82b-4346-9f1f-702f327d2f8f",
        "outputId": "80fd0fab-3040-4278-95f8-dd9d72ca3489",
        "colab": {
          "base_uri": "https://localhost:8080/",
          "height": 492
        }
      },
      "outputs": [
        {
          "output_type": "execute_result",
          "data": {
            "text/plain": [
              "payment_method\n",
              "Money transfer    286\n",
              "Cash              277\n",
              "Bitcoins          257\n",
              "Credit card       254\n",
              "Debit card        251\n",
              "Google Pay        247\n",
              "Paypal            246\n",
              "Cheque            242\n",
              "Visa checkout     241\n",
              "Apple Pay         236\n",
              "WeChat Pay        233\n",
              "Alipay            230\n",
              "Name: uid, dtype: int64"
            ],
            "text/html": [
              "<div>\n",
              "<style scoped>\n",
              "    .dataframe tbody tr th:only-of-type {\n",
              "        vertical-align: middle;\n",
              "    }\n",
              "\n",
              "    .dataframe tbody tr th {\n",
              "        vertical-align: top;\n",
              "    }\n",
              "\n",
              "    .dataframe thead th {\n",
              "        text-align: right;\n",
              "    }\n",
              "</style>\n",
              "<table border=\"1\" class=\"dataframe\">\n",
              "  <thead>\n",
              "    <tr style=\"text-align: right;\">\n",
              "      <th></th>\n",
              "      <th>uid</th>\n",
              "    </tr>\n",
              "    <tr>\n",
              "      <th>payment_method</th>\n",
              "      <th></th>\n",
              "    </tr>\n",
              "  </thead>\n",
              "  <tbody>\n",
              "    <tr>\n",
              "      <th>Money transfer</th>\n",
              "      <td>286</td>\n",
              "    </tr>\n",
              "    <tr>\n",
              "      <th>Cash</th>\n",
              "      <td>277</td>\n",
              "    </tr>\n",
              "    <tr>\n",
              "      <th>Bitcoins</th>\n",
              "      <td>257</td>\n",
              "    </tr>\n",
              "    <tr>\n",
              "      <th>Credit card</th>\n",
              "      <td>254</td>\n",
              "    </tr>\n",
              "    <tr>\n",
              "      <th>Debit card</th>\n",
              "      <td>251</td>\n",
              "    </tr>\n",
              "    <tr>\n",
              "      <th>Google Pay</th>\n",
              "      <td>247</td>\n",
              "    </tr>\n",
              "    <tr>\n",
              "      <th>Paypal</th>\n",
              "      <td>246</td>\n",
              "    </tr>\n",
              "    <tr>\n",
              "      <th>Cheque</th>\n",
              "      <td>242</td>\n",
              "    </tr>\n",
              "    <tr>\n",
              "      <th>Visa checkout</th>\n",
              "      <td>241</td>\n",
              "    </tr>\n",
              "    <tr>\n",
              "      <th>Apple Pay</th>\n",
              "      <td>236</td>\n",
              "    </tr>\n",
              "    <tr>\n",
              "      <th>WeChat Pay</th>\n",
              "      <td>233</td>\n",
              "    </tr>\n",
              "    <tr>\n",
              "      <th>Alipay</th>\n",
              "      <td>230</td>\n",
              "    </tr>\n",
              "  </tbody>\n",
              "</table>\n",
              "</div><br><label><b>dtype:</b> int64</label>"
            ]
          },
          "metadata": {},
          "execution_count": 68
        }
      ],
      "source": [
        "user_counts"
      ]
    },
    {
      "cell_type": "code",
      "execution_count": 69,
      "id": "32e0661e-60e0-46fc-a2d9-0808b53737d8",
      "metadata": {
        "id": "32e0661e-60e0-46fc-a2d9-0808b53737d8",
        "outputId": "40eb31dd-7b28-42b0-d747-1051f36c51f6",
        "colab": {
          "base_uri": "https://localhost:8080/",
          "height": 542
        }
      },
      "outputs": [
        {
          "output_type": "display_data",
          "data": {
            "text/plain": [
              "<Figure size 640x480 with 1 Axes>"
            ],
            "image/png": "[encoded data removed]"
          },
          "metadata": {}
        }
      ],
      "source": [
        "# Plotting\n",
        "user_counts.plot(kind='bar', color='blue')\n",
        "plt.xlabel('payment_method')\n",
        "plt.ylabel('Number of Users')\n",
        "plt.title('Number of Users by Payment Method')\n",
        "plt.xticks(rotation=45)\n",
        "plt.show()"
      ]
    },
    {
      "cell_type": "markdown",
      "id": "165f8b66-3d26-43b4-b636-6cfac14616a4",
      "metadata": {
        "id": "165f8b66-3d26-43b4-b636-6cfac14616a4"
      },
      "source": [
        "## 9. How many countries are represented in the dataset?"
      ]
    },
    {
      "cell_type": "code",
      "execution_count": 70,
      "id": "ec0f6b17-0b16-4dd4-bcfb-11f7cd4b5336",
      "metadata": {
        "id": "ec0f6b17-0b16-4dd4-bcfb-11f7cd4b5336",
        "outputId": "3ed7b562-fbec-42f2-c001-54aacbf763e4",
        "colab": {
          "base_uri": "https://localhost:8080/",
          "height": 458
        }
      },
      "outputs": [
        {
          "output_type": "execute_result",
          "data": {
            "text/plain": [
              "0       {'city': 'Goyetteport', 'street_name': 'O'Hara...\n",
              "1       {'city': 'Shawnaview', 'street_name': 'Gleason...\n",
              "2       {'city': 'Hammesberg', 'street_name': 'Jeannet...\n",
              "3       {'city': 'Garrettville', 'street_name': 'Sherr...\n",
              "4       {'city': 'Idellashire', 'street_name': 'Volkma...\n",
              "                              ...                        \n",
              "2995    {'city': 'Denesikview', 'street_name': 'Sawayn...\n",
              "2996    {'city': 'New Alejandromouth', 'street_name': ...\n",
              "2997    {'city': 'North Nenaport', 'street_name': 'Kat...\n",
              "2998    {'city': 'Lake Kazukoville', 'street_name': 'M...\n",
              "2999    {'city': 'West Lupe', 'street_name': 'Vandervo...\n",
              "Name: address, Length: 3000, dtype: object"
            ],
            "text/html": [
              "<div>\n",
              "<style scoped>\n",
              "    .dataframe tbody tr th:only-of-type {\n",
              "        vertical-align: middle;\n",
              "    }\n",
              "\n",
              "    .dataframe tbody tr th {\n",
              "        vertical-align: top;\n",
              "    }\n",
              "\n",
              "    .dataframe thead th {\n",
              "        text-align: right;\n",
              "    }\n",
              "</style>\n",
              "<table border=\"1\" class=\"dataframe\">\n",
              "  <thead>\n",
              "    <tr style=\"text-align: right;\">\n",
              "      <th></th>\n",
              "      <th>address</th>\n",
              "    </tr>\n",
              "  </thead>\n",
              "  <tbody>\n",
              "    <tr>\n",
              "      <th>0</th>\n",
              "      <td>{'city': 'Goyetteport', 'street_name': 'O'Hara...</td>\n",
              "    </tr>\n",
              "    <tr>\n",
              "      <th>1</th>\n",
              "      <td>{'city': 'Shawnaview', 'street_name': 'Gleason...</td>\n",
              "    </tr>\n",
              "    <tr>\n",
              "      <th>2</th>\n",
              "      <td>{'city': 'Hammesberg', 'street_name': 'Jeannet...</td>\n",
              "    </tr>\n",
              "    <tr>\n",
              "      <th>3</th>\n",
              "      <td>{'city': 'Garrettville', 'street_name': 'Sherr...</td>\n",
              "    </tr>\n",
              "    <tr>\n",
              "      <th>4</th>\n",
              "      <td>{'city': 'Idellashire', 'street_name': 'Volkma...</td>\n",
              "    </tr>\n",
              "    <tr>\n",
              "      <th>...</th>\n",
              "      <td>...</td>\n",
              "    </tr>\n",
              "    <tr>\n",
              "      <th>2995</th>\n",
              "      <td>{'city': 'Denesikview', 'street_name': 'Sawayn...</td>\n",
              "    </tr>\n",
              "    <tr>\n",
              "      <th>2996</th>\n",
              "      <td>{'city': 'New Alejandromouth', 'street_name': ...</td>\n",
              "    </tr>\n",
              "    <tr>\n",
              "      <th>2997</th>\n",
              "      <td>{'city': 'North Nenaport', 'street_name': 'Kat...</td>\n",
              "    </tr>\n",
              "    <tr>\n",
              "      <th>2998</th>\n",
              "      <td>{'city': 'Lake Kazukoville', 'street_name': 'M...</td>\n",
              "    </tr>\n",
              "    <tr>\n",
              "      <th>2999</th>\n",
              "      <td>{'city': 'West Lupe', 'street_name': 'Vandervo...</td>\n",
              "    </tr>\n",
              "  </tbody>\n",
              "</table>\n",
              "<p>3000 rows × 1 columns</p>\n",
              "</div><br><label><b>dtype:</b> object</label>"
            ]
          },
          "metadata": {},
          "execution_count": 70
        }
      ],
      "source": [
        "user_df['address']"
      ]
    },
    {
      "cell_type": "code",
      "execution_count": 71,
      "id": "dc940675-4f87-4b91-9931-104b7d5281e4",
      "metadata": {
        "id": "dc940675-4f87-4b91-9931-104b7d5281e4",
        "outputId": "21a9f310-9409-4924-a1ea-1d34e9208ae4",
        "colab": {
          "base_uri": "https://localhost:8080/"
        }
      },
      "outputs": [
        {
          "output_type": "execute_result",
          "data": {
            "text/plain": [
              "{'city': 'Goyetteport',\n",
              " 'street_name': \"O'Hara Islands\",\n",
              " 'street_address': '736 Geoffrey Parkways',\n",
              " 'zip_code': '51085',\n",
              " 'state': 'Vermont',\n",
              " 'country': 'United States',\n",
              " 'coordinates': {'lat': 63.49774392656008, 'lng': -45.50396006695408}}"
            ]
          },
          "metadata": {},
          "execution_count": 71
        }
      ],
      "source": [
        "user_df['address'][0]"
      ]
    },
    {
      "cell_type": "code",
      "execution_count": 72,
      "id": "fb484268-1673-4a4a-8f4f-1794b7ea8ed4",
      "metadata": {
        "id": "fb484268-1673-4a4a-8f4f-1794b7ea8ed4"
      },
      "outputs": [],
      "source": [
        "\n",
        "# Extract country and create a new column\n",
        "user_df['Country'] = user_df['address'].apply(lambda x: x.get('country'))"
      ]
    },
    {
      "cell_type": "code",
      "execution_count": 73,
      "id": "b246e75b-c4cd-4c76-a07a-f4489bfa4d55",
      "metadata": {
        "id": "b246e75b-c4cd-4c76-a07a-f4489bfa4d55",
        "outputId": "646d87dd-ed18-4851-8382-f4a5b8883325",
        "colab": {
          "base_uri": "https://localhost:8080/",
          "height": 458
        }
      },
      "outputs": [
        {
          "output_type": "execute_result",
          "data": {
            "text/plain": [
              "0       United States\n",
              "1       United States\n",
              "2       United States\n",
              "3       United States\n",
              "4       United States\n",
              "            ...      \n",
              "2995    United States\n",
              "2996    United States\n",
              "2997    United States\n",
              "2998    United States\n",
              "2999    United States\n",
              "Name: Country, Length: 3000, dtype: object"
            ],
            "text/html": [
              "<div>\n",
              "<style scoped>\n",
              "    .dataframe tbody tr th:only-of-type {\n",
              "        vertical-align: middle;\n",
              "    }\n",
              "\n",
              "    .dataframe tbody tr th {\n",
              "        vertical-align: top;\n",
              "    }\n",
              "\n",
              "    .dataframe thead th {\n",
              "        text-align: right;\n",
              "    }\n",
              "</style>\n",
              "<table border=\"1\" class=\"dataframe\">\n",
              "  <thead>\n",
              "    <tr style=\"text-align: right;\">\n",
              "      <th></th>\n",
              "      <th>Country</th>\n",
              "    </tr>\n",
              "  </thead>\n",
              "  <tbody>\n",
              "    <tr>\n",
              "      <th>0</th>\n",
              "      <td>United States</td>\n",
              "    </tr>\n",
              "    <tr>\n",
              "      <th>1</th>\n",
              "      <td>United States</td>\n",
              "    </tr>\n",
              "    <tr>\n",
              "      <th>2</th>\n",
              "      <td>United States</td>\n",
              "    </tr>\n",
              "    <tr>\n",
              "      <th>3</th>\n",
              "      <td>United States</td>\n",
              "    </tr>\n",
              "    <tr>\n",
              "      <th>4</th>\n",
              "      <td>United States</td>\n",
              "    </tr>\n",
              "    <tr>\n",
              "      <th>...</th>\n",
              "      <td>...</td>\n",
              "    </tr>\n",
              "    <tr>\n",
              "      <th>2995</th>\n",
              "      <td>United States</td>\n",
              "    </tr>\n",
              "    <tr>\n",
              "      <th>2996</th>\n",
              "      <td>United States</td>\n",
              "    </tr>\n",
              "    <tr>\n",
              "      <th>2997</th>\n",
              "      <td>United States</td>\n",
              "    </tr>\n",
              "    <tr>\n",
              "      <th>2998</th>\n",
              "      <td>United States</td>\n",
              "    </tr>\n",
              "    <tr>\n",
              "      <th>2999</th>\n",
              "      <td>United States</td>\n",
              "    </tr>\n",
              "  </tbody>\n",
              "</table>\n",
              "<p>3000 rows × 1 columns</p>\n",
              "</div><br><label><b>dtype:</b> object</label>"
            ]
          },
          "metadata": {},
          "execution_count": 73
        }
      ],
      "source": [
        "user_df['Country']"
      ]
    },
    {
      "cell_type": "code",
      "execution_count": 74,
      "id": "ba2a8051-bb8c-4440-bc55-133b1f17d362",
      "metadata": {
        "id": "ba2a8051-bb8c-4440-bc55-133b1f17d362",
        "outputId": "f76c3560-7be4-47a9-9b8e-0cf57848e269",
        "colab": {
          "base_uri": "https://localhost:8080/"
        }
      },
      "outputs": [
        {
          "output_type": "execute_result",
          "data": {
            "text/plain": [
              "1"
            ]
          },
          "metadata": {},
          "execution_count": 74
        }
      ],
      "source": [
        "user_df['Country'].nunique()"
      ]
    },
    {
      "cell_type": "code",
      "execution_count": 75,
      "id": "fdd6777c-d5f2-45dd-bf78-e6bb8dc43e19",
      "metadata": {
        "id": "fdd6777c-d5f2-45dd-bf78-e6bb8dc43e19",
        "outputId": "db7e4444-2566-4bab-d619-339ec76668ef",
        "colab": {
          "base_uri": "https://localhost:8080/"
        }
      },
      "outputs": [
        {
          "output_type": "execute_result",
          "data": {
            "text/plain": [
              "array(['United States'], dtype=object)"
            ]
          },
          "metadata": {},
          "execution_count": 75
        }
      ],
      "source": [
        "user_df['Country'].unique()"
      ]
    },
    {
      "cell_type": "markdown",
      "id": "20763f55-3202-4ddc-917a-ba67d5a197ea",
      "metadata": {
        "id": "20763f55-3202-4ddc-917a-ba67d5a197ea"
      },
      "source": [
        "so only one Country : United States"
      ]
    },
    {
      "cell_type": "markdown",
      "id": "5c181dc8-12e4-4981-8ca5-474b323991c6",
      "metadata": {
        "id": "5c181dc8-12e4-4981-8ca5-474b323991c6"
      },
      "source": [
        "## 10. How many unique employment titles are represented in the dataset?"
      ]
    },
    {
      "cell_type": "code",
      "execution_count": 76,
      "id": "6342681b-46ec-4e00-bdbf-36eb0bbcc107",
      "metadata": {
        "id": "6342681b-46ec-4e00-bdbf-36eb0bbcc107",
        "outputId": "2681472b-26d5-4577-a0d1-df8365b433ad",
        "colab": {
          "base_uri": "https://localhost:8080/",
          "height": 458
        }
      },
      "outputs": [
        {
          "output_type": "execute_result",
          "data": {
            "text/plain": [
              "0       {'title': 'Global Manager', 'key_skill': 'Prob...\n",
              "1       {'title': 'Forward Manufacturing Executive', '...\n",
              "2       {'title': 'Chief Administration Analyst', 'key...\n",
              "3       {'title': 'Dynamic Retail Supervisor', 'key_sk...\n",
              "4       {'title': 'Senior Developer', 'key_skill': 'Ne...\n",
              "                              ...                        \n",
              "2995    {'title': 'Regional Architect', 'key_skill': '...\n",
              "2996    {'title': 'Future Technology Agent', 'key_skil...\n",
              "2997    {'title': 'Senior Officer', 'key_skill': 'Team...\n",
              "2998    {'title': 'Accounting Agent', 'key_skill': 'Or...\n",
              "2999    {'title': 'Banking Supervisor', 'key_skill': '...\n",
              "Name: employment, Length: 3000, dtype: object"
            ],
            "text/html": [
              "<div>\n",
              "<style scoped>\n",
              "    .dataframe tbody tr th:only-of-type {\n",
              "        vertical-align: middle;\n",
              "    }\n",
              "\n",
              "    .dataframe tbody tr th {\n",
              "        vertical-align: top;\n",
              "    }\n",
              "\n",
              "    .dataframe thead th {\n",
              "        text-align: right;\n",
              "    }\n",
              "</style>\n",
              "<table border=\"1\" class=\"dataframe\">\n",
              "  <thead>\n",
              "    <tr style=\"text-align: right;\">\n",
              "      <th></th>\n",
              "      <th>employment</th>\n",
              "    </tr>\n",
              "  </thead>\n",
              "  <tbody>\n",
              "    <tr>\n",
              "      <th>0</th>\n",
              "      <td>{'title': 'Global Manager', 'key_skill': 'Prob...</td>\n",
              "    </tr>\n",
              "    <tr>\n",
              "      <th>1</th>\n",
              "      <td>{'title': 'Forward Manufacturing Executive', '...</td>\n",
              "    </tr>\n",
              "    <tr>\n",
              "      <th>2</th>\n",
              "      <td>{'title': 'Chief Administration Analyst', 'key...</td>\n",
              "    </tr>\n",
              "    <tr>\n",
              "      <th>3</th>\n",
              "      <td>{'title': 'Dynamic Retail Supervisor', 'key_sk...</td>\n",
              "    </tr>\n",
              "    <tr>\n",
              "      <th>4</th>\n",
              "      <td>{'title': 'Senior Developer', 'key_skill': 'Ne...</td>\n",
              "    </tr>\n",
              "    <tr>\n",
              "      <th>...</th>\n",
              "      <td>...</td>\n",
              "    </tr>\n",
              "    <tr>\n",
              "      <th>2995</th>\n",
              "      <td>{'title': 'Regional Architect', 'key_skill': '...</td>\n",
              "    </tr>\n",
              "    <tr>\n",
              "      <th>2996</th>\n",
              "      <td>{'title': 'Future Technology Agent', 'key_skil...</td>\n",
              "    </tr>\n",
              "    <tr>\n",
              "      <th>2997</th>\n",
              "      <td>{'title': 'Senior Officer', 'key_skill': 'Team...</td>\n",
              "    </tr>\n",
              "    <tr>\n",
              "      <th>2998</th>\n",
              "      <td>{'title': 'Accounting Agent', 'key_skill': 'Or...</td>\n",
              "    </tr>\n",
              "    <tr>\n",
              "      <th>2999</th>\n",
              "      <td>{'title': 'Banking Supervisor', 'key_skill': '...</td>\n",
              "    </tr>\n",
              "  </tbody>\n",
              "</table>\n",
              "<p>3000 rows × 1 columns</p>\n",
              "</div><br><label><b>dtype:</b> object</label>"
            ]
          },
          "metadata": {},
          "execution_count": 76
        }
      ],
      "source": [
        "user_df['employment']"
      ]
    },
    {
      "cell_type": "code",
      "execution_count": 77,
      "id": "68351f50-fa90-42e7-a2a0-151fa4d8549c",
      "metadata": {
        "id": "68351f50-fa90-42e7-a2a0-151fa4d8549c",
        "outputId": "cc7d8e58-38cf-4fbc-bc95-a41ea77abf4d",
        "colab": {
          "base_uri": "https://localhost:8080/"
        }
      },
      "outputs": [
        {
          "output_type": "execute_result",
          "data": {
            "text/plain": [
              "{'title': 'Global Manager', 'key_skill': 'Problem solving'}"
            ]
          },
          "metadata": {},
          "execution_count": 77
        }
      ],
      "source": [
        "user_df['employment'][0]"
      ]
    },
    {
      "cell_type": "code",
      "execution_count": 78,
      "id": "cef2d863-2377-4d32-bf97-2d0bd478965e",
      "metadata": {
        "id": "cef2d863-2377-4d32-bf97-2d0bd478965e"
      },
      "outputs": [],
      "source": [
        "\n",
        "# Extract employment title and create a new column\n",
        "user_df['Employement_Title'] = user_df['employment'].apply(lambda x: x.get('title'))"
      ]
    },
    {
      "cell_type": "code",
      "execution_count": 79,
      "id": "c61c8970-72b0-4b82-9c66-554e7aa57f1a",
      "metadata": {
        "scrolled": true,
        "id": "c61c8970-72b0-4b82-9c66-554e7aa57f1a",
        "outputId": "05c8707f-f736-405b-f0cd-7b5cf80a18c3",
        "colab": {
          "base_uri": "https://localhost:8080/"
        }
      },
      "outputs": [
        {
          "output_type": "execute_result",
          "data": {
            "text/plain": [
              "array(['Global Manager', 'Forward Manufacturing Executive',\n",
              "       'Chief Administration Analyst', ...,\n",
              "       'Administration Administrator', 'Regional Facilitator',\n",
              "       'Future Technology Agent'], dtype=object)"
            ]
          },
          "metadata": {},
          "execution_count": 79
        }
      ],
      "source": [
        "user_df['Employement_Title'].unique()"
      ]
    },
    {
      "cell_type": "code",
      "execution_count": 80,
      "id": "58620270-f5d6-4469-b7c5-1c51587ecc41",
      "metadata": {
        "id": "58620270-f5d6-4469-b7c5-1c51587ecc41",
        "outputId": "b7da90e0-0158-45f8-c049-42a414a638fa",
        "colab": {
          "base_uri": "https://localhost:8080/"
        }
      },
      "outputs": [
        {
          "output_type": "execute_result",
          "data": {
            "text/plain": [
              "1972"
            ]
          },
          "metadata": {},
          "execution_count": 80
        }
      ],
      "source": [
        "user_df['Employement_Title'].nunique()"
      ]
    },
    {
      "cell_type": "markdown",
      "id": "e0dfcbef-cb6d-4197-af4f-fd7e708eb794",
      "metadata": {
        "jp-MarkdownHeadingCollapsed": true,
        "id": "e0dfcbef-cb6d-4197-af4f-fd7e708eb794"
      },
      "source": [
        "# <span style=\"font-size: 30px; color: brown;\"> Question 2 (30 pts)</span>"
      ]
    },
    {
      "cell_type": "markdown",
      "id": "c0856084-b9f1-4c21-9a69-fd803e6ab3b1",
      "metadata": {
        "id": "c0856084-b9f1-4c21-9a69-fd803e6ab3b1"
      },
      "source": [
        "## <span style=\"font-size: 20px; color: black;\"> 1. Code a web scraper that will visit https://www.isb.edu/en/study-isb/advanced-managementprogrammes.html and extract the following information about each program. (i) Title (ii)Brief description (iii) Duration (iv) Work Experience. (20 pts)"
      ]
    },
    {
      "cell_type": "code",
      "source": [
        "!pip install webdriver_manager"
      ],
      "metadata": {
        "id": "yLULZjB27Frz",
        "outputId": "f5d4b0ff-eddf-42ca-ed4e-fc93ce9c5cfa",
        "colab": {
          "base_uri": "https://localhost:8080/"
        }
      },
      "id": "yLULZjB27Frz",
      "execution_count": 85,
      "outputs": [
        {
          "output_type": "stream",
          "name": "stdout",
          "text": [
            "Collecting webdriver_manager\n",
            "  Downloading webdriver_manager-4.0.2-py2.py3-none-any.whl.metadata (12 kB)\n",
            "Requirement already satisfied: requests in /usr/local/lib/python3.10/dist-packages (from webdriver_manager) (2.32.3)\n",
            "Collecting python-dotenv (from webdriver_manager)\n",
            "  Downloading python_dotenv-1.0.1-py3-none-any.whl.metadata (23 kB)\n",
            "Requirement already satisfied: packaging in /usr/local/lib/python3.10/dist-packages (from webdriver_manager) (24.2)\n",
            "Requirement already satisfied: charset-normalizer<4,>=2 in /usr/local/lib/python3.10/dist-packages (from requests->webdriver_manager) (3.4.0)\n",
            "Requirement already satisfied: idna<4,>=2.5 in /usr/local/lib/python3.10/dist-packages (from requests->webdriver_manager) (3.10)\n",
            "Requirement already satisfied: urllib3<3,>=1.21.1 in /usr/local/lib/python3.10/dist-packages (from requests->webdriver_manager) (2.2.3)\n",
            "Requirement already satisfied: certifi>=2017.4.17 in /usr/local/lib/python3.10/dist-packages (from requests->webdriver_manager) (2024.8.30)\n",
            "Downloading webdriver_manager-4.0.2-py2.py3-none-any.whl (27 kB)\n",
            "Downloading python_dotenv-1.0.1-py3-none-any.whl (19 kB)\n",
            "Installing collected packages: python-dotenv, webdriver_manager\n",
            "Successfully installed python-dotenv-1.0.1 webdriver_manager-4.0.2\n"
          ]
        }
      ]
    },
    {
      "cell_type": "code",
      "execution_count": 86,
      "id": "f862fc4a-cf64-49b8-ae6a-bdec1ab89adc",
      "metadata": {
        "id": "f862fc4a-cf64-49b8-ae6a-bdec1ab89adc"
      },
      "outputs": [],
      "source": [
        "from selenium import webdriver\n",
        "from selenium.webdriver.chrome.service import Service\n",
        "from webdriver_manager.chrome import ChromeDriverManager\n",
        "from selenium.webdriver.common.by import By\n",
        "import time"
      ]
    },
    {
      "cell_type": "code",
      "execution_count": 87,
      "id": "e3639338-4c78-4d9a-aaed-b797390d4bfb",
      "metadata": {
        "id": "e3639338-4c78-4d9a-aaed-b797390d4bfb"
      },
      "outputs": [],
      "source": [
        "# Define the URL\n",
        "url = 'https://www.isb.edu/en/study-isb/advanced-management-programmes.html'"
      ]
    },
    {
      "cell_type": "code",
      "execution_count": 91,
      "id": "35cdd05e-9de3-474a-91f1-3d5cef6a63a0",
      "metadata": {
        "id": "35cdd05e-9de3-474a-91f1-3d5cef6a63a0",
        "outputId": "e09015d9-c222-4d95-a558-429c27ca2848",
        "colab": {
          "base_uri": "https://localhost:8080/",
          "height": 704
        }
      },
      "outputs": [
        {
          "output_type": "error",
          "ename": "WebDriverException",
          "evalue": "Message: unknown error: cannot find Chrome binary\nStacktrace:\n#0 0x58b6540494e3 <unknown>\n#1 0x58b653d78c76 <unknown>\n#2 0x58b653d9f757 <unknown>\n#3 0x58b653d9e029 <unknown>\n#4 0x58b653ddcccc <unknown>\n#5 0x58b653ddc47f <unknown>\n#6 0x58b653dd3de3 <unknown>\n#7 0x58b653da92dd <unknown>\n#8 0x58b653daa34e <unknown>\n#9 0x58b6540093e4 <unknown>\n#10 0x58b65400d3d7 <unknown>\n#11 0x58b654017b20 <unknown>\n#12 0x58b65400e023 <unknown>\n#13 0x58b653fdc1aa <unknown>\n#14 0x58b6540326b8 <unknown>\n#15 0x58b654032847 <unknown>\n#16 0x58b654042243 <unknown>\n#17 0x7faf56929ac3 <unknown>\n",
          "traceback": [
            "\u001b[0;31m---------------------------------------------------------------------------\u001b[0m",
            "\u001b[0;31mWebDriverException\u001b[0m                        Traceback (most recent call last)",
            "\u001b[0;32m<ipython-input-91-e90c9bde676a>\u001b[0m in \u001b[0;36m<cell line: 3>\u001b[0;34m()\u001b[0m\n\u001b[1;32m      1\u001b[0m \u001b[0;31m# Initializing WebDriver\u001b[0m\u001b[0;34m\u001b[0m\u001b[0;34m\u001b[0m\u001b[0m\n\u001b[1;32m      2\u001b[0m \u001b[0mservice\u001b[0m \u001b[0;34m=\u001b[0m \u001b[0mService\u001b[0m\u001b[0;34m(\u001b[0m\u001b[0mChromeDriverManager\u001b[0m\u001b[0;34m(\u001b[0m\u001b[0;34m)\u001b[0m\u001b[0;34m.\u001b[0m\u001b[0minstall\u001b[0m\u001b[0;34m(\u001b[0m\u001b[0;34m)\u001b[0m\u001b[0;34m)\u001b[0m\u001b[0;34m\u001b[0m\u001b[0;34m\u001b[0m\u001b[0m\n\u001b[0;32m----> 3\u001b[0;31m \u001b[0mdriver\u001b[0m \u001b[0;34m=\u001b[0m \u001b[0mwebdriver\u001b[0m\u001b[0;34m.\u001b[0m\u001b[0mChrome\u001b[0m\u001b[0;34m(\u001b[0m\u001b[0mservice\u001b[0m\u001b[0;34m=\u001b[0m\u001b[0mservice\u001b[0m\u001b[0;34m)\u001b[0m\u001b[0;34m\u001b[0m\u001b[0;34m\u001b[0m\u001b[0m\n\u001b[0m\u001b[1;32m      4\u001b[0m \u001b[0;34m\u001b[0m\u001b[0m\n\u001b[1;32m      5\u001b[0m \u001b[0;31m# Opening the URL\u001b[0m\u001b[0;34m\u001b[0m\u001b[0;34m\u001b[0m\u001b[0m\n",
            "\u001b[0;32m/usr/local/lib/python3.10/dist-packages/selenium/webdriver/chrome/webdriver.py\u001b[0m in \u001b[0;36m__init__\u001b[0;34m(self, options, service, keep_alive)\u001b[0m\n\u001b[1;32m     43\u001b[0m         \u001b[0moptions\u001b[0m \u001b[0;34m=\u001b[0m \u001b[0moptions\u001b[0m \u001b[0;32mif\u001b[0m \u001b[0moptions\u001b[0m \u001b[0;32melse\u001b[0m \u001b[0mOptions\u001b[0m\u001b[0;34m(\u001b[0m\u001b[0;34m)\u001b[0m\u001b[0;34m\u001b[0m\u001b[0;34m\u001b[0m\u001b[0m\n\u001b[1;32m     44\u001b[0m \u001b[0;34m\u001b[0m\u001b[0m\n\u001b[0;32m---> 45\u001b[0;31m         super().__init__(\n\u001b[0m\u001b[1;32m     46\u001b[0m             \u001b[0mbrowser_name\u001b[0m\u001b[0;34m=\u001b[0m\u001b[0mDesiredCapabilities\u001b[0m\u001b[0;34m.\u001b[0m\u001b[0mCHROME\u001b[0m\u001b[0;34m[\u001b[0m\u001b[0;34m\"browserName\"\u001b[0m\u001b[0;34m]\u001b[0m\u001b[0;34m,\u001b[0m\u001b[0;34m\u001b[0m\u001b[0;34m\u001b[0m\u001b[0m\n\u001b[1;32m     47\u001b[0m             \u001b[0mvendor_prefix\u001b[0m\u001b[0;34m=\u001b[0m\u001b[0;34m\"goog\"\u001b[0m\u001b[0;34m,\u001b[0m\u001b[0;34m\u001b[0m\u001b[0;34m\u001b[0m\u001b[0m\n",
            "\u001b[0;32m/usr/local/lib/python3.10/dist-packages/selenium/webdriver/chromium/webdriver.py\u001b[0m in \u001b[0;36m__init__\u001b[0;34m(self, browser_name, vendor_prefix, options, service, keep_alive)\u001b[0m\n\u001b[1;32m     64\u001b[0m \u001b[0;34m\u001b[0m\u001b[0m\n\u001b[1;32m     65\u001b[0m         \u001b[0;32mtry\u001b[0m\u001b[0;34m:\u001b[0m\u001b[0;34m\u001b[0m\u001b[0;34m\u001b[0m\u001b[0m\n\u001b[0;32m---> 66\u001b[0;31m             \u001b[0msuper\u001b[0m\u001b[0;34m(\u001b[0m\u001b[0;34m)\u001b[0m\u001b[0;34m.\u001b[0m\u001b[0m__init__\u001b[0m\u001b[0;34m(\u001b[0m\u001b[0mcommand_executor\u001b[0m\u001b[0;34m=\u001b[0m\u001b[0mexecutor\u001b[0m\u001b[0;34m,\u001b[0m \u001b[0moptions\u001b[0m\u001b[0;34m=\u001b[0m\u001b[0moptions\u001b[0m\u001b[0;34m)\u001b[0m\u001b[0;34m\u001b[0m\u001b[0;34m\u001b[0m\u001b[0m\n\u001b[0m\u001b[1;32m     67\u001b[0m         \u001b[0;32mexcept\u001b[0m \u001b[0mException\u001b[0m\u001b[0;34m:\u001b[0m\u001b[0;34m\u001b[0m\u001b[0;34m\u001b[0m\u001b[0m\n\u001b[1;32m     68\u001b[0m             \u001b[0mself\u001b[0m\u001b[0;34m.\u001b[0m\u001b[0mquit\u001b[0m\u001b[0;34m(\u001b[0m\u001b[0;34m)\u001b[0m\u001b[0;34m\u001b[0m\u001b[0;34m\u001b[0m\u001b[0m\n",
            "\u001b[0;32m/usr/local/lib/python3.10/dist-packages/selenium/webdriver/remote/webdriver.py\u001b[0m in \u001b[0;36m__init__\u001b[0;34m(self, command_executor, keep_alive, file_detector, options, locator_converter, web_element_cls, client_config)\u001b[0m\n\u001b[1;32m    239\u001b[0m         \u001b[0mself\u001b[0m\u001b[0;34m.\u001b[0m\u001b[0m_authenticator_id\u001b[0m \u001b[0;34m=\u001b[0m \u001b[0;32mNone\u001b[0m\u001b[0;34m\u001b[0m\u001b[0;34m\u001b[0m\u001b[0m\n\u001b[1;32m    240\u001b[0m         \u001b[0mself\u001b[0m\u001b[0;34m.\u001b[0m\u001b[0mstart_client\u001b[0m\u001b[0;34m(\u001b[0m\u001b[0;34m)\u001b[0m\u001b[0;34m\u001b[0m\u001b[0;34m\u001b[0m\u001b[0m\n\u001b[0;32m--> 241\u001b[0;31m         \u001b[0mself\u001b[0m\u001b[0;34m.\u001b[0m\u001b[0mstart_session\u001b[0m\u001b[0;34m(\u001b[0m\u001b[0mcapabilities\u001b[0m\u001b[0;34m)\u001b[0m\u001b[0;34m\u001b[0m\u001b[0;34m\u001b[0m\u001b[0m\n\u001b[0m\u001b[1;32m    242\u001b[0m         \u001b[0mself\u001b[0m\u001b[0;34m.\u001b[0m\u001b[0m_fedcm\u001b[0m \u001b[0;34m=\u001b[0m \u001b[0mFedCM\u001b[0m\u001b[0;34m(\u001b[0m\u001b[0mself\u001b[0m\u001b[0;34m)\u001b[0m\u001b[0;34m\u001b[0m\u001b[0;34m\u001b[0m\u001b[0m\n\u001b[1;32m    243\u001b[0m \u001b[0;34m\u001b[0m\u001b[0m\n",
            "\u001b[0;32m/usr/local/lib/python3.10/dist-packages/selenium/webdriver/remote/webdriver.py\u001b[0m in \u001b[0;36mstart_session\u001b[0;34m(self, capabilities)\u001b[0m\n\u001b[1;32m    327\u001b[0m \u001b[0;34m\u001b[0m\u001b[0m\n\u001b[1;32m    328\u001b[0m         \u001b[0mcaps\u001b[0m \u001b[0;34m=\u001b[0m \u001b[0m_create_caps\u001b[0m\u001b[0;34m(\u001b[0m\u001b[0mcapabilities\u001b[0m\u001b[0;34m)\u001b[0m\u001b[0;34m\u001b[0m\u001b[0;34m\u001b[0m\u001b[0m\n\u001b[0;32m--> 329\u001b[0;31m         \u001b[0mresponse\u001b[0m \u001b[0;34m=\u001b[0m \u001b[0mself\u001b[0m\u001b[0;34m.\u001b[0m\u001b[0mexecute\u001b[0m\u001b[0;34m(\u001b[0m\u001b[0mCommand\u001b[0m\u001b[0;34m.\u001b[0m\u001b[0mNEW_SESSION\u001b[0m\u001b[0;34m,\u001b[0m \u001b[0mcaps\u001b[0m\u001b[0;34m)\u001b[0m\u001b[0;34m[\u001b[0m\u001b[0;34m\"value\"\u001b[0m\u001b[0;34m]\u001b[0m\u001b[0;34m\u001b[0m\u001b[0;34m\u001b[0m\u001b[0m\n\u001b[0m\u001b[1;32m    330\u001b[0m         \u001b[0mself\u001b[0m\u001b[0;34m.\u001b[0m\u001b[0msession_id\u001b[0m \u001b[0;34m=\u001b[0m \u001b[0mresponse\u001b[0m\u001b[0;34m.\u001b[0m\u001b[0mget\u001b[0m\u001b[0;34m(\u001b[0m\u001b[0;34m\"sessionId\"\u001b[0m\u001b[0;34m)\u001b[0m\u001b[0;34m\u001b[0m\u001b[0;34m\u001b[0m\u001b[0m\n\u001b[1;32m    331\u001b[0m         \u001b[0mself\u001b[0m\u001b[0;34m.\u001b[0m\u001b[0mcaps\u001b[0m \u001b[0;34m=\u001b[0m \u001b[0mresponse\u001b[0m\u001b[0;34m.\u001b[0m\u001b[0mget\u001b[0m\u001b[0;34m(\u001b[0m\u001b[0;34m\"capabilities\"\u001b[0m\u001b[0;34m)\u001b[0m\u001b[0;34m\u001b[0m\u001b[0;34m\u001b[0m\u001b[0m\n",
            "\u001b[0;32m/usr/local/lib/python3.10/dist-packages/selenium/webdriver/remote/webdriver.py\u001b[0m in \u001b[0;36mexecute\u001b[0;34m(self, driver_command, params)\u001b[0m\n\u001b[1;32m    382\u001b[0m         \u001b[0mresponse\u001b[0m \u001b[0;34m=\u001b[0m \u001b[0mself\u001b[0m\u001b[0;34m.\u001b[0m\u001b[0mcommand_executor\u001b[0m\u001b[0;34m.\u001b[0m\u001b[0mexecute\u001b[0m\u001b[0;34m(\u001b[0m\u001b[0mdriver_command\u001b[0m\u001b[0;34m,\u001b[0m \u001b[0mparams\u001b[0m\u001b[0;34m)\u001b[0m\u001b[0;34m\u001b[0m\u001b[0;34m\u001b[0m\u001b[0m\n\u001b[1;32m    383\u001b[0m         \u001b[0;32mif\u001b[0m \u001b[0mresponse\u001b[0m\u001b[0;34m:\u001b[0m\u001b[0;34m\u001b[0m\u001b[0;34m\u001b[0m\u001b[0m\n\u001b[0;32m--> 384\u001b[0;31m             \u001b[0mself\u001b[0m\u001b[0;34m.\u001b[0m\u001b[0merror_handler\u001b[0m\u001b[0;34m.\u001b[0m\u001b[0mcheck_response\u001b[0m\u001b[0;34m(\u001b[0m\u001b[0mresponse\u001b[0m\u001b[0;34m)\u001b[0m\u001b[0;34m\u001b[0m\u001b[0;34m\u001b[0m\u001b[0m\n\u001b[0m\u001b[1;32m    385\u001b[0m             \u001b[0mresponse\u001b[0m\u001b[0;34m[\u001b[0m\u001b[0;34m\"value\"\u001b[0m\u001b[0;34m]\u001b[0m \u001b[0;34m=\u001b[0m \u001b[0mself\u001b[0m\u001b[0;34m.\u001b[0m\u001b[0m_unwrap_value\u001b[0m\u001b[0;34m(\u001b[0m\u001b[0mresponse\u001b[0m\u001b[0;34m.\u001b[0m\u001b[0mget\u001b[0m\u001b[0;34m(\u001b[0m\u001b[0;34m\"value\"\u001b[0m\u001b[0;34m,\u001b[0m \u001b[0;32mNone\u001b[0m\u001b[0;34m)\u001b[0m\u001b[0;34m)\u001b[0m\u001b[0;34m\u001b[0m\u001b[0;34m\u001b[0m\u001b[0m\n\u001b[1;32m    386\u001b[0m             \u001b[0;32mreturn\u001b[0m \u001b[0mresponse\u001b[0m\u001b[0;34m\u001b[0m\u001b[0;34m\u001b[0m\u001b[0m\n",
            "\u001b[0;32m/usr/local/lib/python3.10/dist-packages/selenium/webdriver/remote/errorhandler.py\u001b[0m in \u001b[0;36mcheck_response\u001b[0;34m(self, response)\u001b[0m\n\u001b[1;32m    230\u001b[0m                 \u001b[0malert_text\u001b[0m \u001b[0;34m=\u001b[0m \u001b[0mvalue\u001b[0m\u001b[0;34m[\u001b[0m\u001b[0;34m\"alert\"\u001b[0m\u001b[0;34m]\u001b[0m\u001b[0;34m.\u001b[0m\u001b[0mget\u001b[0m\u001b[0;34m(\u001b[0m\u001b[0;34m\"text\"\u001b[0m\u001b[0;34m)\u001b[0m\u001b[0;34m\u001b[0m\u001b[0;34m\u001b[0m\u001b[0m\n\u001b[1;32m    231\u001b[0m             \u001b[0;32mraise\u001b[0m \u001b[0mexception_class\u001b[0m\u001b[0;34m(\u001b[0m\u001b[0mmessage\u001b[0m\u001b[0;34m,\u001b[0m \u001b[0mscreen\u001b[0m\u001b[0;34m,\u001b[0m \u001b[0mstacktrace\u001b[0m\u001b[0;34m,\u001b[0m \u001b[0malert_text\u001b[0m\u001b[0;34m)\u001b[0m  \u001b[0;31m# type: ignore[call-arg]  # mypy is not smart enough here\u001b[0m\u001b[0;34m\u001b[0m\u001b[0;34m\u001b[0m\u001b[0m\n\u001b[0;32m--> 232\u001b[0;31m         \u001b[0;32mraise\u001b[0m \u001b[0mexception_class\u001b[0m\u001b[0;34m(\u001b[0m\u001b[0mmessage\u001b[0m\u001b[0;34m,\u001b[0m \u001b[0mscreen\u001b[0m\u001b[0;34m,\u001b[0m \u001b[0mstacktrace\u001b[0m\u001b[0;34m)\u001b[0m\u001b[0;34m\u001b[0m\u001b[0;34m\u001b[0m\u001b[0m\n\u001b[0m",
            "\u001b[0;31mWebDriverException\u001b[0m: Message: unknown error: cannot find Chrome binary\nStacktrace:\n#0 0x58b6540494e3 <unknown>\n#1 0x58b653d78c76 <unknown>\n#2 0x58b653d9f757 <unknown>\n#3 0x58b653d9e029 <unknown>\n#4 0x58b653ddcccc <unknown>\n#5 0x58b653ddc47f <unknown>\n#6 0x58b653dd3de3 <unknown>\n#7 0x58b653da92dd <unknown>\n#8 0x58b653daa34e <unknown>\n#9 0x58b6540093e4 <unknown>\n#10 0x58b65400d3d7 <unknown>\n#11 0x58b654017b20 <unknown>\n#12 0x58b65400e023 <unknown>\n#13 0x58b653fdc1aa <unknown>\n#14 0x58b6540326b8 <unknown>\n#15 0x58b654032847 <unknown>\n#16 0x58b654042243 <unknown>\n#17 0x7faf56929ac3 <unknown>\n"
          ]
        }
      ],
      "source": [
        "# Initializing WebDriver\n",
        "service = Service(ChromeDriverManager().install())\n",
        "driver = webdriver.Chrome(service=service)\n",
        "\n",
        "# Opening the URL\n",
        "driver.get(url)\n",
        "\n",
        "# waiting for the page to load completely\n",
        "time.sleep(5)\n",
        "\n",
        "# Extracting program titles and descriptions as inspected the html page and found it is to be treated separately\n",
        "programs = driver.find_elements(By.CSS_SELECTOR, 'div.card-detail h3')\n",
        "descriptions = driver.find_elements(By.CSS_SELECTOR, 'div.card-detail h4')\n",
        "\n",
        "# Initializing lists to store details\n",
        "durations = []\n",
        "work_experience = []\n",
        "locations = []\n",
        "\n",
        "# Extract program sections\n",
        "program_sections = driver.find_elements(By.CSS_SELECTOR, 'div.card-detail')\n",
        "\n",
        "for section in program_sections:\n",
        "    try:\n",
        "        # Extracting Duration and Work Experience which was found under same class but in different groups duration being first element\n",
        "        duration_elements = section.find_elements(By.XPATH, './/div[@class=\"col-md-6 col-xs-6 bor-botom\"]/strong')\n",
        "        if len(duration_elements) >= 2:\n",
        "            durations.append(duration_elements[0].text)\n",
        "            work_experience.append(duration_elements[1].text)  # Work Experience is the second element\n",
        "        else:\n",
        "            durations.append(\"N/A\")\n",
        "            work_experience.append(\"N/A\")\n",
        "\n",
        "        # Extract Locations\n",
        "        location_elements = section.find_elements(By.CSS_SELECTOR, 'div.col-md-12.col-xs-12 strong')\n",
        "        locations.append(\" | \".join([loc.text for loc in location_elements]))\n",
        "\n",
        "    except Exception as e:\n",
        "        print(f\"Error extracting details for the section: {e}\")\n",
        "\n",
        "# Preparing data for JSON\n",
        "data = []\n",
        "for program, description, duration, work_experience, location in zip(programs, descriptions, durations, work_experience, locations):\n",
        "    data.append({\n",
        "        \"Program Title\": program.text,\n",
        "        \"Description\": description.text,\n",
        "        \"Duration\": duration,\n",
        "        \"Work Experience\": work_experience,\n",
        "        \"Location\": location\n",
        "    })\n",
        "\n",
        "\n",
        "\n",
        "# Close the browser\n",
        "driver.quit()"
      ]
    },
    {
      "cell_type": "code",
      "source": [
        "!which google-chrome"
      ],
      "metadata": {
        "id": "br8qg22s7r7Z"
      },
      "id": "br8qg22s7r7Z",
      "execution_count": 89,
      "outputs": []
    },
    {
      "cell_type": "code",
      "source": [
        "from selenium import webdriver\n",
        "from selenium.webdriver.chrome.service import Service\n",
        "from webdriver_manager.chrome import ChromeDriverManager\n",
        "from selenium.webdriver.common.by import By\n",
        "from selenium.webdriver.chrome.options import Options # Import Options\n",
        "import time"
      ],
      "metadata": {
        "id": "6DrwQIU_7vBq"
      },
      "id": "6DrwQIU_7vBq",
      "execution_count": 90,
      "outputs": []
    },
    {
      "cell_type": "code",
      "execution_count": null,
      "id": "c87a95c5-324f-4ad5-a33b-c30f325004ef",
      "metadata": {
        "id": "c87a95c5-324f-4ad5-a33b-c30f325004ef"
      },
      "outputs": [],
      "source": [
        "# Converting to DataFrame\n",
        "isb_program_data_df = pd.DataFrame(data)\n",
        "\n",
        "# saving to CSV\n",
        "isb_program_data_df.to_csv('program_details.csv', index=False)"
      ]
    },
    {
      "cell_type": "code",
      "execution_count": null,
      "id": "9036ec54-4057-410f-a160-df0b557993c0",
      "metadata": {
        "id": "9036ec54-4057-410f-a160-df0b557993c0"
      },
      "outputs": [],
      "source": [
        "isb_program_data_df"
      ]
    },
    {
      "cell_type": "code",
      "execution_count": null,
      "id": "4662cb33-c22c-423a-a163-3058a670e65b",
      "metadata": {
        "id": "4662cb33-c22c-423a-a163-3058a670e65b"
      },
      "outputs": [],
      "source": [
        "# Renaming columns\n",
        "isb_program_data_df_updated= isb_program_data_df.rename(columns={\n",
        "    'Program Title': 'Title',\n",
        "    'Description': 'Brief Description'\n",
        "})"
      ]
    },
    {
      "cell_type": "code",
      "execution_count": null,
      "id": "343c4688-695c-46f0-86d1-a618335bff3c",
      "metadata": {
        "id": "343c4688-695c-46f0-86d1-a618335bff3c"
      },
      "outputs": [],
      "source": [
        "isb_program_data_df_updated=isb_program_data_df.drop(axis=1,columns='Location')"
      ]
    },
    {
      "cell_type": "code",
      "execution_count": null,
      "id": "f55866e4-167a-4a3d-9452-435c50f514fa",
      "metadata": {
        "scrolled": true,
        "id": "f55866e4-167a-4a3d-9452-435c50f514fa"
      },
      "outputs": [],
      "source": [
        "isb_program_data_df_updated"
      ]
    },
    {
      "cell_type": "markdown",
      "id": "5faec2b3-5062-4075-94b0-321ea0fcc321",
      "metadata": {
        "id": "5faec2b3-5062-4075-94b0-321ea0fcc321"
      },
      "source": [
        "## <span style=\"font-size: 20px; color: black;\"> 2. Create a data frame that has the following columns: Title, Description, Duration (in months),Capstone Project (Yes/No), Work Experience. Display the data frame in your notebook. (10pts)"
      ]
    },
    {
      "cell_type": "code",
      "execution_count": null,
      "id": "9b5c3462-8c70-4792-9b09-8364799af8d9",
      "metadata": {
        "id": "9b5c3462-8c70-4792-9b09-8364799af8d9"
      },
      "outputs": [],
      "source": [
        "isb_program_data_df"
      ]
    },
    {
      "cell_type": "code",
      "execution_count": null,
      "id": "e079f04a-a55e-4790-affd-c336daf027c8",
      "metadata": {
        "id": "e079f04a-a55e-4790-affd-c336daf027c8"
      },
      "outputs": [],
      "source": [
        "isb_program_data_df['Duration']"
      ]
    },
    {
      "cell_type": "code",
      "execution_count": null,
      "id": "02ae1679-23ca-4c9d-a5aa-38c6c121292f",
      "metadata": {
        "id": "02ae1679-23ca-4c9d-a5aa-38c6c121292f"
      },
      "outputs": [],
      "source": [
        "# Defining the regex pattern to extract all occurrences of months\n",
        "pattern = r'(\\d+) months'\n",
        "# Extract the number of months\n",
        "isb_program_data_df['Number_of_Months'] = isb_program_data_df['Duration'].str.findall(pattern).apply(lambda x: sum(map(float, x)))\n"
      ]
    },
    {
      "cell_type": "code",
      "execution_count": null,
      "id": "26537e33-e04a-4c26-91f5-b5b625395e00",
      "metadata": {
        "id": "26537e33-e04a-4c26-91f5-b5b625395e00"
      },
      "outputs": [],
      "source": [
        "isb_program_data_df"
      ]
    },
    {
      "cell_type": "code",
      "execution_count": null,
      "id": "444f57eb-a57f-40d0-ad93-24f7cf00e899",
      "metadata": {
        "id": "444f57eb-a57f-40d0-ad93-24f7cf00e899"
      },
      "outputs": [],
      "source": [
        "# Defining the regex pattern to search for the word 'Capstone'\n",
        "pattern = r'Capstone'\n",
        "import re\n",
        "# Extracting the Capstone and applying the lambda function\n",
        "isb_program_data_df['Capstone Project'] = isb_program_data_df['Duration'].apply(lambda x: \"Yes\" if re.search(pattern, x) else \"No\")"
      ]
    },
    {
      "cell_type": "code",
      "execution_count": null,
      "id": "2e96f5d7-ded2-46cc-ab3b-8e1f5cecacd5",
      "metadata": {
        "id": "2e96f5d7-ded2-46cc-ab3b-8e1f5cecacd5"
      },
      "outputs": [],
      "source": [
        "isb_program_data_df"
      ]
    },
    {
      "cell_type": "markdown",
      "id": "314336e6-ccfb-43d3-8890-b522f013a6f2",
      "metadata": {
        "jp-MarkdownHeadingCollapsed": true,
        "id": "314336e6-ccfb-43d3-8890-b522f013a6f2"
      },
      "source": [
        "# <span style=\"font-size: 30px; color: brown;\"> Question 3 (20 pts)</span>"
      ]
    },
    {
      "cell_type": "markdown",
      "id": "a3132b63-17f7-41b7-b1a3-308ba0f38e62",
      "metadata": {
        "id": "a3132b63-17f7-41b7-b1a3-308ba0f38e62"
      },
      "source": [
        "## <span style=\"font-size: 20px; color: black;\"> 1. Select a recent news/magazine article related to business analytics that interests you and make a word cloud using the template provided in the session 4 jupyter notebook. Provide the full text of thearticle in the notebook so that we can evaluate your work"
      ]
    },
    {
      "cell_type": "markdown",
      "id": "820fb9d2-39c7-43c4-849a-2cfd88c87fa9",
      "metadata": {
        "id": "820fb9d2-39c7-43c4-849a-2cfd88c87fa9"
      },
      "source": [
        "### <span style=\"font-size: 20px; color: blue;\"> article link : https://www.bcg.com/publications/2023/how-people-create-and-destroy-value-with-gen-ai </span>"
      ]
    },
    {
      "cell_type": "markdown",
      "id": "699d6b49-475e-4d83-b2fc-7d0a50b7e7b1",
      "metadata": {
        "id": "699d6b49-475e-4d83-b2fc-7d0a50b7e7b1"
      },
      "source": [
        "### <span style=\"font-size: 20px; color: brown;\">\n",
        "Generative AI will be a powerful enabler of competitive advantage for companies that crack the code of adoption. In a first-of-its-kind scientific experiment, we found that when GenAI is used in the right way, and for the right tasks, its capabilities are such that people’s efforts to improve the quality of its output can backfire. But it isn’t obvious when the new technology is (or is not) a good fit, and the persuasive abilities of the tool make it hard to spot a mismatch. This can have serious consequences: When it is used in the wrong way, for the wrong tasks, generative AI can cause significant value destruction.\n",
        "\n",
        "We conducted our experiment with the support of a group of scholars from Harvard Business School, MIT Sloan School of Management, the Wharton School at the University of Pennsylvania, and the University of Warwick.1 With more than 750 BCG consultants worldwide as subjects, it is the first study to test the use of generative AI in a professional-services setting—through tasks that reflect what employees do every day. The findings have critical implications across industries.\n",
        "\n",
        "The opportunity to boost performance is astonishing: When using generative AI (in our experiment, OpenAI’s GPT-4) for creative product innovation, a task involving ideation and content creation, around 90% of our participants improved their performance. What’s more, they converged on a level of performance that was 40% higher than that of those working on the same task without GPT-4. People best captured this upside when they did not attempt to improve the output that the technology generated.\n",
        "\n",
        "Creative ideation sits firmly within GenAI’s current frontier of competence. When our participants used the technology for business problem solving, a capability outside this frontier, they performed 23% worse than those doing the task without GPT-4. And even participants who were warned about the possibility of wrong answers from the tool did not challenge its output.\n",
        "\n",
        "When using GPT-4 for a task within the tool’s current frontier of competence, nearly all participants improved their performance. Those who used GPT-4 for a task outside this frontier performed worse than those who didn’t use the tool.\n",
        "Our findings describe a paradox: People seem to mistrust the technology in areas where it can contribute massive value and to trust it too much in areas where the technology isn’t competent. This is concerning on its own. But we also found that even if organizations change these behaviors, leaders must watch for other potential pitfalls: Our study shows that the technology’s relatively uniform output can reduce a group’s diversity of thought by 41%.\n",
        "\n",
        "The precise magnitude of the effects we uncovered will be different in other settings. But our findings point to a crucial decision-making moment for leaders across industries. They need to think critically about the work their organization does and which tasks can benefit from or be damaged by generative AI. They need to approach its adoption as a change management effort spanning data infrastructure, rigorous testing and experimentation, and an overhaul of existing talent strategies. Perhaps most important, leaders need to continually revisit their decisions as the frontier of GenAI’s competence advances.\n",
        "\n",
        "The Value at Stake\n",
        "Our findings make clear that generative AI adoption is a double-edged sword. In our experiment, participants using GPT-4 for creative product innovation outperformed the control group (those who completed the task without using GPT-4) by 40%. But for business problem solving, using GPT-4 resulted in performance that was 23% lower than that of the control group. (See Exhibit 1.)\n",
        "\n",
        "\n",
        "Learn More About GenAILearn More About GenAI\n",
        "BCG-GenAI-website_homepage.jpg\n",
        "Generative AI\n",
        "Generative artificial intelligence is a form of AI that uses deep learning and GANs for content creation. Learn how it can disrupt or benefit businesses.\n",
        "AI Hero Video\n",
        "Artificial Intelligence\n",
        "Scaling artificial intelligence can create a massive competitive advantage. Learn how our AI-driven initiatives have helped clients extract value.\n",
        "\" \"\n",
        "Article\n",
        "Generative AI for the Public Sector: From Opportunities to Value\n",
        "Generative AI will have significant positive impacts on the public sector. National, state, provincial, and local governments must begin taking actions to unlock these opportunities.\n",
        "The creative product innovation task asked participants to come up with ideas for new products and go-to-market plans. The business problem-solving task asked participants to identify the root cause of a company’s challenges based on performance data and interviews with executives. (See “Our Experiment Design and Methodology.”) Perhaps somewhat counterintuitively, current GenAI models tend to do better on the first type of task; it is easier for LLMs to come up with creative, novel, or useful ideas based on the vast amounts of data on which they have been trained. Where there’s more room for error is when LLMs are asked to weigh nuanced qualitative and quantitative data to answer a complex question. Given this shortcoming, we as researchers knew that GPT-4 was likely to mislead participants if they relied completely on the tool, and not also on their own judgment, to arrive at the solution to the business problem-solving task (this task had a “right” answer).\n",
        "\n",
        "Our Experiment Design and Methodology\n",
        "We also knew that participants were capable of finding the answer to the business problem-solving task on their own: 85% of participants in the control group did so. Yet many participants who used GPT-4 for this task accepted the tool’s erroneous output at face value. It’s likely that GPT-4’s ability to generate persuasive content contributed to this result. In our informal conversations with participants, many confirmed that they found the rationale GPT-4 offered for its output very convincing (even though as an LLM, it came up with the rationale after the recommendation, rather than creating the recommendation on the basis of the rationale).\n",
        "\n",
        "The double-edged-sword effect holds across all levels of baseline proficiency. (At the start of the experiment, participants completed a baseline task without using GPT-4 that we then graded and ranked; see the sidebar on our design and methodology). This has an important caveat: The lower the individual’s baseline proficiency, the more significant the effect tended to be; for the creative product innovation task, these individuals boosted performance by 43%. Still, the effect was material even for the top-ranked baseline performers, among whom the upside and downside of using GPT-4 on the two tasks were 17% and -17%, respectively. (See Exhibit 2.) (Throughout, our discussion of participants’ performance is not indicative of their absolute levels of competence and talents with respect to these or other tasks.)\n",
        "\n",
        "\n",
        "\n",
        "The strong connection between performance and the context in which generative AI is used raises an important question about training: Can the risk of value destruction be mitigated by helping people understand how well-suited the technology is for a given task? It would be rational to assume that if participants knew the limitations of GPT-4, they would know not to use it, or would use it differently, in those situations.\n",
        "\n",
        "Our findings suggest that it may not be that simple. The negative effects of GPT-4 on the business problem-solving task did not disappear when subjects were given an overview of how to prompt GPT-4 and of the technology’s limitations. (See “Our Use of Training in the Experiment.”)\n",
        "\n",
        "Our Use of Training in the Experiment\n",
        "Even more puzzling, they did considerably worse on average than those who were not offered this simple training before using GPT-4 for the same task. (See Exhibit 3.) This result does not imply that all training is ineffective. But it has led us to consider whether this effect was the result of participants’ overconfidence in their own abilities to use GPT-4—precisely because they’d been trained.\n",
        "\n",
        "\n",
        "New Opportunities for Human Talent\n",
        "Effects at the group level, like the ones discussed above, aren’t necessarily indicative of how generative AI impacts individuals. When we look behind the averages, we find that the use of GPT-4 has two distinct effects on individual performance distribution. (See Exhibit 4.) First, the entire distribution shifts to the right, toward higher levels of performance. This underscores the fact that the 40% performance boost discussed above is not a function of “positive” outliers. Nearly all participants (around 90%), irrespective of their baseline proficiency, produced higher-quality results when using GPT-4 for the creative product innovation task. Second, the variance in performance is dramatically reduced: A much higher share of our participants performed at or very close to the average level.\n",
        "\n",
        "\n",
        "In other words, participants with lower baseline proficiency, when given access to generative AI, ended up nearly matching those with higher baseline proficiency. Being more proficient without the aid of technology doesn’t give one much of an edge when everyone can use GPT-4 to perform a creative product innovation task. (See Exhibit 5.) The fact that we observed this effect among our well-educated, high-achieving sample suggests that it may turn out to be even more pronounced in contexts that are more heterogenous, with a wider spread in proficiency.\n",
        "\n",
        "\n",
        "Digging deeper, we find that because GPT-4 reaches such a high level of performance on the creative product innovation task, it seems that the average person is not able to improve the technology’s output. In fact, human efforts to enhance GPT-4 outputs decrease quality. (See the sidebar on our design and methodology for a description of how we measured quality.) We found that “copy-pasting” GPT-4 output strongly correlated with performance: The more a participant’s final submission in the creative product innovation task departed from GPT-4’s draft, the more likely it was to lag in quality. (See Exhibit 6.) For every 10% increase in divergence from GPT-4’s draft, participants on average dropped in the quality ranking by around 17 percentile points.\n",
        "\n",
        "\n",
        "It appears that the primary locus of human-driven value creation lies not in enhancing generative AI where it is already great, but in focusing on tasks beyond the frontier of the technology’s core competencies.\n",
        "\n",
        "Interestingly, we found that most of our participants seemed to grasp this point intuitively. In general, they did not feel threatened by generative AI; rather, they were excited by this change in their roles and embraced the idea of taking on tasks that only humans can do. As one participant observed, “I think there is a lot of value add in what we can do as humans. You need a human to adapt an answer to a business’s context; that process cannot be replaced by AI.” Another noted, “I think it’s an opportunity to do things more efficiently, to stop wasting time on things that are very repetitive and actually focus on what’s important, which is more strategic.”\n",
        "\n",
        "However, it is worth keeping in mind the population of this study: highly skilled young knowledge workers who are more likely to be able to make this transition easily. Other professionals may feel greater fear or experience more difficulty adapting their role to the new technology.\n",
        "\n",
        "The Creativity Trap\n",
        "Even if you use GenAI in the right way, and for the right tasks, our research suggests that there are risks to creativity.\n",
        "\n",
        "\n",
        "The first risk is a tradeoff between individual performance gains and collective creativity loss. Because GPT-4 provides responses with very similar meaning time and again to the same sorts of prompts, the output provided by participants who used the technology was individually better but collectively repetitive. The diversity of ideas among participants who used GPT-4 for the creative product innovation task was 41% lower compared with the group that did not use the technology. (See Exhibit 7.) People didn’t appreciably add to the diversity of ideas even when they edited GPT-4’s output.\n",
        "\n",
        "\n",
        "The second risk is drawn from a sample of our interviews with participants. Roughly 70% believe that extensive use of GPT-4 may stifle their creative abilities over time. (See Exhibit 8.) As one participant explained, “Like any technology, people can rely on it too much. GPS helped navigation immensely when it was first released, but today people can’t even drive without a GPS. As people rely on a technology too much, they lose abilities they once had.” Another participant noted, “This [phenomenon] is definitely a concern for me. If I become too reliant on GPT, it will weaken my creativity muscles. This already happened to me during the experiment.” Businesses will need to be mindful of their employees’ perceptions of and attitudes about generative AI, and how those might affect their ability to drive innovation and add value.\n",
        "\n",
        "We don’t yet have data to confirm our participants’ perceptions; this is a topic for further study. But if employees’ concerns bear out, it could compound the group-level risk. Specifically, the loss of collective diversity of ideas may be exacerbated if employees experience some atrophy of individual creativity.\n",
        "\n",
        "The Generative AI Change Imperative\n",
        "Inspired by the findings from our research, we envision a series of questions, challenges, and options that can help business leaders make generative AI adoption a source of differentiation—and, as such, an enabler of sustained competitive advantage.\n",
        "\n",
        "Data Strategy. Any company that incorporates GenAI can realize significant efficiency gains in areas where the technology is competent. But if multiple firms apply the technology across similar sets of tasks, it can produce a leveling effect among organizations analogous to the pattern observed among participants in our experiment. As a result, one of the keys to differentiation will be the ability to fine-tune generative AI models with large volumes of high-quality, firm-specific data.\n",
        "\n",
        "This is easier said than done. In our experience, not all companies have the advanced data infrastructure capabilities needed to process their proprietary data. Developing these capabilities has been a key focus of AI transformations, but with the arrival of generative AI, it becomes all the more important: As we have argued elsewhere, the power of GenAI often lies in the identification of unexpected—even counterintuitive—patterns and correlations. To reap these benefits, companies need a comprehensive data pipeline, combined with a renewed focus on developing internal data engineering capabilities.\n",
        "\n",
        "Roles and Workflows. For tasks that generative AI systems have mastered—which, of course, is an ever-expanding list—people need to radically revise their mindset and their approach to work. Instead of the default assumption that technology creates a helpful first draft that requires revision, people should regard the output as a plausible final draft that they should check against firm-established guardrails but otherwise largely leave as is.\n",
        "\n",
        "The value at stake lies not only in the promise of greater efficiency but also in the possibility for people to redirect time, energy, and effort away from tasks that generative AI will take over. Employees will be able to double down on the tasks that remain beyond the frontier of this technology, reaching higher levels of proficiency.\n",
        "\n",
        "The value at stake lies not only in the promise of greater efficiency but also in the possibility for people to redirect time, energy, and effort away from tasks that generative AI will take over.\n",
        "Turning the lens on ourselves, we can already envision our employees spending less time manually summarizing research or polishing slides and instead investing even more effort in driving complex change management initiatives. The impact of generative AI’s disruption will of course vary dramatically across job categories. But at least some workers—including the majority of our participants—are confronting this prospect with optimism.\n",
        "\n",
        "Strategic Workforce Planning. To get the AI–human dynamics right in complex organizations, leaders must grapple with four questions that have no easy answers:\n",
        "\n",
        "Which capabilities will you need? As with any other technology, it will take people to define what and how generative AI will be used. But it isn’t obvious which human capabilities are best suited to maximizing the tool’s value or how often these capabilities will change. We’re seeing this uncertainty play out in real time with respect to LLMs: The role of “prompt engineer” didn’t exist a year ago, but demand for this role during Q2 2023 was nearly seven times higher than it was in Q1.2 (GPT-4 was launched toward the end of Q1, on March 14, 2023.) And yet, prompt engineers may no longer be needed once generative AI itself has mastered the task of breaking down complex problems into optimal prompts (as it appears it soon will with autonomous agents). Even the selection of optimal LLMs for specific business applications, which is largely done by humans at present, may in the future be outsourced to AI systems themselves.\n",
        "What is your hiring strategy? Because generative AI is a great leveler of proficiency on certain tasks, raw talent may not be a good predictor of high performance in a world of widespread GenAI use. For example, some people may have lower baseline proficiency for a type of task while being quite capable of partnering with generative AI to outperform peers. Finding these individuals will be an important goal for future talent strategies, but the underlying traits are not yet clearly identified.\n",
        "How will you train people effectively? As our findings indicate, straightforward training won’t be sufficient. Effective training will likely need to explicitly address any cognitive biases that may lead people to over-rely on generative AI in situations where the technology has not yet reached the right level of competence.\n",
        "\n",
        "We also see a potentially deeper issue: Even as certain tasks are fully handed over to GenAI, some degree of human oversight will be necessary. How can employees effectively manage the technology for tasks that they themselves have not learned how to do on their own?\n",
        "\n",
        "How will you cultivate diversity of thought? Our results suggest that GenAI detracts from collective creativity by limiting the range of perspectives that individuals bring to the table. This loss in diversity of thought may have ripple effects beyond what we can currently envision. One plausible risk is that it could shrink the long-term innovation capacity of organizations—for example, by making ideation more homogenous. It’s a slippery slope, as a decline in innovation capabilities means less differentiation from competitors, which could impede growth potential. The good news is that the ideas that humans generate on their own and the ideas that they generate when assisted by generative AI are vastly different. Setting aside the degree of diversity in each group, when we compared the output of the control and experimental groups, the overlap (semantic similarity) was less than 10%. The key for leaders will be to use both approaches to ideation—which ultimately will create an even wider circle of ideas.\n",
        "Experimentation and Testing. Generative AI systems continue to develop at a stunning rate: In just the few months between the releases of OpenAI’s GPT-3.5 and GPT-4, the model made huge performance leaps across a wide range of tasks. Tasks for which generative AI is ill-suited today will likely fall within its frontier of competence soon—perhaps in the very near future. This is likely to happen as LLMs become multi-modal (going beyond text to include other formats of data), or as models grow larger, both of which increase the likelihood of unpredictable capabilities.\n",
        "\n",
        "Given this lack of predictability, the only way to understand how generative AI will impact your business is to develop experimentation capabilities—to establish a “generative AI lab” of sorts that will enable you to keep pace with an expanding frontier. And as the technology changes, the collaboration model between humans and generative AI will have to change as well. Experimentation may yield some counterintuitive or even uncomfortable findings about your business, but it will also enable you to gain invaluable insights about how the technology can and should be used. We put our feet to the fire with this experiment—and we believe all business leaders should do the same.\n",
        "\n",
        "Generative AI will likely change much of what we do and how we do it, and it will do so in ways that no one can anticipate. Success in the age of AI will largely depend on an organization’s ability to learn and change faster than it ever has before.\n",
        "\n",
        "In addition to the collaborators from the academic team listed above, the authors would like to thank Clément Dumas, Gaurav Jha, Leonid Zhukov, Max Männig, and Maxime Courtaux for their helpful comments and suggestions. The authors would also like to thank Lebo Nthoiwa, Patrick Healy, Saud Almutairi, and Steven Randazzo for their efforts interviewing the experiment participants. The authors also thank all their BCG colleagues who volunteered to participate in this experiment </span>"
      ]
    },
    {
      "cell_type": "code",
      "execution_count": null,
      "id": "cf1b9f34-0788-4af5-97f9-dd57b64c636e",
      "metadata": {
        "id": "cf1b9f34-0788-4af5-97f9-dd57b64c636e"
      },
      "outputs": [],
      "source": [
        "#importing necessary libraries\n",
        "import nltk\n",
        "from nltk.corpus import stopwords\n",
        "from wordcloud import WordCloud\n",
        "import matplotlib.pyplot as plt"
      ]
    },
    {
      "cell_type": "code",
      "execution_count": null,
      "id": "33740dfa-64c4-4ae1-b532-8ae9ddd06fae",
      "metadata": {
        "id": "33740dfa-64c4-4ae1-b532-8ae9ddd06fae"
      },
      "outputs": [],
      "source": [
        "# Importing txt file\n",
        "with open(\"genaibcg.txt\", 'r', encoding='utf-8') as file:\n",
        "    genaibcg = file.read()"
      ]
    },
    {
      "cell_type": "code",
      "execution_count": null,
      "id": "9a649100-801e-4075-a919-566584fb3815",
      "metadata": {
        "id": "9a649100-801e-4075-a919-566584fb3815"
      },
      "outputs": [],
      "source": [
        "genaibcg"
      ]
    },
    {
      "cell_type": "code",
      "execution_count": null,
      "id": "3e6d97b8-aef0-4c4c-af3d-64152dd7c3c6",
      "metadata": {
        "id": "3e6d97b8-aef0-4c4c-af3d-64152dd7c3c6"
      },
      "outputs": [],
      "source": [
        "# Tokenizing the text\n",
        "tokens = nltk.word_tokenize(genaibcg)\n",
        "\n",
        "# Keeping only the tokens that are alphabetic and convert all to lower case\n",
        "tokens = [word.lower() for word in tokens if word.isalpha()]  # Keep only alphabetic tokens\n",
        "\n",
        "# Removing stop words\n",
        "tokens = [word for word in tokens if word not in stopwords.words('english')]\n"
      ]
    },
    {
      "cell_type": "code",
      "execution_count": null,
      "id": "dedb5309-9879-409d-8192-f76f9ad29796",
      "metadata": {
        "id": "dedb5309-9879-409d-8192-f76f9ad29796"
      },
      "outputs": [],
      "source": [
        "# Joining tokens to recreate the text as a single string\n",
        "cleaned_text = ' '.join(tokens)\n",
        "\n",
        "# Creating a word cloud\n",
        "wordcloud = WordCloud(width=800, height=400, background_color ='pink').generate(cleaned_text)\n",
        "\n",
        "# Display the word cloud using matplotlib\n",
        "plt.figure(figsize=(10, 5))\n",
        "plt.imshow(wordcloud, interpolation='bilinear')\n",
        "plt.axis('off')  # Hide the axes\n",
        "plt.show()\n"
      ]
    },
    {
      "cell_type": "markdown",
      "id": "1dbbd408-8fd4-42d2-9b61-531467baad9a",
      "metadata": {
        "id": "1dbbd408-8fd4-42d2-9b61-531467baad9a"
      },
      "source": [
        "## <span style=\"font-size: 20px; color: black;\"> 2. Do the prominent words in the word cloud correspond to the gist of the article? What do you observe?(10 pts)"
      ]
    },
    {
      "cell_type": "markdown",
      "id": "eb242fbf-4b92-4d58-b8b1-87acac571891",
      "metadata": {
        "id": "eb242fbf-4b92-4d58-b8b1-87acac571891"
      },
      "source": [
        "The article explores the impact of generative AI (GenAI), specifically OpenAI's GPT-4, on performance in different tasks.Generative AI can provide a significant competitive advantage when used correctly. A study involving over 750 consultants found that GPT-4 boosted performance by 40% in creative tasks but decreased performance by 23% in business problem-solving. The technology excels in generating creative ideas but struggles with complex problem-solving"
      ]
    },
    {
      "cell_type": "markdown",
      "id": "6a4c5e89-e878-4409-8a55-c720c445b6f8",
      "metadata": {
        "id": "6a4c5e89-e878-4409-8a55-c720c445b6f8"
      },
      "source": [
        "so by looking at the word cloud, it is seen that it is highlighting the words like Generative AI, Task, Performance , Techonolgy, Business,People,Change etc"
      ]
    },
    {
      "cell_type": "markdown",
      "id": "6c6e6187-0198-4751-8a8b-4fab3f64c83f",
      "metadata": {
        "jp-MarkdownHeadingCollapsed": true,
        "id": "6c6e6187-0198-4751-8a8b-4fab3f64c83f"
      },
      "source": [
        "# <span style=\"font-size: 30px; color: brown;\"> Question 4 (35 pts)</span>"
      ]
    },
    {
      "cell_type": "markdown",
      "id": "1bcdc112-ff44-4ec1-a396-3a47dff71545",
      "metadata": {
        "id": "1bcdc112-ff44-4ec1-a396-3a47dff71545"
      },
      "source": [
        "Import the ISB_video_data.parquet file. This file contains information scraped from the videos on the\n",
        "ISB youtube channel. Use the data to answer the following questions:"
      ]
    },
    {
      "cell_type": "markdown",
      "id": "fc13f5ef-fba4-4bfc-9d34-952be59952a7",
      "metadata": {
        "id": "fc13f5ef-fba4-4bfc-9d34-952be59952a7"
      },
      "source": [
        "## <span style=\"font-size: 20px; color: black;\"> 1. Parse the data and create the following columns: (i) Title (ii) Views (iii) Years since posted (15 pts)"
      ]
    },
    {
      "cell_type": "code",
      "execution_count": null,
      "id": "3448b608-7d28-49fc-a5ef-dd96fadd3dba",
      "metadata": {
        "id": "3448b608-7d28-49fc-a5ef-dd96fadd3dba"
      },
      "outputs": [],
      "source": [
        "import nltk\n",
        "import numpy as np\n",
        "import pandas as pd\n",
        "import json"
      ]
    },
    {
      "cell_type": "code",
      "execution_count": null,
      "id": "cfd9c6b5-ee2d-4216-aa9d-da1d3ccd100b",
      "metadata": {
        "id": "cfd9c6b5-ee2d-4216-aa9d-da1d3ccd100b"
      },
      "outputs": [],
      "source": [
        "# Loading the quotes file\n",
        "isb_video = pd.read_parquet('ISB_video_data.parquet')"
      ]
    },
    {
      "cell_type": "code",
      "execution_count": null,
      "id": "b0cadc60-8f05-46a6-bbff-15069cac7aaf",
      "metadata": {
        "id": "b0cadc60-8f05-46a6-bbff-15069cac7aaf"
      },
      "outputs": [],
      "source": [
        "isb_video.head()"
      ]
    },
    {
      "cell_type": "code",
      "execution_count": null,
      "id": "eba54ac3-c719-4523-b5c9-d85c48002ad7",
      "metadata": {
        "id": "eba54ac3-c719-4523-b5c9-d85c48002ad7"
      },
      "outputs": [],
      "source": [
        "isb_video.info()"
      ]
    },
    {
      "cell_type": "code",
      "execution_count": null,
      "id": "df663b87-c2f0-4d78-a957-b025ff86384b",
      "metadata": {
        "id": "df663b87-c2f0-4d78-a957-b025ff86384b"
      },
      "outputs": [],
      "source": [
        "isb_video.columns"
      ]
    },
    {
      "cell_type": "code",
      "execution_count": null,
      "id": "6c245753-be95-478f-9728-e2ed8cd77514",
      "metadata": {
        "id": "6c245753-be95-478f-9728-e2ed8cd77514"
      },
      "outputs": [],
      "source": [
        "isb_video.columns = ['data']"
      ]
    },
    {
      "cell_type": "code",
      "execution_count": null,
      "id": "3bf20f69-45cc-4533-bc0e-d5d9e9032a25",
      "metadata": {
        "id": "3bf20f69-45cc-4533-bc0e-d5d9e9032a25"
      },
      "outputs": [],
      "source": [
        "isb_video.info()"
      ]
    },
    {
      "cell_type": "code",
      "execution_count": null,
      "id": "bb4d74b4-23a6-4cb9-bfb4-6876fd8d5f05",
      "metadata": {
        "id": "bb4d74b4-23a6-4cb9-bfb4-6876fd8d5f05"
      },
      "outputs": [],
      "source": [
        "#checking mutiple entries to understand the pattern\n",
        "isb_video['data'][0]"
      ]
    },
    {
      "cell_type": "code",
      "execution_count": null,
      "id": "082c0689-458b-47e5-bacf-667bc11a51da",
      "metadata": {
        "id": "082c0689-458b-47e5-bacf-667bc11a51da"
      },
      "outputs": [],
      "source": [
        "import pandas as pd\n",
        "import re\n",
        "from datetime import datetime"
      ]
    },
    {
      "cell_type": "code",
      "execution_count": null,
      "id": "646c38f3-e8fd-427b-a553-faabf1fd0c0c",
      "metadata": {
        "id": "646c38f3-e8fd-427b-a553-faabf1fd0c0c"
      },
      "outputs": [],
      "source": [
        "# Defining the extraction function\n",
        "def extract_details(entry):\n",
        "    # Patterns to extract title/description and other details\n",
        "    title_description_pattern = re.compile(r\"^(.*?)(?=\\s\\d[\\d,]*\\sviews)\")\n",
        "    views_pattern = re.compile(r\"(\\d[\\d,]*)\\s*views\")\n",
        "\n",
        "    # Patterns for different time units\n",
        "    years_pattern = re.compile(r\"(\\d+)\\s*(?:year|years?)\\s*ago\")\n",
        "    days_pattern = re.compile(r\"(\\d+)\\s*(?:day|days?)\\s*ago\")\n",
        "    minutes_pattern = re.compile(r\"(\\d+)\\s*(?:minute|minutes?)\")\n",
        "    seconds_pattern = re.compile(r\"(\\d+)\\s*(?:second|seconds?)\")\n",
        "\n",
        "    # Apply patterns\n",
        "    title_description_match = title_description_pattern.search(entry)\n",
        "    views_match = views_pattern.search(entry)\n",
        "    years_match = years_pattern.search(entry)\n",
        "    days_match = days_pattern.search(entry)\n",
        "    minutes_match = minutes_pattern.search(entry)\n",
        "    seconds_match = seconds_pattern.search(entry)\n",
        "\n",
        "    # Extract title/description\n",
        "    if title_description_match:\n",
        "        title_description = title_description_match.group(1).strip()\n",
        "        # Check for colon to split title and description\n",
        "        if ':' in title_description:\n",
        "            title, description = title_description.split(':', 1)\n",
        "            title = title.strip()\n",
        "            description = description.strip()\n",
        "        else:\n",
        "            title = title_description\n",
        "            description = None\n",
        "    else:\n",
        "        title = None\n",
        "        description = None\n",
        "\n",
        "    # Extract views\n",
        "    views = views_match.group(1).replace(',', '') if views_match else None\n",
        "\n",
        "    # Extract years, days, minutes, seconds\n",
        "    years = years_match.group(1) if years_match else None\n",
        "    days = days_match.group(1) if days_match else None\n",
        "    minutes = minutes_match.group(1) if minutes_match else None\n",
        "    seconds = seconds_match.group(1) if seconds_match else None\n",
        "\n",
        "    return pd.Series([title, description, views, years, days, minutes, seconds],\n",
        "                     index=['Title', 'Description', 'Views', 'Years Ago', 'Days Ago', 'Minutes', 'Seconds'])\n",
        "\n",
        "\n",
        "# Apply the extraction function\n",
        "isb_video[['Title', 'Description', 'Views', 'Years Ago', 'Days Ago', 'Minutes', 'Seconds']] = isb_video['data'].apply(extract_details)\n",
        "\n",
        "\n"
      ]
    },
    {
      "cell_type": "code",
      "execution_count": null,
      "id": "2cdeb5a5-9af0-4578-8276-77e80a393082",
      "metadata": {
        "id": "2cdeb5a5-9af0-4578-8276-77e80a393082"
      },
      "outputs": [],
      "source": [
        "isb_video.head(3)"
      ]
    },
    {
      "cell_type": "code",
      "execution_count": null,
      "id": "f6ac44f1-3809-4934-b502-0f9e8a87c40c",
      "metadata": {
        "id": "f6ac44f1-3809-4934-b502-0f9e8a87c40c"
      },
      "outputs": [],
      "source": [
        "isb_video.tail()"
      ]
    },
    {
      "cell_type": "code",
      "execution_count": null,
      "id": "c9bd1b21-770c-44f9-8622-0bcce1194f43",
      "metadata": {
        "id": "c9bd1b21-770c-44f9-8622-0bcce1194f43"
      },
      "outputs": [],
      "source": [
        "isb_video.info()"
      ]
    },
    {
      "cell_type": "code",
      "execution_count": null,
      "id": "c72dcee6-477a-46a0-9c7a-7f49a5524e5d",
      "metadata": {
        "id": "c72dcee6-477a-46a0-9c7a-7f49a5524e5d"
      },
      "outputs": [],
      "source": [
        "isb_video_cleaned = isb_video[['Title', 'Views', 'Years Ago']]\n"
      ]
    },
    {
      "cell_type": "code",
      "execution_count": null,
      "id": "66450c7e-a863-4a19-ac9b-f31ef52e0b8d",
      "metadata": {
        "id": "66450c7e-a863-4a19-ac9b-f31ef52e0b8d"
      },
      "outputs": [],
      "source": [
        "# Renaming columns\n",
        "isb_video_cleaned= isb_video_cleaned.rename(columns={\n",
        "    'Years Ago': 'Years Since Posted'\n",
        "})"
      ]
    },
    {
      "cell_type": "code",
      "execution_count": null,
      "id": "2927a426-6c68-4338-a540-0401c6bc9abe",
      "metadata": {
        "id": "2927a426-6c68-4338-a540-0401c6bc9abe"
      },
      "outputs": [],
      "source": [
        "#for Simplicity not conversting days,minutes,seconds to Years\n",
        "isb_video_cleaned.tail(3)"
      ]
    },
    {
      "cell_type": "markdown",
      "id": "6ddcebeb-6a76-46a2-bb34-3ccaad3e5954",
      "metadata": {
        "jp-MarkdownHeadingCollapsed": true,
        "id": "6ddcebeb-6a76-46a2-bb34-3ccaad3e5954"
      },
      "source": [
        "## <span style=\"font-size: 20px; color: black;\"> 2. Create a scatterplot to show views as a function of the years since posted. What do you observe? (10pts)"
      ]
    },
    {
      "cell_type": "code",
      "execution_count": null,
      "id": "9a407608-0557-4d2f-b379-44b7f4fa7a0a",
      "metadata": {
        "id": "9a407608-0557-4d2f-b379-44b7f4fa7a0a"
      },
      "outputs": [],
      "source": [
        "isb_video['Views'] = isb_video['Views'].str.replace(',', '').astype(int)"
      ]
    },
    {
      "cell_type": "code",
      "execution_count": null,
      "id": "d79544e7-ce35-4a50-92c3-52438a84a01e",
      "metadata": {
        "id": "d79544e7-ce35-4a50-92c3-52438a84a01e"
      },
      "outputs": [],
      "source": [
        "isb_video_filtered = isb_video[isb_video['Years Ago'].notna()]"
      ]
    },
    {
      "cell_type": "code",
      "execution_count": null,
      "id": "ea176c0e-c01b-4cbc-a1a1-96ce46e09136",
      "metadata": {
        "id": "ea176c0e-c01b-4cbc-a1a1-96ce46e09136"
      },
      "outputs": [],
      "source": [
        "isb_video_filtered.info()"
      ]
    },
    {
      "cell_type": "code",
      "execution_count": null,
      "id": "52fba414-fc98-4546-a62a-27d63913ee05",
      "metadata": {
        "id": "52fba414-fc98-4546-a62a-27d63913ee05"
      },
      "outputs": [],
      "source": [
        "813/883"
      ]
    },
    {
      "cell_type": "markdown",
      "id": "00b4602a-a7ac-4ed9-980c-2a8967a0bf8e",
      "metadata": {
        "id": "00b4602a-a7ac-4ed9-980c-2a8967a0bf8e"
      },
      "source": [
        "92% of the videos or posted over a year ago"
      ]
    },
    {
      "cell_type": "code",
      "execution_count": null,
      "id": "6128056e-17fa-446b-a247-c5bf5e9d4d7e",
      "metadata": {
        "id": "6128056e-17fa-446b-a247-c5bf5e9d4d7e"
      },
      "outputs": [],
      "source": [
        "isb_video_filtered['Years Ago'] = isb_video_filtered['Years Ago'].str.replace(',', '').astype(int)"
      ]
    },
    {
      "cell_type": "code",
      "execution_count": null,
      "id": "3bc5c1b7-cd93-41a3-94fb-a6d0ed1db975",
      "metadata": {
        "scrolled": true,
        "id": "3bc5c1b7-cd93-41a3-94fb-a6d0ed1db975"
      },
      "outputs": [],
      "source": [
        "# Create a DataFrame\n",
        "\n",
        "# Create a scatterplot\n",
        "plt.figure(figsize=(20, 8))\n",
        "plt.scatter(isb_video_filtered['Years Ago'], isb_video_filtered['Views'], color='blue')\n",
        "plt.title('Views vs. Years Since Posted')\n",
        "plt.xlabel('Years Ago')\n",
        "plt.ylabel('Views')\n",
        "plt.grid(True)\n",
        "plt.show()"
      ]
    },
    {
      "cell_type": "markdown",
      "id": "6c60c10f-97cf-4ad8-b101-3df00218d1af",
      "metadata": {
        "id": "6c60c10f-97cf-4ad8-b101-3df00218d1af"
      },
      "source": [
        "This helps me in understanding the correlation between years since posted and no of views"
      ]
    },
    {
      "cell_type": "markdown",
      "id": "46c34d21-f468-488f-b5bb-6863416ea4bf",
      "metadata": {
        "id": "46c34d21-f468-488f-b5bb-6863416ea4bf"
      },
      "source": [
        "* Trend: There nare no as such visible trends, such as more views for videos posted recently or older videos having fewer views\n",
        "* Outliers: There are few videos with exceptionally high views compared to the general trend\n",
        "* Clusters: There are clusters of data points that are indicating different categories or types of videos"
      ]
    },
    {
      "cell_type": "markdown",
      "id": "ce3eb620-1a07-4a57-9ce6-16b0100b08f2",
      "metadata": {
        "id": "ce3eb620-1a07-4a57-9ce6-16b0100b08f2"
      },
      "source": [
        "## <span style=\"font-size: 20px; color: black;\"> 3. What other question do you want to answer using this dataset? Pose a question that interests you and answer it using your analysis. (10 pts)"
      ]
    },
    {
      "cell_type": "code",
      "execution_count": null,
      "id": "91aa625b-02ba-4e33-b1e4-b5b2f43b2351",
      "metadata": {
        "id": "91aa625b-02ba-4e33-b1e4-b5b2f43b2351"
      },
      "outputs": [],
      "source": [
        "isb_video.head(3)"
      ]
    },
    {
      "cell_type": "code",
      "execution_count": null,
      "id": "efca7581-3543-4886-afda-53cc57a37c30",
      "metadata": {
        "id": "efca7581-3543-4886-afda-53cc57a37c30"
      },
      "outputs": [],
      "source": [
        "# Calculating the correlation between 'Years Ago' and 'Views'\n",
        "correlation = isb_video[['Years Ago', 'Views']].corr().iloc[0, 1]"
      ]
    },
    {
      "cell_type": "code",
      "execution_count": null,
      "id": "99b79498-25fe-4a26-92c5-51d6aaa6f006",
      "metadata": {
        "id": "99b79498-25fe-4a26-92c5-51d6aaa6f006"
      },
      "outputs": [],
      "source": [
        "correlation"
      ]
    },
    {
      "cell_type": "markdown",
      "id": "f36a1868-2008-47cd-8398-e92f5330610f",
      "metadata": {
        "id": "f36a1868-2008-47cd-8398-e92f5330610f"
      },
      "source": [
        "so not highly correlated"
      ]
    },
    {
      "cell_type": "code",
      "execution_count": null,
      "id": "ed89ddbb-e798-48dc-bc4b-e5d42c6f5e42",
      "metadata": {
        "id": "ed89ddbb-e798-48dc-bc4b-e5d42c6f5e42"
      },
      "outputs": [],
      "source": [
        "isb_video_filtered_2=isb_video[isb_video['Years Ago'].isna()]"
      ]
    },
    {
      "cell_type": "code",
      "execution_count": null,
      "id": "cd022a25-2fe9-4737-bd18-bc1a8aef74c6",
      "metadata": {
        "id": "cd022a25-2fe9-4737-bd18-bc1a8aef74c6"
      },
      "outputs": [],
      "source": [
        "isb_video_filtered_2.tail(3)"
      ]
    },
    {
      "cell_type": "code",
      "execution_count": null,
      "id": "38e2037f-156c-4099-b6f3-67677bdcbe1e",
      "metadata": {
        "id": "38e2037f-156c-4099-b6f3-67677bdcbe1e"
      },
      "outputs": [],
      "source": [
        "isb_video_filtered_2.info()"
      ]
    },
    {
      "cell_type": "code",
      "execution_count": null,
      "id": "999f6537-c7c8-4cb6-bdc9-d58777cd49b8",
      "metadata": {
        "id": "999f6537-c7c8-4cb6-bdc9-d58777cd49b8"
      },
      "outputs": [],
      "source": [
        "isb_video_filtered_3 = isb_video_filtered_2[isb_video_filtered_2['Days Ago'].notna()]"
      ]
    },
    {
      "cell_type": "code",
      "execution_count": null,
      "id": "323ce02b-1a52-4e3a-9511-327744471260",
      "metadata": {
        "id": "323ce02b-1a52-4e3a-9511-327744471260"
      },
      "outputs": [],
      "source": [
        "isb_video_filtered_2.info()"
      ]
    },
    {
      "cell_type": "markdown",
      "id": "644f1853-8745-4142-afd5-e071979ef36b",
      "metadata": {
        "id": "644f1853-8745-4142-afd5-e071979ef36b"
      },
      "source": [
        "* so it shows that Days are not a very significant angle to check and we can focus on Years , Views or any categorical data"
      ]
    },
    {
      "cell_type": "code",
      "execution_count": null,
      "id": "a11879b5-db5e-4761-8ecd-f9e6d3a0aca3",
      "metadata": {
        "id": "a11879b5-db5e-4761-8ecd-f9e6d3a0aca3"
      },
      "outputs": [],
      "source": [
        "isb_video.head(3)"
      ]
    },
    {
      "cell_type": "code",
      "execution_count": null,
      "id": "e20269f4-575c-4e5b-9308-fe5611c5e785",
      "metadata": {
        "id": "e20269f4-575c-4e5b-9308-fe5611c5e785"
      },
      "outputs": [],
      "source": [
        "#we can check histogram for Views to understand the distribution"
      ]
    },
    {
      "cell_type": "code",
      "execution_count": null,
      "id": "a205ef57-fb2f-4b6b-baaa-d38948c60db3",
      "metadata": {
        "id": "a205ef57-fb2f-4b6b-baaa-d38948c60db3"
      },
      "outputs": [],
      "source": [
        "# Assuming 'isb_video' DataFrame is already defined and 'Views' column exists\n",
        "Q1 = isb_video['Views'].quantile(0.25)\n",
        "Q3 = isb_video['Views'].quantile(0.75)"
      ]
    },
    {
      "cell_type": "code",
      "execution_count": null,
      "id": "fd8e42a3-98a4-4901-9b8c-b5385e82d33a",
      "metadata": {
        "id": "fd8e42a3-98a4-4901-9b8c-b5385e82d33a"
      },
      "outputs": [],
      "source": [
        "Q1"
      ]
    },
    {
      "cell_type": "code",
      "execution_count": null,
      "id": "2b556ce3-8278-443e-9600-16258c60d33d",
      "metadata": {
        "id": "2b556ce3-8278-443e-9600-16258c60d33d"
      },
      "outputs": [],
      "source": [
        "Q3"
      ]
    },
    {
      "cell_type": "code",
      "execution_count": null,
      "id": "9fc1cc9d-bbfb-4ad7-97ec-9dcd688cd163",
      "metadata": {
        "id": "9fc1cc9d-bbfb-4ad7-97ec-9dcd688cd163"
      },
      "outputs": [],
      "source": [
        "IQR = Q3 - Q1"
      ]
    },
    {
      "cell_type": "code",
      "execution_count": null,
      "id": "71cfa597-bae9-41a2-926b-b5d206d271b1",
      "metadata": {
        "id": "71cfa597-bae9-41a2-926b-b5d206d271b1"
      },
      "outputs": [],
      "source": [
        "IQR"
      ]
    },
    {
      "cell_type": "code",
      "execution_count": null,
      "id": "d3e8022f-a5aa-4b18-9d44-85ffd82a475c",
      "metadata": {
        "id": "d3e8022f-a5aa-4b18-9d44-85ffd82a475c"
      },
      "outputs": [],
      "source": [
        "# Defining outliers as those outside 1.5*IQR from Q1 and Q3\n",
        "lower_bound = Q1 - 1.5 * IQR\n",
        "upper_bound = Q3 + 1.5 * IQR"
      ]
    },
    {
      "cell_type": "code",
      "execution_count": null,
      "id": "d7e0fdd3-e94a-4cef-8361-1564b28de5cb",
      "metadata": {
        "id": "d7e0fdd3-e94a-4cef-8361-1564b28de5cb"
      },
      "outputs": [],
      "source": [
        "lower_bound"
      ]
    },
    {
      "cell_type": "code",
      "execution_count": null,
      "id": "362b6e46-bbfb-41ea-a25e-43b3167f0ed1",
      "metadata": {
        "id": "362b6e46-bbfb-41ea-a25e-43b3167f0ed1"
      },
      "outputs": [],
      "source": [
        "upper_bound"
      ]
    },
    {
      "cell_type": "code",
      "execution_count": null,
      "id": "52d1bcc8-34a4-4329-896f-9ed2a9ac5fa0",
      "metadata": {
        "id": "52d1bcc8-34a4-4329-896f-9ed2a9ac5fa0"
      },
      "outputs": [],
      "source": [
        "# Filtering out outliers\n",
        "filtered_df = isb_video[(isb_video['Views'] >= lower_bound) & (isb_video['Views'] <= upper_bound)]"
      ]
    },
    {
      "cell_type": "code",
      "execution_count": null,
      "id": "9efc8d3f-fee7-40c9-9c91-c1d4158e51d4",
      "metadata": {
        "scrolled": true,
        "id": "9efc8d3f-fee7-40c9-9c91-c1d4158e51d4"
      },
      "outputs": [],
      "source": [
        "\n",
        "#histogram of views\n",
        "plt.figure(figsize=(8, 6))\n",
        "plt.hist(filtered_df['Views'], bins=60, edgecolor='black')\n",
        "plt.title('Histogram of Views (Without Outliers)')\n",
        "plt.xlabel('Views')\n",
        "plt.ylabel('Frequency')\n",
        "plt.show()\n"
      ]
    },
    {
      "cell_type": "markdown",
      "id": "d2fedbe5-08f9-4fe8-a811-34b11a243799",
      "metadata": {
        "id": "d2fedbe5-08f9-4fe8-a811-34b11a243799"
      },
      "source": [
        "so right skewed distribution"
      ]
    },
    {
      "cell_type": "markdown",
      "id": "8e88cf15-bb95-4629-9b44-dc5ec5771ce1",
      "metadata": {
        "jp-MarkdownHeadingCollapsed": true,
        "id": "8e88cf15-bb95-4629-9b44-dc5ec5771ce1"
      },
      "source": [
        "# <span style=\"font-size: 30px; color: brown;\"> Question 5 (40 pts)</span>"
      ]
    },
    {
      "cell_type": "markdown",
      "id": "a9856937-239e-41cb-879f-d203a1898924",
      "metadata": {
        "id": "a9856937-239e-41cb-879f-d203a1898924"
      },
      "source": [
        "Import the quotes_sentiment_data.parquet file. This file has sentiment scores generated for 1000\n",
        "random quotes. The scores column is the sentiment score from the NLTK VADER module. The\n",
        "sentiment column has score from the stanza package."
      ]
    },
    {
      "cell_type": "code",
      "execution_count": null,
      "id": "283482db-caf4-4925-925f-97ebccbe785b",
      "metadata": {
        "id": "283482db-caf4-4925-925f-97ebccbe785b"
      },
      "outputs": [],
      "source": [
        "# Loading the quotes file\n",
        "quotes = pd.read_parquet('quotes_sentiment_data.parquet')"
      ]
    },
    {
      "cell_type": "code",
      "execution_count": null,
      "id": "610ff2fa-44b3-432b-bc63-102072a7fa9a",
      "metadata": {
        "id": "610ff2fa-44b3-432b-bc63-102072a7fa9a"
      },
      "outputs": [],
      "source": [
        "quotes.head(3)"
      ]
    },
    {
      "cell_type": "markdown",
      "id": "bfec0d3b-50a2-4eab-936e-2c8768a724e6",
      "metadata": {
        "id": "bfec0d3b-50a2-4eab-936e-2c8768a724e6"
      },
      "source": [
        "## <span style=\"font-size: 20px; color: black;\"> 1. Rename the columns to reflect the method used. (5 pts)"
      ]
    },
    {
      "cell_type": "code",
      "execution_count": null,
      "id": "98652c76-20d9-4cd4-af4c-e3dae71dbef3",
      "metadata": {
        "id": "98652c76-20d9-4cd4-af4c-e3dae71dbef3"
      },
      "outputs": [],
      "source": [
        "quotes.columns"
      ]
    },
    {
      "cell_type": "code",
      "execution_count": null,
      "id": "07169db5-d24b-45bd-a115-0f5ef1b79c94",
      "metadata": {
        "id": "07169db5-d24b-45bd-a115-0f5ef1b79c94"
      },
      "outputs": [],
      "source": [
        "# Rename columns\n",
        "quotes= quotes.rename(columns={\n",
        "    'scores': 'NLTK_VADER_scores',\n",
        "    'sentiment': 'Stanza_sentiment'\n",
        "})"
      ]
    },
    {
      "cell_type": "code",
      "execution_count": null,
      "id": "fbfcdfb1-0499-42d3-bbae-07eee407928a",
      "metadata": {
        "id": "fbfcdfb1-0499-42d3-bbae-07eee407928a"
      },
      "outputs": [],
      "source": [
        "quotes.columns"
      ]
    },
    {
      "cell_type": "code",
      "execution_count": null,
      "id": "b6b4539c-302c-4f2e-938f-7620b7ffea79",
      "metadata": {
        "id": "b6b4539c-302c-4f2e-938f-7620b7ffea79"
      },
      "outputs": [],
      "source": [
        "quotes"
      ]
    },
    {
      "cell_type": "markdown",
      "id": "366ac576-f23e-45da-89f1-a95db5a91bc6",
      "metadata": {
        "id": "366ac576-f23e-45da-89f1-a95db5a91bc6"
      },
      "source": [
        "## <span style=\"font-size: 20px; color: black;\"> 2. Parse out the compound score from the VADER method and put it in a new column. (10 pts)"
      ]
    },
    {
      "cell_type": "code",
      "execution_count": null,
      "id": "f86da8ee-755a-4b30-965b-ae4247170e71",
      "metadata": {
        "id": "f86da8ee-755a-4b30-965b-ae4247170e71"
      },
      "outputs": [],
      "source": [
        "quotes['NLTK_VADER_scores']"
      ]
    },
    {
      "cell_type": "code",
      "execution_count": null,
      "id": "82450266-4e71-4a2f-a882-6bb6238c3faa",
      "metadata": {
        "id": "82450266-4e71-4a2f-a882-6bb6238c3faa"
      },
      "outputs": [],
      "source": [
        "import re\n",
        "# Defining a regex pattern to extract the compound value\n",
        "\n",
        "pattern = r\"'compound':\\s*(-?\\d+\\.\\d+)\"\n",
        "\n",
        "# Function to apply regex and extract the compound value\n",
        "def extract_compound(text):\n",
        "    match = re.search(pattern, text)\n",
        "    if match:\n",
        "        return float(match.group(1))\n",
        "    return None"
      ]
    },
    {
      "cell_type": "code",
      "execution_count": null,
      "id": "a7199342-299f-47ad-bc5e-83bc62568d5b",
      "metadata": {
        "id": "a7199342-299f-47ad-bc5e-83bc62568d5b"
      },
      "outputs": [],
      "source": [
        "# Extracting compound values from dictionaries and creating a new column\n",
        "quotes['compound'] = quotes['NLTK_VADER_scores'].apply(lambda x: x.get('compound'))"
      ]
    },
    {
      "cell_type": "code",
      "execution_count": null,
      "id": "d60c8798-c913-4597-a5c0-7e150e3801c3",
      "metadata": {
        "id": "d60c8798-c913-4597-a5c0-7e150e3801c3"
      },
      "outputs": [],
      "source": [
        "quotes.head(3)"
      ]
    },
    {
      "cell_type": "markdown",
      "id": "42fd249d-fea1-475d-b797-7fb69adce1e7",
      "metadata": {
        "id": "42fd249d-fea1-475d-b797-7fb69adce1e7"
      },
      "source": [
        "## <span style=\"font-size: 20px; color: black;\"> 3. The sentiment score for each quote generated by stanza has several numbers, one for each sentence. Create an average score by averaging over all sentences. Create a new column to store the averagescore. (10 pts)"
      ]
    },
    {
      "cell_type": "code",
      "execution_count": null,
      "id": "57ec5f34-f91a-405b-bf43-c6fda98c1cfd",
      "metadata": {
        "id": "57ec5f34-f91a-405b-bf43-c6fda98c1cfd"
      },
      "outputs": [],
      "source": [
        "type(quotes['Stanza_sentiment'])"
      ]
    },
    {
      "cell_type": "code",
      "execution_count": null,
      "id": "772c7b86-2598-426f-946e-d494187858ee",
      "metadata": {
        "id": "772c7b86-2598-426f-946e-d494187858ee"
      },
      "outputs": [],
      "source": [
        "# Creating a Function to compute the average of a list\n",
        "def average_sentiment(scores):\n",
        "    if scores:\n",
        "        return sum(scores) / len(scores)\n",
        "    return None\n"
      ]
    },
    {
      "cell_type": "code",
      "execution_count": null,
      "id": "11ab0f56-6640-40d7-9135-3c119ee80dfb",
      "metadata": {
        "id": "11ab0f56-6640-40d7-9135-3c119ee80dfb"
      },
      "outputs": [],
      "source": [
        "# Applying the function to compute the average sentiment score\n",
        "quotes['average_score'] = quotes['Stanza_sentiment'].apply(lambda x: average_sentiment(x.tolist()))"
      ]
    },
    {
      "cell_type": "code",
      "execution_count": null,
      "id": "6be2878d-f244-4fcf-bb79-f32825e42f7f",
      "metadata": {
        "scrolled": true,
        "id": "6be2878d-f244-4fcf-bb79-f32825e42f7f"
      },
      "outputs": [],
      "source": [
        "quotes.tail(8)"
      ]
    },
    {
      "cell_type": "markdown",
      "id": "14ab9d16-7709-46cc-94a3-179fd7374eca",
      "metadata": {
        "id": "14ab9d16-7709-46cc-94a3-179fd7374eca"
      },
      "source": [
        "## <span style=\"font-size: 20px; color: black;\"> 4. Let us examine if the two methods are consistent in scoring the sentiment. Make a scatterplot of VADER compound score against the average stanza score. What would you expect if the two methods are consistent? What do you observe? What is your conclusion?"
      ]
    },
    {
      "cell_type": "code",
      "execution_count": null,
      "id": "9875f717-46f4-4527-8170-6eb2057392e8",
      "metadata": {
        "id": "9875f717-46f4-4527-8170-6eb2057392e8"
      },
      "outputs": [],
      "source": [
        "import pandas as pd\n",
        "import matplotlib.pyplot as plt\n",
        "\n",
        "\n",
        "# Create the scatterplot\n",
        "plt.figure(figsize=(10, 6))\n",
        "plt.scatter(quotes['compound'], quotes['average_score'], color='blue')\n",
        "plt.title('Scatterplot of VADER Compound Score vs. Average Stanza Score')\n",
        "plt.xlabel('VADER Compound Score')\n",
        "plt.ylabel('Average Stanza Score')\n",
        "plt.grid(True)\n",
        "plt.show()\n"
      ]
    },
    {
      "cell_type": "code",
      "execution_count": null,
      "id": "b043f6aa-b259-4530-a941-8c32a3756920",
      "metadata": {
        "id": "b043f6aa-b259-4530-a941-8c32a3756920"
      },
      "outputs": [],
      "source": [
        "# Calculating the correlation between 'Years since posted' and 'Views'\n",
        "correlation = quotes[['compound', 'average_score']].corr().iloc[0, 1]\n",
        "#print(f\"Correlation between Years Since Posted and Views: {correlation:.2f}\")"
      ]
    },
    {
      "cell_type": "code",
      "execution_count": null,
      "id": "58a7ea1f-2e16-4f07-8125-f6fb85998dda",
      "metadata": {
        "id": "58a7ea1f-2e16-4f07-8125-f6fb85998dda"
      },
      "outputs": [],
      "source": [
        "correlation"
      ]
    },
    {
      "cell_type": "markdown",
      "id": "e3d79cbe-e432-432a-a4fe-a7ad56f0ef36",
      "metadata": {
        "id": "e3d79cbe-e432-432a-a4fe-a7ad56f0ef36"
      },
      "source": [
        "would have expected a higher value of correlation if both the methods are consistent"
      ]
    },
    {
      "cell_type": "markdown",
      "id": "f23c4f73-48a8-48b6-8fc3-f19a516768d0",
      "metadata": {
        "jp-MarkdownHeadingCollapsed": true,
        "id": "f23c4f73-48a8-48b6-8fc3-f19a516768d0"
      },
      "source": [
        "# <span style=\"font-size: 30px; color: brown;\"> Question 6 (45 pts)</span>\n"
      ]
    },
    {
      "cell_type": "markdown",
      "id": "e8d079f9-4e95-403e-a894-f3f953b68dbc",
      "metadata": {
        "id": "e8d079f9-4e95-403e-a894-f3f953b68dbc"
      },
      "source": [
        "Import the file office_iot.csv. We will only use data for the single day, February 5, 2015 for this\n",
        "question."
      ]
    },
    {
      "cell_type": "code",
      "execution_count": null,
      "id": "7d3fe69b-54a7-4264-86a2-1ca717563fb1",
      "metadata": {
        "id": "7d3fe69b-54a7-4264-86a2-1ca717563fb1"
      },
      "outputs": [],
      "source": [
        "import pandas as pd\n",
        "office_iot=pd.read_csv('office_iot.csv')"
      ]
    },
    {
      "cell_type": "code",
      "execution_count": null,
      "id": "3a9c93d4-f902-446c-b1be-50f363cc060a",
      "metadata": {
        "id": "3a9c93d4-f902-446c-b1be-50f363cc060a"
      },
      "outputs": [],
      "source": [
        "office_iot.tail()"
      ]
    },
    {
      "cell_type": "code",
      "execution_count": null,
      "id": "a5befd31-9cdb-49d6-a4e2-095800e91adb",
      "metadata": {
        "scrolled": true,
        "id": "a5befd31-9cdb-49d6-a4e2-095800e91adb"
      },
      "outputs": [],
      "source": [
        "office_iot.info()"
      ]
    },
    {
      "cell_type": "markdown",
      "id": "8c29abef-e400-4e3b-bf05-6f67853ed5d2",
      "metadata": {
        "id": "8c29abef-e400-4e3b-bf05-6f67853ed5d2"
      },
      "source": [
        "## <span style=\"font-size: 20px; color: black;\"> 1. Create the dataframe with data from February 5, 2015. (5 pts)"
      ]
    },
    {
      "cell_type": "code",
      "execution_count": null,
      "id": "53d1c3a3-8273-44e2-8f91-3a1e07c0ccbf",
      "metadata": {
        "id": "53d1c3a3-8273-44e2-8f91-3a1e07c0ccbf"
      },
      "outputs": [],
      "source": [
        "# Converting 'Date' column to datetime format\n",
        "office_iot['date'] = pd.to_datetime(office_iot['date'],dayfirst=False)"
      ]
    },
    {
      "cell_type": "code",
      "execution_count": null,
      "id": "f79d9efb-2d4e-49f6-a230-469d098a89d4",
      "metadata": {
        "id": "f79d9efb-2d4e-49f6-a230-469d098a89d4"
      },
      "outputs": [],
      "source": [
        "office_iot.info()"
      ]
    },
    {
      "cell_type": "code",
      "execution_count": null,
      "id": "6d71cc49-a9ef-4bf2-9bfe-d1a20ce613bf",
      "metadata": {
        "id": "6d71cc49-a9ef-4bf2-9bfe-d1a20ce613bf"
      },
      "outputs": [],
      "source": [
        "office_iot.head(3)"
      ]
    },
    {
      "cell_type": "code",
      "execution_count": null,
      "id": "9f1bc105-afc8-44aa-a818-29c077c4113c",
      "metadata": {
        "id": "9f1bc105-afc8-44aa-a818-29c077c4113c"
      },
      "outputs": [],
      "source": [
        "office_iot['date'].dt.date"
      ]
    },
    {
      "cell_type": "code",
      "execution_count": null,
      "id": "91c578f1-6a44-40f9-a835-6d2d97023b25",
      "metadata": {
        "id": "91c578f1-6a44-40f9-a835-6d2d97023b25"
      },
      "outputs": [],
      "source": [
        "office_iot['date'].dt.month.nunique()"
      ]
    },
    {
      "cell_type": "code",
      "execution_count": null,
      "id": "07152b68-320c-4e76-a872-7416f5b9583e",
      "metadata": {
        "id": "07152b68-320c-4e76-a872-7416f5b9583e"
      },
      "outputs": [],
      "source": [
        "office_iot['date'].dt.date.nunique()"
      ]
    },
    {
      "cell_type": "code",
      "execution_count": null,
      "id": "f2bfe3f3-5015-4e65-9e3f-6872025a566f",
      "metadata": {
        "id": "f2bfe3f3-5015-4e65-9e3f-6872025a566f"
      },
      "outputs": [],
      "source": [
        "office_iot['date'].dt.date.unique()"
      ]
    },
    {
      "cell_type": "code",
      "execution_count": null,
      "id": "a5008050-9c47-4e69-8e22-6daa45e3ebd4",
      "metadata": {
        "id": "a5008050-9c47-4e69-8e22-6daa45e3ebd4"
      },
      "outputs": [],
      "source": [
        "# Defining the filter date\n",
        "filter_date = pd.to_datetime('2015-02-05')"
      ]
    },
    {
      "cell_type": "code",
      "execution_count": null,
      "id": "28226332-e56d-4273-9c40-6dd9d2684915",
      "metadata": {
        "id": "28226332-e56d-4273-9c40-6dd9d2684915"
      },
      "outputs": [],
      "source": [
        "filter_date.date"
      ]
    },
    {
      "cell_type": "code",
      "execution_count": null,
      "id": "36e2e7db-f7c2-4332-bb33-8f932010c431",
      "metadata": {
        "id": "36e2e7db-f7c2-4332-bb33-8f932010c431"
      },
      "outputs": [],
      "source": [
        "filter_date.date()"
      ]
    },
    {
      "cell_type": "code",
      "execution_count": null,
      "id": "64ebf7c1-6045-456c-a9f3-cd00e16abbcb",
      "metadata": {
        "id": "64ebf7c1-6045-456c-a9f3-cd00e16abbcb"
      },
      "outputs": [],
      "source": [
        "Feb5_data = office_iot[office_iot['date'].dt.date == filter_date.date()]"
      ]
    },
    {
      "cell_type": "code",
      "execution_count": null,
      "id": "35fff4cc-7463-4eec-973a-1e92f3e83baa",
      "metadata": {
        "id": "35fff4cc-7463-4eec-973a-1e92f3e83baa"
      },
      "outputs": [],
      "source": [
        "Feb5_data.head(3)"
      ]
    },
    {
      "cell_type": "code",
      "execution_count": null,
      "id": "3802a629-b916-454a-995c-38a5ee91db49",
      "metadata": {
        "id": "3802a629-b916-454a-995c-38a5ee91db49"
      },
      "outputs": [],
      "source": [
        "Feb5_data.info()"
      ]
    },
    {
      "cell_type": "code",
      "execution_count": null,
      "id": "3caaf4e4-6f2d-44df-9a2a-7b61a5ccf353",
      "metadata": {
        "id": "3caaf4e4-6f2d-44df-9a2a-7b61a5ccf353"
      },
      "outputs": [],
      "source": [
        "#making date values as index\n",
        "Feb5_data.set_index('date', inplace=True)\n"
      ]
    },
    {
      "cell_type": "code",
      "execution_count": null,
      "id": "526734b6-91e9-48fe-b64e-9722f5ff0669",
      "metadata": {
        "id": "526734b6-91e9-48fe-b64e-9722f5ff0669"
      },
      "outputs": [],
      "source": [
        "Feb5_data.head(3)"
      ]
    },
    {
      "cell_type": "markdown",
      "id": "3947c5ed-1cf8-4e03-ae0f-eff9c1c72083",
      "metadata": {
        "id": "3947c5ed-1cf8-4e03-ae0f-eff9c1c72083"
      },
      "source": [
        "## <span style=\"font-size: 20px; color: black;\"> 2. Create a bar plot that shows the average temperature when room is occupied and when it is not occupied. Write your observations from the bar plot. (10 pts)"
      ]
    },
    {
      "cell_type": "code",
      "execution_count": null,
      "id": "178edc07-19e1-4b65-8030-51ec9bfef071",
      "metadata": {
        "id": "178edc07-19e1-4b65-8030-51ec9bfef071"
      },
      "outputs": [],
      "source": [
        "Feb5_data.describe()"
      ]
    },
    {
      "cell_type": "code",
      "execution_count": null,
      "id": "e6e70ba5-7029-4946-a8f9-5f4b3244cda2",
      "metadata": {
        "id": "e6e70ba5-7029-4946-a8f9-5f4b3244cda2"
      },
      "outputs": [],
      "source": [
        "Feb5_data['Occupancy'].unique()"
      ]
    },
    {
      "cell_type": "code",
      "execution_count": null,
      "id": "87cc0b90-de04-4cf5-97f3-8019cce52d22",
      "metadata": {
        "id": "87cc0b90-de04-4cf5-97f3-8019cce52d22"
      },
      "outputs": [],
      "source": [
        "average_temp = Feb5_data.groupby('Occupancy')['Temperature'].mean()"
      ]
    },
    {
      "cell_type": "code",
      "execution_count": null,
      "id": "3d90515d-a9bb-4bf1-b903-191c81da8767",
      "metadata": {
        "id": "3d90515d-a9bb-4bf1-b903-191c81da8767"
      },
      "outputs": [],
      "source": [
        "average_temp"
      ]
    },
    {
      "cell_type": "code",
      "execution_count": null,
      "id": "39a18d07-b9ec-44a2-80d6-c5e9b0570ee2",
      "metadata": {
        "id": "39a18d07-b9ec-44a2-80d6-c5e9b0570ee2"
      },
      "outputs": [],
      "source": [
        "import matplotlib.pyplot as plt"
      ]
    },
    {
      "cell_type": "code",
      "execution_count": null,
      "id": "05b886a3-0ce4-4b40-b08c-3f2549fb2c4e",
      "metadata": {
        "scrolled": true,
        "id": "05b886a3-0ce4-4b40-b08c-3f2549fb2c4e"
      },
      "outputs": [],
      "source": [
        "# Create a bar plot\n",
        "plt.figure(figsize=(10, 8))\n",
        "average_temp.plot(kind='bar', color=['blue', 'red'])\n",
        "plt.xlabel('Occupancy Status')\n",
        "plt.ylabel('Average Temperature')\n",
        "plt.title('Average Temperature When Room is Occupied vs Not Occupied')\n",
        "plt.xticks(ticks=[0, 1], labels=['Not Occupied', 'Occupied'], rotation=0)\n",
        "plt.grid(axis='y', linestyle='--', alpha=0.7)\n",
        "plt.show()"
      ]
    },
    {
      "cell_type": "markdown",
      "id": "ad8bdfc5-5222-4dcf-8ee1-6230dde8f03a",
      "metadata": {
        "id": "ad8bdfc5-5222-4dcf-8ee1-6230dde8f03a"
      },
      "source": [
        "* Obervation : Average temperature of the room is higher when it is occupied"
      ]
    },
    {
      "cell_type": "markdown",
      "id": "9b9038b1-64d4-40b4-823a-595026392816",
      "metadata": {
        "id": "9b9038b1-64d4-40b4-823a-595026392816"
      },
      "source": [
        "## <span style=\"font-size: 20px; color: black;\"> 3. Repeat above with average humidity. (10 pts)"
      ]
    },
    {
      "cell_type": "code",
      "execution_count": null,
      "id": "fd8b93fc-5bb0-41b0-af5b-b5b14c1f9776",
      "metadata": {
        "id": "fd8b93fc-5bb0-41b0-af5b-b5b14c1f9776"
      },
      "outputs": [],
      "source": [
        "average_humidity = Feb5_data.groupby('Occupancy')['Humidity'].mean()"
      ]
    },
    {
      "cell_type": "code",
      "execution_count": null,
      "id": "40dd1bf9-ad42-45ba-86bd-50e9e7a68a40",
      "metadata": {
        "id": "40dd1bf9-ad42-45ba-86bd-50e9e7a68a40"
      },
      "outputs": [],
      "source": [
        "average_humidity"
      ]
    },
    {
      "cell_type": "code",
      "execution_count": null,
      "id": "96ba55db-e416-40e0-8cc5-ada266304e8f",
      "metadata": {
        "scrolled": true,
        "id": "96ba55db-e416-40e0-8cc5-ada266304e8f"
      },
      "outputs": [],
      "source": [
        "# Create a bar plot\n",
        "plt.figure(figsize=(10, 8))\n",
        "average_humidity.plot(kind='bar', color=['blue', 'red'])\n",
        "plt.xlabel('Occupancy Status')\n",
        "plt.ylabel('Average Humidity')\n",
        "plt.title('Average Humidity When Room is Occupied vs Not Occupied')\n",
        "plt.xticks(ticks=[0, 1], labels=['Not Occupied', 'Occupied'], rotation=0)\n",
        "plt.grid(axis='y', linestyle='--', alpha=0.7)\n",
        "plt.show()"
      ]
    },
    {
      "cell_type": "markdown",
      "id": "ea9c04dc-351e-475a-acc2-0228237b2b39",
      "metadata": {
        "id": "ea9c04dc-351e-475a-acc2-0228237b2b39"
      },
      "source": [
        "* Obervation : Average Humidity of the room is higher when it is occupied"
      ]
    },
    {
      "cell_type": "markdown",
      "id": "d6a1ac47-298e-4677-9ab3-5ed1b4d43754",
      "metadata": {
        "id": "d6a1ac47-298e-4677-9ab3-5ed1b4d43754"
      },
      "source": [
        "## <span style=\"font-size: 20px; color: black;\"> 4. With average Light. (10 pts)"
      ]
    },
    {
      "cell_type": "code",
      "execution_count": null,
      "id": "803c188a-b2b9-4a50-aff2-ec15bb414ceb",
      "metadata": {
        "id": "803c188a-b2b9-4a50-aff2-ec15bb414ceb"
      },
      "outputs": [],
      "source": [
        "average_Light = Feb5_data.groupby('Occupancy')['Light'].mean()"
      ]
    },
    {
      "cell_type": "code",
      "execution_count": null,
      "id": "64f67a0a-371f-4272-82db-093078afb59a",
      "metadata": {
        "id": "64f67a0a-371f-4272-82db-093078afb59a"
      },
      "outputs": [],
      "source": [
        "average_Light"
      ]
    },
    {
      "cell_type": "code",
      "execution_count": null,
      "id": "9ade2b11-a223-49b8-a4cd-9dab017d939e",
      "metadata": {
        "id": "9ade2b11-a223-49b8-a4cd-9dab017d939e"
      },
      "outputs": [],
      "source": [
        "# Create a bar plot\n",
        "plt.figure(figsize=(10, 8))\n",
        "average_Light.plot(kind='bar', color=['blue', 'red'])\n",
        "plt.xlabel('Occupancy Status')\n",
        "plt.ylabel('Average Light')\n",
        "plt.title('Average Light When Room is Occupied vs Not Occupied')\n",
        "plt.xticks(ticks=[0, 1], labels=['Not Occupied', 'Occupied'], rotation=0)\n",
        "plt.grid(axis='y', linestyle='--', alpha=0.7)\n",
        "plt.show()"
      ]
    },
    {
      "cell_type": "markdown",
      "id": "160b58df-4ab8-4188-9782-358cbc8615e1",
      "metadata": {
        "id": "160b58df-4ab8-4188-9782-358cbc8615e1"
      },
      "source": [
        "* Obervation : Average Light is over 400 when the room is occupied"
      ]
    },
    {
      "cell_type": "markdown",
      "id": "fa31fe99-b38f-435a-88be-5b19236cc4ac",
      "metadata": {
        "id": "fa31fe99-b38f-435a-88be-5b19236cc4ac"
      },
      "source": [
        "## <span style=\"font-size: 20px; color: black;\"> 5. With average CO2. (10 pts)"
      ]
    },
    {
      "cell_type": "code",
      "execution_count": null,
      "id": "9eaac9d1-9541-4887-a840-d1952edcc3f9",
      "metadata": {
        "id": "9eaac9d1-9541-4887-a840-d1952edcc3f9"
      },
      "outputs": [],
      "source": [
        "average_CO2 = Feb5_data.groupby('Occupancy')['CO2'].mean()"
      ]
    },
    {
      "cell_type": "code",
      "execution_count": null,
      "id": "07122ac4-9e03-46e4-90a0-20c9210c97ad",
      "metadata": {
        "id": "07122ac4-9e03-46e4-90a0-20c9210c97ad"
      },
      "outputs": [],
      "source": [
        "average_CO2"
      ]
    },
    {
      "cell_type": "code",
      "execution_count": null,
      "id": "22a10557-5a92-481f-8190-179132e896f7",
      "metadata": {
        "id": "22a10557-5a92-481f-8190-179132e896f7"
      },
      "outputs": [],
      "source": [
        "# Create a bar plot\n",
        "plt.figure(figsize=(10, 8))\n",
        "average_CO2.plot(kind='bar', color=['blue', 'red'])\n",
        "plt.xlabel('Occupancy Status')\n",
        "plt.ylabel('Average CO2')\n",
        "plt.title('Average CO2 When Room is Occupied vs Not Occupied')\n",
        "plt.xticks(ticks=[0, 1], labels=['Not Occupied', 'Occupied'], rotation=0)\n",
        "plt.grid(axis='y', linestyle='--', alpha=0.7)\n",
        "plt.show()"
      ]
    },
    {
      "cell_type": "markdown",
      "id": "aa10dffb-378e-4c10-afe4-1a7e3896454f",
      "metadata": {
        "id": "aa10dffb-378e-4c10-afe4-1a7e3896454f"
      },
      "source": [
        "* Obervation : Average CO2 is higher when the room is occupied"
      ]
    }
  ],
  "metadata": {
    "kernelspec": {
      "display_name": "Python 3 (ipykernel)",
      "language": "python",
      "name": "python3"
    },
    "language_info": {
      "codemirror_mode": {
        "name": "ipython",
        "version": 3
      },
      "file_extension": ".py",
      "mimetype": "text/x-python",
      "name": "python",
      "nbconvert_exporter": "python",
      "pygments_lexer": "ipython3",
      "version": "3.11.7"
    },
    "colab": {
      "provenance": []
    }
  },
  "nbformat": 4,
  "nbformat_minor": 5
}